{
 "cells": [
  {
   "cell_type": "code",
   "execution_count": 1,
   "id": "699183c2",
   "metadata": {},
   "outputs": [
    {
     "name": "stdout",
     "output_type": "stream",
     "text": [
      "Requirement already satisfied: pyspark in c:\\programdata\\anaconda3\\lib\\site-packages (3.2.0)\n",
      "Requirement already satisfied: py4j==0.10.9.2 in c:\\programdata\\anaconda3\\lib\\site-packages (from pyspark) (0.10.9.2)\n"
     ]
    }
   ],
   "source": [
    "!pip install pyspark\n"
   ]
  },
  {
   "cell_type": "code",
   "execution_count": 2,
   "id": "38fbd7f0",
   "metadata": {},
   "outputs": [],
   "source": [
    "from pyspark.sql import SparkSession\n",
    "spark=SparkSession.builder.appName('App6').getOrCreate()"
   ]
  },
  {
   "cell_type": "code",
   "execution_count": 3,
   "id": "c3677d33",
   "metadata": {},
   "outputs": [
    {
     "data": {
      "text/html": [
       "\n",
       "            <div>\n",
       "                <p><b>SparkSession - in-memory</b></p>\n",
       "                \n",
       "        <div>\n",
       "            <p><b>SparkContext</b></p>\n",
       "\n",
       "            <p><a href=\"http://host.docker.internal:4041\">Spark UI</a></p>\n",
       "\n",
       "            <dl>\n",
       "              <dt>Version</dt>\n",
       "                <dd><code>v3.2.0</code></dd>\n",
       "              <dt>Master</dt>\n",
       "                <dd><code>local[*]</code></dd>\n",
       "              <dt>AppName</dt>\n",
       "                <dd><code>App5</code></dd>\n",
       "            </dl>\n",
       "        </div>\n",
       "        \n",
       "            </div>\n",
       "        "
      ],
      "text/plain": [
       "<pyspark.sql.session.SparkSession at 0x25cf69df9d0>"
      ]
     },
     "execution_count": 3,
     "metadata": {},
     "output_type": "execute_result"
    }
   ],
   "source": [
    "spark"
   ]
  },
  {
   "cell_type": "code",
   "execution_count": 4,
   "id": "ea5e3e82",
   "metadata": {},
   "outputs": [],
   "source": [
    "from pyspark.sql import SparkSession"
   ]
  },
  {
   "cell_type": "code",
   "execution_count": 5,
   "id": "5ac4617a",
   "metadata": {},
   "outputs": [],
   "source": [
    "spark=SparkSession.builder.appName('App6').getOrCreate()"
   ]
  },
  {
   "cell_type": "code",
   "execution_count": 6,
   "id": "2bb31730",
   "metadata": {},
   "outputs": [
    {
     "name": "stdout",
     "output_type": "stream",
     "text": [
      "+---+------------------+--------------------+------+---+---+-------+----------+\n",
      "| Id|      EmployeeName|            JobTitle|Salary|Age|Exp|Country|      City|\n",
      "+---+------------------+--------------------+------+---+---+-------+----------+\n",
      "|  1|    NATHANIEL FORD|GENERAL MANAGER-M...| 34032| 80| 18|     UK|    London|\n",
      "|  2|      GARY JIMENEZ|CAPTAIN III (POLI...| 27956| 48|  2|     UK|    London|\n",
      "|  3|    ALBERT PARDINI|CAPTAIN III (POLI...| 33000| 78|  5|     UK|    London|\n",
      "|  4| CHRISTOPHER CHONG|WIRE ROPE CABLE M...| 33000| 38|  8|     UK|    London|\n",
      "|  5|   PATRICK GARDNER|DEPUTY CHIEF OF D...| 33000| 39| 11|     UK|     Leeds|\n",
      "|  6|    DAVID SULLIVAN|ASSISTANT DEPUTY ...| 33000| 64|  2|     UK|     Leeds|\n",
      "|  7|         ALSON LEE|BATTALION CHIEF, ...| 33000| 34| 12|     UK|     Leeds|\n",
      "|  8|     DAVID KUSHNER|DEPUTY DIRECTOR O...| 33000| 62| 16|     UK|     Leeds|\n",
      "|  9|    MICHAEL MORRIS|BATTALION CHIEF, ...| 33000| 23| 12|     UK|     Leeds|\n",
      "| 10|JOANNE HAYES-WHITE|CHIEF OF DEPARTME...| 33000| 80| 21|     UK|     Leeds|\n",
      "| 11|     ARTHUR KENNEY|ASSISTANT CHIEF O...| 33000| 52|  3|     UK|     Leeds|\n",
      "| 12|  PATRICIA JACKSON|CAPTAIN III (POLI...| 33000| 86|  8|     UK|     Leeds|\n",
      "| 13| EDWARD HARRINGTON|EXECUTIVE CONTRAC...| 54211| 85|  5|     UK|     Leeds|\n",
      "| 14|       JOHN MARTIN|   DEPARTMENT HEAD V| 10430| 39| 11|     UK|Manchester|\n",
      "| 15|    DAVID FRANKLIN|BATTALION CHIEF, ...|  5187| 57| 15|     UK|Manchester|\n",
      "| 16|   RICHARD CORRIEA|COMMANDER III, (P...| 39291| 25| 20|     UK|Manchester|\n",
      "| 17|          AMY HART|   DEPARTMENT HEAD V| 29633| 29|  1|     UK|Manchester|\n",
      "| 18|    SEBASTIAN WONG|CAPTAIN, EMERGENC...| 40976| 85|  4|     UK|      null|\n",
      "| 19|        MARTY ROSS|BATTALION CHIEF, ...| 38209| 38| 19|    USA|  New York|\n",
      "| 20|     ELLEN MOFFATT|ASSISTANT MEDICAL...| 41502| 28|  1|    USA|  New York|\n",
      "+---+------------------+--------------------+------+---+---+-------+----------+\n",
      "only showing top 20 rows\n",
      "\n"
     ]
    }
   ],
   "source": [
    "spark.read.option('header','true').csv('Salaries.csv').show()"
   ]
  },
  {
   "cell_type": "code",
   "execution_count": 7,
   "id": "d966b35d",
   "metadata": {},
   "outputs": [
    {
     "name": "stdout",
     "output_type": "stream",
     "text": [
      "+---+------------------+--------------------+------+---+---+-------+----------+\n",
      "| Id|      EmployeeName|            JobTitle|Salary|Age|Exp|Country|      City|\n",
      "+---+------------------+--------------------+------+---+---+-------+----------+\n",
      "|  1|    NATHANIEL FORD|GENERAL MANAGER-M...| 34032| 80| 18|     UK|    London|\n",
      "|  2|      GARY JIMENEZ|CAPTAIN III (POLI...| 27956| 48|  2|     UK|    London|\n",
      "|  3|    ALBERT PARDINI|CAPTAIN III (POLI...| 33000| 78|  5|     UK|    London|\n",
      "|  4| CHRISTOPHER CHONG|WIRE ROPE CABLE M...| 33000| 38|  8|     UK|    London|\n",
      "|  5|   PATRICK GARDNER|DEPUTY CHIEF OF D...| 33000| 39| 11|     UK|     Leeds|\n",
      "|  6|    DAVID SULLIVAN|ASSISTANT DEPUTY ...| 33000| 64|  2|     UK|     Leeds|\n",
      "|  7|         ALSON LEE|BATTALION CHIEF, ...| 33000| 34| 12|     UK|     Leeds|\n",
      "|  8|     DAVID KUSHNER|DEPUTY DIRECTOR O...| 33000| 62| 16|     UK|     Leeds|\n",
      "|  9|    MICHAEL MORRIS|BATTALION CHIEF, ...| 33000| 23| 12|     UK|     Leeds|\n",
      "| 10|JOANNE HAYES-WHITE|CHIEF OF DEPARTME...| 33000| 80| 21|     UK|     Leeds|\n",
      "| 11|     ARTHUR KENNEY|ASSISTANT CHIEF O...| 33000| 52|  3|     UK|     Leeds|\n",
      "| 12|  PATRICIA JACKSON|CAPTAIN III (POLI...| 33000| 86|  8|     UK|     Leeds|\n",
      "| 13| EDWARD HARRINGTON|EXECUTIVE CONTRAC...| 54211| 85|  5|     UK|     Leeds|\n",
      "| 14|       JOHN MARTIN|   DEPARTMENT HEAD V| 10430| 39| 11|     UK|Manchester|\n",
      "| 15|    DAVID FRANKLIN|BATTALION CHIEF, ...|  5187| 57| 15|     UK|Manchester|\n",
      "| 16|   RICHARD CORRIEA|COMMANDER III, (P...| 39291| 25| 20|     UK|Manchester|\n",
      "| 17|          AMY HART|   DEPARTMENT HEAD V| 29633| 29|  1|     UK|Manchester|\n",
      "| 18|    SEBASTIAN WONG|CAPTAIN, EMERGENC...| 40976| 85|  4|     UK|      null|\n",
      "| 19|        MARTY ROSS|BATTALION CHIEF, ...| 38209| 38| 19|    USA|  New York|\n",
      "| 20|     ELLEN MOFFATT|ASSISTANT MEDICAL...| 41502| 28|  1|    USA|  New York|\n",
      "+---+------------------+--------------------+------+---+---+-------+----------+\n",
      "only showing top 20 rows\n",
      "\n"
     ]
    }
   ],
   "source": [
    "df_pyspark=spark.read.option('header','true').csv('Salaries.csv',inferSchema=True)\n",
    "df_pyspark.show()"
   ]
  },
  {
   "cell_type": "code",
   "execution_count": 8,
   "id": "4e2503b1",
   "metadata": {},
   "outputs": [
    {
     "name": "stdout",
     "output_type": "stream",
     "text": [
      "root\n",
      " |-- Id: integer (nullable = true)\n",
      " |-- EmployeeName: string (nullable = true)\n",
      " |-- JobTitle: string (nullable = true)\n",
      " |-- Salary: integer (nullable = true)\n",
      " |-- Age: integer (nullable = true)\n",
      " |-- Exp: integer (nullable = true)\n",
      " |-- Country: string (nullable = true)\n",
      " |-- City: string (nullable = true)\n",
      "\n"
     ]
    }
   ],
   "source": [
    "df_pyspark.printSchema()"
   ]
  },
  {
   "cell_type": "code",
   "execution_count": 9,
   "id": "d6d4b3b9",
   "metadata": {},
   "outputs": [],
   "source": [
    "# Machine Learning"
   ]
  },
  {
   "cell_type": "code",
   "execution_count": null,
   "id": "f0fe0330",
   "metadata": {},
   "outputs": [],
   "source": []
  }
 ],
 "metadata": {
  "kernelspec": {
   "display_name": "Python 3",
   "language": "python",
   "name": "python3"
  },
  "language_info": {
   "codemirror_mode": {
    "name": "ipython",
    "version": 3
   },
   "file_extension": ".py",
   "mimetype": "text/x-python",
   "name": "python",
   "nbconvert_exporter": "python",
   "pygments_lexer": "ipython3",
   "version": "3.8.8"
  }
 },
 "nbformat": 4,
 "nbformat_minor": 5
}
