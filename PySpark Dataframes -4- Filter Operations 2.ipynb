{
 "cells": [
  {
   "cell_type": "code",
   "execution_count": 1,
   "id": "5cc22a90",
   "metadata": {},
   "outputs": [
    {
     "name": "stdout",
     "output_type": "stream",
     "text": [
      "root\n",
      " |-- Id: string (nullable = true)\n",
      " |-- EmployeeName: string (nullable = true)\n",
      " |-- JobTitle: string (nullable = true)\n",
      " |-- Salary: string (nullable = true)\n",
      " |-- Age: string (nullable = true)\n",
      " |-- Exp: string (nullable = true)\n",
      " |-- Country: string (nullable = true)\n",
      " |-- City: string (nullable = true)\n",
      "\n",
      "-RECORD 0----------------------------\n",
      " Id           | 1                    \n",
      " EmployeeName | NATHANIEL FORD       \n",
      " JobTitle     | GENERAL MANAGER-M... \n",
      " Salary       | 34032                \n",
      " Age          | 80                   \n",
      " Exp          | 18                   \n",
      " Country      | UK                   \n",
      " City         | London               \n",
      "\n",
      "+-------+-----------------+--------------+--------------------+------------------+------------------+------------------+-------+--------+\n",
      "|summary|               Id|  EmployeeName|            JobTitle|            Salary|               Age|               Exp|Country|    City|\n",
      "+-------+-----------------+--------------+--------------------+------------------+------------------+------------------+-------+--------+\n",
      "|  count|               74|            74|                  74|                74|                74|                74|     74|      64|\n",
      "|   mean|             37.5|          null|                null| 29012.31081081081|55.148648648648646|10.027027027027026|   null|    null|\n",
      "| stddev|21.50581316760657|          null|                null|12716.486404023604| 22.24193400506845| 6.285388520097592|   null|    null|\n",
      "|    min|                1|AI-KYUNG CHUNG|ADMINISTRATOR, SF...|             10128|                20|                 1|Germany|  Berlin|\n",
      "|    max|                9|     WING CHAN|WIRE ROPE CABLE M...|              8117|                90|                 9|    USA|New York|\n",
      "+-------+-----------------+--------------+--------------------+------------------+------------------+------------------+-------+--------+\n",
      "\n"
     ]
    },
    {
     "data": {
      "text/plain": [
       "(None, None, None)"
      ]
     },
     "execution_count": 1,
     "metadata": {},
     "output_type": "execute_result"
    }
   ],
   "source": [
    "from pyspark.sql import SparkSession\n",
    "spark=SparkSession.builder.appName('app1').getOrCreate()\n",
    "df=spark.read.option('header','true').csv('Salaries.csv')\n",
    "df.printSchema(),df.limit(1).show(vertical=True),df.describe().show()"
   ]
  },
  {
   "cell_type": "code",
   "execution_count": 2,
   "id": "6db4c609",
   "metadata": {},
   "outputs": [
    {
     "data": {
      "text/plain": [
       "74"
      ]
     },
     "execution_count": 2,
     "metadata": {},
     "output_type": "execute_result"
    }
   ],
   "source": [
    "df.count()"
   ]
  },
  {
   "cell_type": "code",
   "execution_count": 3,
   "id": "1b86de22",
   "metadata": {},
   "outputs": [
    {
     "data": {
      "text/plain": [
       "56"
      ]
     },
     "execution_count": 3,
     "metadata": {},
     "output_type": "execute_result"
    }
   ],
   "source": [
    "df.filter('Age<80').select(['Country']).count()"
   ]
  },
  {
   "cell_type": "code",
   "execution_count": 4,
   "id": "39c7f0f0",
   "metadata": {},
   "outputs": [
    {
     "data": {
      "text/plain": [
       "60"
      ]
     },
     "execution_count": 4,
     "metadata": {},
     "output_type": "execute_result"
    }
   ],
   "source": [
    "df.filter(df.City!='London').count()"
   ]
  },
  {
   "cell_type": "code",
   "execution_count": 5,
   "id": "e4d3297a",
   "metadata": {},
   "outputs": [
    {
     "data": {
      "text/plain": [
       "60"
      ]
     },
     "execution_count": 5,
     "metadata": {},
     "output_type": "execute_result"
    }
   ],
   "source": [
    "df.filter(\"City<>'London'\").count()"
   ]
  },
  {
   "cell_type": "code",
   "execution_count": 6,
   "id": "2eb0470f",
   "metadata": {},
   "outputs": [
    {
     "data": {
      "text/plain": [
       "60"
      ]
     },
     "execution_count": 6,
     "metadata": {},
     "output_type": "execute_result"
    }
   ],
   "source": [
    "df.filter(~(df.City=='London')).count()"
   ]
  },
  {
   "cell_type": "code",
   "execution_count": 7,
   "id": "2ca2c197",
   "metadata": {},
   "outputs": [
    {
     "data": {
      "text/plain": [
       "74"
      ]
     },
     "execution_count": 7,
     "metadata": {},
     "output_type": "execute_result"
    }
   ],
   "source": [
    "df.filter(\"City<>'London' and Age<80 or Salary>1000\").count()"
   ]
  },
  {
   "cell_type": "code",
   "execution_count": 8,
   "id": "0987e4af",
   "metadata": {},
   "outputs": [],
   "source": [
    "# col\n",
    "\n",
    "from pyspark.sql.functions import col"
   ]
  },
  {
   "cell_type": "code",
   "execution_count": 9,
   "id": "336864ea",
   "metadata": {},
   "outputs": [
    {
     "data": {
      "text/plain": [
       "4"
      ]
     },
     "execution_count": 9,
     "metadata": {},
     "output_type": "execute_result"
    }
   ],
   "source": [
    "df.filter(df.City=='London').count()"
   ]
  },
  {
   "cell_type": "code",
   "execution_count": 10,
   "id": "6a26095d",
   "metadata": {},
   "outputs": [
    {
     "data": {
      "text/plain": [
       "4"
      ]
     },
     "execution_count": 10,
     "metadata": {},
     "output_type": "execute_result"
    }
   ],
   "source": [
    "df.filter(col('City')=='London').count()"
   ]
  },
  {
   "cell_type": "code",
   "execution_count": 11,
   "id": "40c0505e",
   "metadata": {},
   "outputs": [
    {
     "name": "stdout",
     "output_type": "stream",
     "text": [
      "+----------+-----+\n",
      "|      City|count|\n",
      "+----------+-----+\n",
      "|Manchester|    4|\n",
      "|    Berlin|   17|\n",
      "|    London|    4|\n",
      "| Las Vegas|    5|\n",
      "|     Leeds|    9|\n",
      "|  New York|   25|\n",
      "|      null|   10|\n",
      "+----------+-----+\n",
      "\n"
     ]
    }
   ],
   "source": [
    "# groupBy ~ count\n",
    "\n",
    "df.groupBy('City').count().show()"
   ]
  },
  {
   "cell_type": "code",
   "execution_count": 12,
   "id": "fa1e8d67",
   "metadata": {},
   "outputs": [
    {
     "data": {
      "text/plain": [
       "13"
      ]
     },
     "execution_count": 12,
     "metadata": {},
     "output_type": "execute_result"
    }
   ],
   "source": [
    "# isin\n",
    "\n",
    "cit=['Manchester','Leeds']\n",
    "df.filter(df.City.isin(cit)).count()"
   ]
  },
  {
   "cell_type": "code",
   "execution_count": 13,
   "id": "e4ad54a1",
   "metadata": {},
   "outputs": [
    {
     "data": {
      "text/plain": [
       "18"
      ]
     },
     "execution_count": 13,
     "metadata": {},
     "output_type": "execute_result"
    }
   ],
   "source": [
    "# startswith, endswith, contains\n",
    "\n",
    "df.filter(df.City.startswith('L')).count()"
   ]
  },
  {
   "cell_type": "code",
   "execution_count": 14,
   "id": "ff20f427",
   "metadata": {},
   "outputs": [
    {
     "data": {
      "text/plain": [
       "25"
      ]
     },
     "execution_count": 14,
     "metadata": {},
     "output_type": "execute_result"
    }
   ],
   "source": [
    "df.filter(df.City.endswith('k')).count()"
   ]
  },
  {
   "cell_type": "code",
   "execution_count": 15,
   "id": "76e6eeac",
   "metadata": {},
   "outputs": [
    {
     "data": {
      "text/plain": [
       "9"
      ]
     },
     "execution_count": 15,
     "metadata": {},
     "output_type": "execute_result"
    }
   ],
   "source": [
    "df.filter(df.City.contains('ee')).count()"
   ]
  },
  {
   "cell_type": "code",
   "execution_count": 16,
   "id": "508763e1",
   "metadata": {},
   "outputs": [
    {
     "name": "stdout",
     "output_type": "stream",
     "text": [
      "+------------------+\n",
      "|      EmployeeName|\n",
      "+------------------+\n",
      "|    NATHANIEL FORD|\n",
      "|      GARY JIMENEZ|\n",
      "|    ALBERT PARDINI|\n",
      "| CHRISTOPHER CHONG|\n",
      "|   PATRICK GARDNER|\n",
      "|    DAVID SULLIVAN|\n",
      "|         ALSON LEE|\n",
      "|     DAVID KUSHNER|\n",
      "|    MICHAEL MORRIS|\n",
      "|JOANNE HAYES-WHITE|\n",
      "|     ARTHUR KENNEY|\n",
      "|  PATRICIA JACKSON|\n",
      "| EDWARD HARRINGTON|\n",
      "|       JOHN MARTIN|\n",
      "|    DAVID FRANKLIN|\n",
      "|   RICHARD CORRIEA|\n",
      "|          AMY HART|\n",
      "|    SEBASTIAN WONG|\n",
      "|        MARTY ROSS|\n",
      "|     ELLEN MOFFATT|\n",
      "+------------------+\n",
      "only showing top 20 rows\n",
      "\n"
     ]
    }
   ],
   "source": [
    "# like and rlike\n",
    "\n",
    "df.select('EmployeeName').show()"
   ]
  },
  {
   "cell_type": "code",
   "execution_count": 17,
   "id": "f4903f06",
   "metadata": {},
   "outputs": [
    {
     "name": "stdout",
     "output_type": "stream",
     "text": [
      "+---+------------+--------------------+------+---+---+-------+------+\n",
      "| Id|EmployeeName|            JobTitle|Salary|Age|Exp|Country|  City|\n",
      "+---+------------+--------------------+------+---+---+-------+------+\n",
      "|  7|   ALSON LEE|BATTALION CHIEF, ...| 33000| 34| 12|     UK| Leeds|\n",
      "| 46|   EDWIN LEE|               MAYOR| 10498| 54| 13|Germany|Berlin|\n",
      "+---+------------+--------------------+------+---+---+-------+------+\n",
      "\n"
     ]
    }
   ],
   "source": [
    "df.filter(df.EmployeeName.like('%LEE%')).show()"
   ]
  },
  {
   "cell_type": "code",
   "execution_count": 18,
   "id": "41e0ba69",
   "metadata": {},
   "outputs": [
    {
     "name": "stdout",
     "output_type": "stream",
     "text": [
      "+---+------------+--------------------+------+---+---+-------+------+\n",
      "| Id|EmployeeName|            JobTitle|Salary|Age|Exp|Country|  City|\n",
      "+---+------------+--------------------+------+---+---+-------+------+\n",
      "|  7|   ALSON LEE|BATTALION CHIEF, ...| 33000| 34| 12|     UK| Leeds|\n",
      "| 46|   EDWIN LEE|               MAYOR| 10498| 54| 13|Germany|Berlin|\n",
      "+---+------------+--------------------+------+---+---+-------+------+\n",
      "\n"
     ]
    }
   ],
   "source": [
    "df.filter(df.EmployeeName.like('%LEE')).show()"
   ]
  },
  {
   "cell_type": "code",
   "execution_count": 19,
   "id": "a171f443",
   "metadata": {},
   "outputs": [
    {
     "name": "stdout",
     "output_type": "stream",
     "text": [
      "+---+------------+-----------------+------+---+---+-------+----------+\n",
      "| Id|EmployeeName|         JobTitle|Salary|Age|Exp|Country|      City|\n",
      "+---+------------+-----------------+------+---+---+-------+----------+\n",
      "| 14| JOHN MARTIN|DEPARTMENT HEAD V| 10430| 39| 11|     UK|Manchester|\n",
      "+---+------------+-----------------+------+---+---+-------+----------+\n",
      "\n"
     ]
    }
   ],
   "source": [
    "# rlike - SQL RLIKE pattern (LIKE with Regex) - this check case insensitive\n",
    "\n",
    "df.filter(df.EmployeeName.rlike(\"(?i)^*martin$\")).show()"
   ]
  },
  {
   "cell_type": "code",
   "execution_count": 20,
   "id": "35eadb63",
   "metadata": {},
   "outputs": [],
   "source": [
    "# filter on an Array column\n",
    "\n",
    "from pyspark.sql.functions import array_contains # df.filter(array_contains(df.JobTitle,\"Head\"))"
   ]
  },
  {
   "cell_type": "code",
   "execution_count": 21,
   "id": "eadd29d8",
   "metadata": {},
   "outputs": [
    {
     "name": "stdout",
     "output_type": "stream",
     "text": [
      "+-------+-----------+\n",
      "|Country|sum(Salary)|\n",
      "+-------+-----------+\n",
      "|Germany|   885133.0|\n",
      "|    USA|   690062.0|\n",
      "|     UK|   571716.0|\n",
      "+-------+-----------+\n",
      "\n"
     ]
    }
   ],
   "source": [
    "df.groupBy('Country').agg({'Salary':'sum'}).show()"
   ]
  },
  {
   "cell_type": "code",
   "execution_count": 22,
   "id": "c25c12d2",
   "metadata": {},
   "outputs": [
    {
     "name": "stdout",
     "output_type": "stream",
     "text": [
      "+------------------+\n",
      "|          avg(Age)|\n",
      "+------------------+\n",
      "|55.148648648648646|\n",
      "+------------------+\n",
      "\n"
     ]
    }
   ],
   "source": [
    "df.agg({'Age':'avg'}).show()"
   ]
  },
  {
   "cell_type": "code",
   "execution_count": 23,
   "id": "c734d43e",
   "metadata": {},
   "outputs": [
    {
     "name": "stdout",
     "output_type": "stream",
     "text": [
      "+-----------+\n",
      "|sum(Salary)|\n",
      "+-----------+\n",
      "|  2146911.0|\n",
      "+-----------+\n",
      "\n"
     ]
    }
   ],
   "source": [
    "df.agg({'Salary':'sum'}).show()"
   ]
  },
  {
   "cell_type": "code",
   "execution_count": 25,
   "id": "502a23db",
   "metadata": {},
   "outputs": [
    {
     "name": "stdout",
     "output_type": "stream",
     "text": [
      "root\n",
      " |-- Id: string (nullable = true)\n",
      " |-- EmployeeName: string (nullable = true)\n",
      " |-- JobTitle: string (nullable = true)\n",
      " |-- Salary: string (nullable = true)\n",
      " |-- Age: string (nullable = true)\n",
      " |-- Exp: string (nullable = true)\n",
      " |-- Country: string (nullable = true)\n",
      " |-- City: string (nullable = true)\n",
      "\n"
     ]
    }
   ],
   "source": [
    "df.printSchema()"
   ]
  },
  {
   "cell_type": "code",
   "execution_count": 29,
   "id": "5183a1ad",
   "metadata": {},
   "outputs": [
    {
     "name": "stdout",
     "output_type": "stream",
     "text": [
      "+------------------+\n",
      "|       avg(Salary)|\n",
      "+------------------+\n",
      "|28853.716417910447|\n",
      "+------------------+\n",
      "\n"
     ]
    }
   ],
   "source": [
    "df.filter(df.Age > 25).agg({'Salary':'avg'}).show()"
   ]
  },
  {
   "cell_type": "code",
   "execution_count": 32,
   "id": "baf40b54",
   "metadata": {},
   "outputs": [
    {
     "name": "stdout",
     "output_type": "stream",
     "text": [
      "+-------+------------------+\n",
      "|Country|       avg(Salary)|\n",
      "+-------+------------------+\n",
      "|Germany|29504.433333333334|\n",
      "|     UK|           31762.0|\n",
      "+-------+------------------+\n",
      "\n"
     ]
    }
   ],
   "source": [
    "df.groupBy('Country').agg({'Salary':'avg'}).filter(df.Country != \"USA\").show()"
   ]
  },
  {
   "cell_type": "code",
   "execution_count": 35,
   "id": "8459f1a1",
   "metadata": {},
   "outputs": [
    {
     "name": "stdout",
     "output_type": "stream",
     "text": [
      "+--------------+-----------------------+\n",
      "|current_date()|current_timestamp()    |\n",
      "+--------------+-----------------------+\n",
      "|2021-11-20    |2021-11-20 15:04:59.852|\n",
      "+--------------+-----------------------+\n",
      "\n"
     ]
    }
   ],
   "source": [
    "# PySpark SQL- Get Current Date & Timestamp\n",
    "\n",
    "spark.sql(\"select current_date(), current_timestamp()\").show(truncate=False)"
   ]
  },
  {
   "cell_type": "code",
   "execution_count": 48,
   "id": "d04a91b7",
   "metadata": {},
   "outputs": [
    {
     "name": "stdout",
     "output_type": "stream",
     "text": [
      "root\n",
      " |-- Id: string (nullable = true)\n",
      " |-- EmployeeName: string (nullable = true)\n",
      " |-- JobTitle: string (nullable = true)\n",
      " |-- Salary: string (nullable = true)\n",
      " |-- Age: string (nullable = true)\n",
      " |-- Exp: string (nullable = true)\n",
      " |-- Country: string (nullable = true)\n",
      " |-- City: string (nullable = true)\n",
      "\n"
     ]
    }
   ],
   "source": [
    "df.printSchema()"
   ]
  },
  {
   "cell_type": "code",
   "execution_count": 68,
   "id": "f449f2e7",
   "metadata": {},
   "outputs": [],
   "source": [
    "from pyspark.sql import functions as F\n",
    "from pyspark.sql.window import Window as W"
   ]
  },
  {
   "cell_type": "code",
   "execution_count": 69,
   "id": "bce48c89",
   "metadata": {},
   "outputs": [
    {
     "name": "stdout",
     "output_type": "stream",
     "text": [
      "+---+----------------+--------------------+------+---+---+-------+----------+-----+\n",
      "| Id|    EmployeeName|            JobTitle|Salary|Age|Exp|Country|      City|#rank|\n",
      "+---+----------------+--------------------+------+---+---+-------+----------+-----+\n",
      "| 29|  DENISE SCHMITT|DEPUTY CHIEF III ...| 10128| 72| 11|    USA|  New York|    1|\n",
      "| 14|     JOHN MARTIN|   DEPARTMENT HEAD V| 10430| 39| 11|     UK|Manchester|    2|\n",
      "| 46|       EDWIN LEE|               MAYOR| 10498| 54| 13|Germany|    Berlin|    3|\n",
      "| 52|  BARBARA GARCIA|   DEPARTMENT HEAD V| 11732| 85| 20|Germany|    Berlin|    4|\n",
      "| 23|   GEORGE GARCIA|CAPTAIN, FIRE SUP...| 14067| 70|  8|    USA|  New York|    5|\n",
      "| 22|    JUDY MELINEK|ASSISTANT MEDICAL...| 14266| 81|  7|    USA|  New York|    6|\n",
      "| 50|         KEN YEE|LIEUTENANT, FIRE ...| 15362| 70|  5|Germany|    Berlin|    7|\n",
      "| 49|    JAMES DUDLEY|DEPUTY CHIEF III ...| 16433| 41| 14|Germany|    Berlin|    8|\n",
      "| 27|     JOHN HANLEY|CAPTAIN, FIRE SUP...| 17394| 41|  4|    USA|  New York|    9|\n",
      "| 25| JOSEPH DRISCOLL|CAPTAIN, FIRE SUP...| 18927| 24| 11|    USA|  New York|   10|\n",
      "| 64|   CHARLES CRANE|BATTALION CHIEF, ...| 18992| 79|  1|Germany|  New York|   11|\n",
      "| 44|MICHAEL THOMPSON|         FIREFIGHTER| 20716| 89|  8|    USA|      null|   12|\n",
      "| 26|    GREGORY SUHR|     CHIEF OF POLICE|  2204| 30|  6|    USA|  New York|   13|\n",
      "| 62|      ANNA BROWN|CAPTAIN III (POLI...| 22822| 62|  8|Germany|    Berlin|   14|\n",
      "| 61|   KENNETH SMITH|LIEUTENANT, FIRE ...| 24983| 30| 21|Germany|    Berlin|   15|\n",
      "| 24|   VICTOR WYRSCH|BATTALION CHIEF, ...| 25609| 20|  6|    USA|  New York|   16|\n",
      "| 21|      VENUS AZAR|ASSISTANT MEDICAL...|  2588| 89| 14|    USA|  New York|   17|\n",
      "| 68|   EDWARD ROLAND|CAPTAIN, FIRE SUP...| 27273| 41|  5|Germany|  New York|   18|\n",
      "|  2|    GARY JIMENEZ|CAPTAIN III (POLI...| 27956| 48|  2|     UK|    London|   19|\n",
      "| 17|        AMY HART|   DEPARTMENT HEAD V| 29633| 29|  1|     UK|Manchester|   20|\n",
      "+---+----------------+--------------------+------+---+---+-------+----------+-----+\n",
      "only showing top 20 rows\n",
      "\n"
     ]
    }
   ],
   "source": [
    "df.withColumn(\"#rank\", F.dense_rank().over(W.orderBy(\"Salary\"))).show()"
   ]
  }
 ],
 "metadata": {
  "kernelspec": {
   "display_name": "Python 3",
   "language": "python",
   "name": "python3"
  },
  "language_info": {
   "codemirror_mode": {
    "name": "ipython",
    "version": 3
   },
   "file_extension": ".py",
   "mimetype": "text/x-python",
   "name": "python",
   "nbconvert_exporter": "python",
   "pygments_lexer": "ipython3",
   "version": "3.8.8"
  }
 },
 "nbformat": 4,
 "nbformat_minor": 5
}
