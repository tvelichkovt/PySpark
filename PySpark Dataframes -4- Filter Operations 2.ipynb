{
 "cells": [
  {
   "cell_type": "code",
   "execution_count": 1,
   "id": "5cc22a90",
   "metadata": {},
   "outputs": [
    {
     "name": "stdout",
     "output_type": "stream",
     "text": [
      "root\n",
      " |-- Id: string (nullable = true)\n",
      " |-- EmployeeName: string (nullable = true)\n",
      " |-- JobTitle: string (nullable = true)\n",
      " |-- Salary: string (nullable = true)\n",
      " |-- Age: string (nullable = true)\n",
      " |-- Exp: string (nullable = true)\n",
      " |-- Country: string (nullable = true)\n",
      " |-- City: string (nullable = true)\n",
      "\n",
      "-RECORD 0----------------------------\n",
      " Id           | 1                    \n",
      " EmployeeName | NATHANIEL FORD       \n",
      " JobTitle     | GENERAL MANAGER-M... \n",
      " Salary       | 34032                \n",
      " Age          | 80                   \n",
      " Exp          | 18                   \n",
      " Country      | UK                   \n",
      " City         | London               \n",
      "\n",
      "+-------+-----------------+--------------+--------------------+------------------+------------------+------------------+-------+--------+\n",
      "|summary|               Id|  EmployeeName|            JobTitle|            Salary|               Age|               Exp|Country|    City|\n",
      "+-------+-----------------+--------------+--------------------+------------------+------------------+------------------+-------+--------+\n",
      "|  count|               74|            74|                  74|                74|                74|                74|     74|      64|\n",
      "|   mean|             37.5|          null|                null| 29012.31081081081|55.148648648648646|10.027027027027026|   null|    null|\n",
      "| stddev|21.50581316760657|          null|                null|12716.486404023604| 22.24193400506845| 6.285388520097592|   null|    null|\n",
      "|    min|                1|AI-KYUNG CHUNG|ADMINISTRATOR, SF...|             10128|                20|                 1|Germany|  Berlin|\n",
      "|    max|                9|     WING CHAN|WIRE ROPE CABLE M...|              8117|                90|                 9|    USA|New York|\n",
      "+-------+-----------------+--------------+--------------------+------------------+------------------+------------------+-------+--------+\n",
      "\n"
     ]
    },
    {
     "data": {
      "text/plain": [
       "(None, None, None)"
      ]
     },
     "execution_count": 1,
     "metadata": {},
     "output_type": "execute_result"
    }
   ],
   "source": [
    "from pyspark.sql import SparkSession\n",
    "spark=SparkSession.builder.appName('app1').getOrCreate()\n",
    "df=spark.read.option('header','true').csv('Salaries.csv')\n",
    "df.printSchema(),df.limit(1).show(vertical=True),df.describe().show()"
   ]
  },
  {
   "cell_type": "code",
   "execution_count": 8,
   "id": "6db4c609",
   "metadata": {},
   "outputs": [
    {
     "data": {
      "text/plain": [
       "74"
      ]
     },
     "execution_count": 8,
     "metadata": {},
     "output_type": "execute_result"
    }
   ],
   "source": [
    "df.count()"
   ]
  },
  {
   "cell_type": "code",
   "execution_count": 9,
   "id": "1b86de22",
   "metadata": {},
   "outputs": [
    {
     "data": {
      "text/plain": [
       "56"
      ]
     },
     "execution_count": 9,
     "metadata": {},
     "output_type": "execute_result"
    }
   ],
   "source": [
    "df.filter('Age<80').select(['Country']).count()"
   ]
  },
  {
   "cell_type": "code",
   "execution_count": 10,
   "id": "39c7f0f0",
   "metadata": {},
   "outputs": [
    {
     "data": {
      "text/plain": [
       "60"
      ]
     },
     "execution_count": 10,
     "metadata": {},
     "output_type": "execute_result"
    }
   ],
   "source": [
    "df.filter(df.City!='London').count()"
   ]
  },
  {
   "cell_type": "code",
   "execution_count": 24,
   "id": "e4d3297a",
   "metadata": {},
   "outputs": [
    {
     "data": {
      "text/plain": [
       "60"
      ]
     },
     "execution_count": 24,
     "metadata": {},
     "output_type": "execute_result"
    }
   ],
   "source": [
    "df.filter(\"City<>'London'\").count()"
   ]
  },
  {
   "cell_type": "code",
   "execution_count": 25,
   "id": "2eb0470f",
   "metadata": {},
   "outputs": [
    {
     "data": {
      "text/plain": [
       "60"
      ]
     },
     "execution_count": 25,
     "metadata": {},
     "output_type": "execute_result"
    }
   ],
   "source": [
    "df.filter(~(df.City=='London')).count()"
   ]
  },
  {
   "cell_type": "code",
   "execution_count": 28,
   "id": "2ca2c197",
   "metadata": {},
   "outputs": [
    {
     "data": {
      "text/plain": [
       "74"
      ]
     },
     "execution_count": 28,
     "metadata": {},
     "output_type": "execute_result"
    }
   ],
   "source": [
    "df.filter(\"City<>'London' and Age<80 or Salary>1000\").count()"
   ]
  },
  {
   "cell_type": "code",
   "execution_count": 27,
   "id": "0987e4af",
   "metadata": {},
   "outputs": [],
   "source": [
    "# col\n",
    "\n",
    "from pyspark.sql.functions import col"
   ]
  },
  {
   "cell_type": "code",
   "execution_count": 19,
   "id": "336864ea",
   "metadata": {},
   "outputs": [
    {
     "data": {
      "text/plain": [
       "4"
      ]
     },
     "execution_count": 19,
     "metadata": {},
     "output_type": "execute_result"
    }
   ],
   "source": [
    "df.filter(df.City=='London').count()"
   ]
  },
  {
   "cell_type": "code",
   "execution_count": 17,
   "id": "6a26095d",
   "metadata": {},
   "outputs": [
    {
     "data": {
      "text/plain": [
       "4"
      ]
     },
     "execution_count": 17,
     "metadata": {},
     "output_type": "execute_result"
    }
   ],
   "source": [
    "df.filter(col('City')=='London').count()"
   ]
  },
  {
   "cell_type": "code",
   "execution_count": 32,
   "id": "40c0505e",
   "metadata": {},
   "outputs": [
    {
     "name": "stdout",
     "output_type": "stream",
     "text": [
      "+----------+-----+\n",
      "|      City|count|\n",
      "+----------+-----+\n",
      "|Manchester|    4|\n",
      "|    Berlin|   17|\n",
      "|    London|    4|\n",
      "| Las Vegas|    5|\n",
      "|     Leeds|    9|\n",
      "|  New York|   25|\n",
      "|      null|   10|\n",
      "+----------+-----+\n",
      "\n"
     ]
    }
   ],
   "source": [
    "# groupBy ~ count\n",
    "\n",
    "df.groupBy('City').count().show()"
   ]
  },
  {
   "cell_type": "code",
   "execution_count": 34,
   "id": "fa1e8d67",
   "metadata": {},
   "outputs": [
    {
     "data": {
      "text/plain": [
       "13"
      ]
     },
     "execution_count": 34,
     "metadata": {},
     "output_type": "execute_result"
    }
   ],
   "source": [
    "# isin\n",
    "\n",
    "cit=['Manchester','Leeds']\n",
    "df.filter(df.City.isin(cit)).count()"
   ]
  },
  {
   "cell_type": "code",
   "execution_count": 38,
   "id": "e4ad54a1",
   "metadata": {},
   "outputs": [
    {
     "data": {
      "text/plain": [
       "18"
      ]
     },
     "execution_count": 38,
     "metadata": {},
     "output_type": "execute_result"
    }
   ],
   "source": [
    "# startswith, endswith, contains\n",
    "\n",
    "df.filter(df.City.startswith('L')).count()"
   ]
  },
  {
   "cell_type": "code",
   "execution_count": 40,
   "id": "ff20f427",
   "metadata": {},
   "outputs": [
    {
     "data": {
      "text/plain": [
       "25"
      ]
     },
     "execution_count": 40,
     "metadata": {},
     "output_type": "execute_result"
    }
   ],
   "source": [
    "df.filter(df.City.endswith('k')).count()"
   ]
  },
  {
   "cell_type": "code",
   "execution_count": 42,
   "id": "76e6eeac",
   "metadata": {},
   "outputs": [
    {
     "data": {
      "text/plain": [
       "9"
      ]
     },
     "execution_count": 42,
     "metadata": {},
     "output_type": "execute_result"
    }
   ],
   "source": [
    "df.filter(df.City.contains('ee')).count()"
   ]
  },
  {
   "cell_type": "code",
   "execution_count": 60,
   "id": "508763e1",
   "metadata": {},
   "outputs": [
    {
     "name": "stdout",
     "output_type": "stream",
     "text": [
      "+------------------+\n",
      "|      EmployeeName|\n",
      "+------------------+\n",
      "|    NATHANIEL FORD|\n",
      "|      GARY JIMENEZ|\n",
      "|    ALBERT PARDINI|\n",
      "| CHRISTOPHER CHONG|\n",
      "|   PATRICK GARDNER|\n",
      "|    DAVID SULLIVAN|\n",
      "|         ALSON LEE|\n",
      "|     DAVID KUSHNER|\n",
      "|    MICHAEL MORRIS|\n",
      "|JOANNE HAYES-WHITE|\n",
      "|     ARTHUR KENNEY|\n",
      "|  PATRICIA JACKSON|\n",
      "| EDWARD HARRINGTON|\n",
      "|       JOHN MARTIN|\n",
      "|    DAVID FRANKLIN|\n",
      "|   RICHARD CORRIEA|\n",
      "|          AMY HART|\n",
      "|    SEBASTIAN WONG|\n",
      "|        MARTY ROSS|\n",
      "|     ELLEN MOFFATT|\n",
      "+------------------+\n",
      "only showing top 20 rows\n",
      "\n"
     ]
    }
   ],
   "source": [
    "# like and rlike\n",
    "\n",
    "df.select('EmployeeName').show()"
   ]
  },
  {
   "cell_type": "code",
   "execution_count": 64,
   "id": "f4903f06",
   "metadata": {},
   "outputs": [
    {
     "name": "stdout",
     "output_type": "stream",
     "text": [
      "+---+------------+--------------------+------+---+---+-------+------+\n",
      "| Id|EmployeeName|            JobTitle|Salary|Age|Exp|Country|  City|\n",
      "+---+------------+--------------------+------+---+---+-------+------+\n",
      "|  7|   ALSON LEE|BATTALION CHIEF, ...| 33000| 34| 12|     UK| Leeds|\n",
      "| 46|   EDWIN LEE|               MAYOR| 10498| 54| 13|Germany|Berlin|\n",
      "+---+------------+--------------------+------+---+---+-------+------+\n",
      "\n"
     ]
    }
   ],
   "source": [
    "df.filter(df.EmployeeName.like('%LEE%')).show()"
   ]
  },
  {
   "cell_type": "code",
   "execution_count": 66,
   "id": "41e0ba69",
   "metadata": {},
   "outputs": [
    {
     "name": "stdout",
     "output_type": "stream",
     "text": [
      "+---+------------+--------------------+------+---+---+-------+------+\n",
      "| Id|EmployeeName|            JobTitle|Salary|Age|Exp|Country|  City|\n",
      "+---+------------+--------------------+------+---+---+-------+------+\n",
      "|  7|   ALSON LEE|BATTALION CHIEF, ...| 33000| 34| 12|     UK| Leeds|\n",
      "| 46|   EDWIN LEE|               MAYOR| 10498| 54| 13|Germany|Berlin|\n",
      "+---+------------+--------------------+------+---+---+-------+------+\n",
      "\n"
     ]
    }
   ],
   "source": [
    "df.filter(df.EmployeeName.like('%LEE')).show()"
   ]
  },
  {
   "cell_type": "code",
   "execution_count": 76,
   "id": "a171f443",
   "metadata": {},
   "outputs": [
    {
     "name": "stdout",
     "output_type": "stream",
     "text": [
      "+---+------------+-----------------+------+---+---+-------+----------+\n",
      "| Id|EmployeeName|         JobTitle|Salary|Age|Exp|Country|      City|\n",
      "+---+------------+-----------------+------+---+---+-------+----------+\n",
      "| 14| JOHN MARTIN|DEPARTMENT HEAD V| 10430| 39| 11|     UK|Manchester|\n",
      "+---+------------+-----------------+------+---+---+-------+----------+\n",
      "\n"
     ]
    }
   ],
   "source": [
    "# rlike - SQL RLIKE pattern (LIKE with Regex) - this check case insensitive\n",
    "\n",
    "df.filter(df.EmployeeName.rlike(\"(?i)^*martin$\")).show()"
   ]
  },
  {
   "cell_type": "code",
   "execution_count": 78,
   "id": "35eadb63",
   "metadata": {},
   "outputs": [],
   "source": [
    "# filter on an Array column\n",
    "\n",
    "from pyspark.sql.functions import array_contains # df.filter(array_contains(df.JobTitle,\"Head\"))"
   ]
  },
  {
   "cell_type": "code",
   "execution_count": 83,
   "id": "eadd29d8",
   "metadata": {},
   "outputs": [],
   "source": []
  }
 ],
 "metadata": {
  "kernelspec": {
   "display_name": "Python 3",
   "language": "python",
   "name": "python3"
  },
  "language_info": {
   "codemirror_mode": {
    "name": "ipython",
    "version": 3
   },
   "file_extension": ".py",
   "mimetype": "text/x-python",
   "name": "python",
   "nbconvert_exporter": "python",
   "pygments_lexer": "ipython3",
   "version": "3.8.8"
  }
 },
 "nbformat": 4,
 "nbformat_minor": 5
}
