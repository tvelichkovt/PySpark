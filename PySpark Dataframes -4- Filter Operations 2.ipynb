{
 "cells": [
  {
   "cell_type": "code",
   "execution_count": 1,
   "id": "0e38d804",
   "metadata": {},
   "outputs": [
    {
     "name": "stdout",
     "output_type": "stream",
     "text": [
      "root\n",
      " |-- Id: string (nullable = true)\n",
      " |-- EmployeeName: string (nullable = true)\n",
      " |-- JobTitle: string (nullable = true)\n",
      " |-- Salary: string (nullable = true)\n",
      " |-- Age: string (nullable = true)\n",
      " |-- Exp: string (nullable = true)\n",
      " |-- Country: string (nullable = true)\n",
      " |-- City: string (nullable = true)\n",
      "\n",
      "-RECORD 0----------------------------\n",
      " Id           | 1                    \n",
      " EmployeeName | NATHANIEL FORD       \n",
      " JobTitle     | GENERAL MANAGER-M... \n",
      " Salary       | 34032                \n",
      " Age          | 80                   \n",
      " Exp          | 18                   \n",
      " Country      | UK                   \n",
      " City         | London               \n",
      "\n",
      "+-------+-----------------+--------------+--------------------+------------------+------------------+------------------+-------+--------+\n",
      "|summary|               Id|  EmployeeName|            JobTitle|            Salary|               Age|               Exp|Country|    City|\n",
      "+-------+-----------------+--------------+--------------------+------------------+------------------+------------------+-------+--------+\n",
      "|  count|               74|            74|                  74|                74|                74|                74|     74|      64|\n",
      "|   mean|             37.5|          null|                null| 29012.31081081081|55.148648648648646|10.027027027027026|   null|    null|\n",
      "| stddev|21.50581316760657|          null|                null|12716.486404023604| 22.24193400506845| 6.285388520097592|   null|    null|\n",
      "|    min|                1|AI-KYUNG CHUNG|ADMINISTRATOR, SF...|             10128|                20|                 1|Germany|  Berlin|\n",
      "|    max|                9|     WING CHAN|WIRE ROPE CABLE M...|              8117|                90|                 9|    USA|New York|\n",
      "+-------+-----------------+--------------+--------------------+------------------+------------------+------------------+-------+--------+\n",
      "\n"
     ]
    },
    {
     "data": {
      "text/plain": [
       "(None, None, None)"
      ]
     },
     "execution_count": 1,
     "metadata": {},
     "output_type": "execute_result"
    }
   ],
   "source": [
    "from pyspark.sql import SparkSession\n",
    "spark=SparkSession.builder.appName('app1').getOrCreate()\n",
    "df=spark.read.option('header','true').csv('Salaries.csv')\n",
    "df.printSchema(),df.limit(1).show(vertical=True),df.describe().show()"
   ]
  },
  {
   "cell_type": "code",
   "execution_count": 8,
   "id": "9678a435",
   "metadata": {},
   "outputs": [
    {
     "data": {
      "text/plain": [
       "74"
      ]
     },
     "execution_count": 8,
     "metadata": {},
     "output_type": "execute_result"
    }
   ],
   "source": [
    "df.count()"
   ]
  },
  {
   "cell_type": "code",
   "execution_count": 9,
   "id": "b08b722b",
   "metadata": {},
   "outputs": [
    {
     "data": {
      "text/plain": [
       "56"
      ]
     },
     "execution_count": 9,
     "metadata": {},
     "output_type": "execute_result"
    }
   ],
   "source": [
    "df.filter('Age<80').select(['Country']).count()"
   ]
  },
  {
   "cell_type": "code",
   "execution_count": 10,
   "id": "6e45cc54",
   "metadata": {},
   "outputs": [
    {
     "data": {
      "text/plain": [
       "60"
      ]
     },
     "execution_count": 10,
     "metadata": {},
     "output_type": "execute_result"
    }
   ],
   "source": [
    "df.filter(df.City!='London').count()"
   ]
  },
  {
   "cell_type": "code",
   "execution_count": 24,
   "id": "f3e57662",
   "metadata": {},
   "outputs": [
    {
     "data": {
      "text/plain": [
       "60"
      ]
     },
     "execution_count": 24,
     "metadata": {},
     "output_type": "execute_result"
    }
   ],
   "source": [
    "df.filter(\"City<>'London'\").count()"
   ]
  },
  {
   "cell_type": "code",
   "execution_count": 25,
   "id": "0392b573",
   "metadata": {},
   "outputs": [
    {
     "data": {
      "text/plain": [
       "60"
      ]
     },
     "execution_count": 25,
     "metadata": {},
     "output_type": "execute_result"
    }
   ],
   "source": [
    "df.filter(~(df.City=='London')).count()"
   ]
  },
  {
   "cell_type": "code",
   "execution_count": 28,
   "id": "418e127a",
   "metadata": {},
   "outputs": [
    {
     "data": {
      "text/plain": [
       "74"
      ]
     },
     "execution_count": 28,
     "metadata": {},
     "output_type": "execute_result"
    }
   ],
   "source": [
    "df.filter(\"City<>'London' and Age<80 or Salary>1000\").count()"
   ]
  },
  {
   "cell_type": "code",
   "execution_count": 27,
   "id": "8d65492f",
   "metadata": {},
   "outputs": [],
   "source": [
    "# col\n",
    "\n",
    "from pyspark.sql.functions import col"
   ]
  },
  {
   "cell_type": "code",
   "execution_count": 19,
   "id": "1f026104",
   "metadata": {},
   "outputs": [
    {
     "data": {
      "text/plain": [
       "4"
      ]
     },
     "execution_count": 19,
     "metadata": {},
     "output_type": "execute_result"
    }
   ],
   "source": [
    "df.filter(df.City=='London').count()"
   ]
  },
  {
   "cell_type": "code",
   "execution_count": 17,
   "id": "03b7f507",
   "metadata": {},
   "outputs": [
    {
     "data": {
      "text/plain": [
       "4"
      ]
     },
     "execution_count": 17,
     "metadata": {},
     "output_type": "execute_result"
    }
   ],
   "source": [
    "df.filter(col('City')=='London').count()"
   ]
  },
  {
   "cell_type": "code",
   "execution_count": 32,
   "id": "e8cf7dcd",
   "metadata": {},
   "outputs": [
    {
     "name": "stdout",
     "output_type": "stream",
     "text": [
      "+----------+-----+\n",
      "|      City|count|\n",
      "+----------+-----+\n",
      "|Manchester|    4|\n",
      "|    Berlin|   17|\n",
      "|    London|    4|\n",
      "| Las Vegas|    5|\n",
      "|     Leeds|    9|\n",
      "|  New York|   25|\n",
      "|      null|   10|\n",
      "+----------+-----+\n",
      "\n"
     ]
    }
   ],
   "source": [
    "# groupBy ~ count\n",
    "\n",
    "df.groupBy('City').count().show()"
   ]
  },
  {
   "cell_type": "code",
   "execution_count": 34,
   "id": "5c165b67",
   "metadata": {},
   "outputs": [
    {
     "data": {
      "text/plain": [
       "13"
      ]
     },
     "execution_count": 34,
     "metadata": {},
     "output_type": "execute_result"
    }
   ],
   "source": [
    "# isin\n",
    "\n",
    "cit=['Manchester','Leeds']\n",
    "df.filter(df.City.isin(cit)).count()"
   ]
  },
  {
   "cell_type": "code",
   "execution_count": 38,
   "id": "cf690831",
   "metadata": {},
   "outputs": [
    {
     "data": {
      "text/plain": [
       "18"
      ]
     },
     "execution_count": 38,
     "metadata": {},
     "output_type": "execute_result"
    }
   ],
   "source": [
    "# startswith, endswith, contains\n",
    "\n",
    "df.filter(df.City.startswith('L')).count()"
   ]
  },
  {
   "cell_type": "code",
   "execution_count": 40,
   "id": "5bc2640f",
   "metadata": {},
   "outputs": [
    {
     "data": {
      "text/plain": [
       "25"
      ]
     },
     "execution_count": 40,
     "metadata": {},
     "output_type": "execute_result"
    }
   ],
   "source": [
    "df.filter(df.City.endswith('k')).count()"
   ]
  },
  {
   "cell_type": "code",
   "execution_count": 42,
   "id": "4d8dc896",
   "metadata": {},
   "outputs": [
    {
     "data": {
      "text/plain": [
       "9"
      ]
     },
     "execution_count": 42,
     "metadata": {},
     "output_type": "execute_result"
    }
   ],
   "source": [
    "df.filter(df.City.contains('ee')).count()"
   ]
  },
  {
   "cell_type": "code",
   "execution_count": 60,
   "id": "09c8d372",
   "metadata": {},
   "outputs": [
    {
     "name": "stdout",
     "output_type": "stream",
     "text": [
      "+------------------+\n",
      "|      EmployeeName|\n",
      "+------------------+\n",
      "|    NATHANIEL FORD|\n",
      "|      GARY JIMENEZ|\n",
      "|    ALBERT PARDINI|\n",
      "| CHRISTOPHER CHONG|\n",
      "|   PATRICK GARDNER|\n",
      "|    DAVID SULLIVAN|\n",
      "|         ALSON LEE|\n",
      "|     DAVID KUSHNER|\n",
      "|    MICHAEL MORRIS|\n",
      "|JOANNE HAYES-WHITE|\n",
      "|     ARTHUR KENNEY|\n",
      "|  PATRICIA JACKSON|\n",
      "| EDWARD HARRINGTON|\n",
      "|       JOHN MARTIN|\n",
      "|    DAVID FRANKLIN|\n",
      "|   RICHARD CORRIEA|\n",
      "|          AMY HART|\n",
      "|    SEBASTIAN WONG|\n",
      "|        MARTY ROSS|\n",
      "|     ELLEN MOFFATT|\n",
      "+------------------+\n",
      "only showing top 20 rows\n",
      "\n"
     ]
    }
   ],
   "source": [
    "# like and rlike\n",
    "\n",
    "df.select('EmployeeName').show()"
   ]
  },
  {
   "cell_type": "code",
   "execution_count": 64,
   "id": "27c48e4b",
   "metadata": {},
   "outputs": [
    {
     "name": "stdout",
     "output_type": "stream",
     "text": [
      "+---+------------+--------------------+------+---+---+-------+------+\n",
      "| Id|EmployeeName|            JobTitle|Salary|Age|Exp|Country|  City|\n",
      "+---+------------+--------------------+------+---+---+-------+------+\n",
      "|  7|   ALSON LEE|BATTALION CHIEF, ...| 33000| 34| 12|     UK| Leeds|\n",
      "| 46|   EDWIN LEE|               MAYOR| 10498| 54| 13|Germany|Berlin|\n",
      "+---+------------+--------------------+------+---+---+-------+------+\n",
      "\n"
     ]
    }
   ],
   "source": [
    "df.filter(df.EmployeeName.like('%LEE%')).show()"
   ]
  },
  {
   "cell_type": "code",
   "execution_count": 66,
   "id": "0076af11",
   "metadata": {},
   "outputs": [
    {
     "name": "stdout",
     "output_type": "stream",
     "text": [
      "+---+------------+--------------------+------+---+---+-------+------+\n",
      "| Id|EmployeeName|            JobTitle|Salary|Age|Exp|Country|  City|\n",
      "+---+------------+--------------------+------+---+---+-------+------+\n",
      "|  7|   ALSON LEE|BATTALION CHIEF, ...| 33000| 34| 12|     UK| Leeds|\n",
      "| 46|   EDWIN LEE|               MAYOR| 10498| 54| 13|Germany|Berlin|\n",
      "+---+------------+--------------------+------+---+---+-------+------+\n",
      "\n"
     ]
    }
   ],
   "source": [
    "df.filter(df.EmployeeName.like('%LEE')).show()"
   ]
  },
  {
   "cell_type": "code",
   "execution_count": 76,
   "id": "093eb54e",
   "metadata": {},
   "outputs": [
    {
     "name": "stdout",
     "output_type": "stream",
     "text": [
      "+---+------------+-----------------+------+---+---+-------+----------+\n",
      "| Id|EmployeeName|         JobTitle|Salary|Age|Exp|Country|      City|\n",
      "+---+------------+-----------------+------+---+---+-------+----------+\n",
      "| 14| JOHN MARTIN|DEPARTMENT HEAD V| 10430| 39| 11|     UK|Manchester|\n",
      "+---+------------+-----------------+------+---+---+-------+----------+\n",
      "\n"
     ]
    }
   ],
   "source": [
    "# rlike - SQL RLIKE pattern (LIKE with Regex) - this check case insensitive\n",
    "\n",
    "df.filter(df.EmployeeName.rlike(\"(?i)^*martin$\")).show()"
   ]
  },
  {
   "cell_type": "code",
   "execution_count": 78,
   "id": "0569afca",
   "metadata": {},
   "outputs": [],
   "source": [
    "# filter on an Array column\n",
    "\n",
    "from pyspark.sql.functions import array_contains"
   ]
  },
  {
   "cell_type": "code",
   "execution_count": 83,
   "id": "4ac0e4d6",
   "metadata": {},
   "outputs": [],
   "source": [
    "# df.filter(array_contains(df.JobTitle,\"Head\"))"
   ]
  },
  {
   "cell_type": "code",
   "execution_count": 85,
   "id": "ea985e5d",
   "metadata": {},
   "outputs": [
    {
     "ename": "NameError",
     "evalue": "name 'current_date' is not defined",
     "output_type": "error",
     "traceback": [
      "\u001b[1;31m---------------------------------------------------------------------------\u001b[0m",
      "\u001b[1;31mNameError\u001b[0m                                 Traceback (most recent call last)",
      "\u001b[1;32m<ipython-input-85-41c56f5672d5>\u001b[0m in \u001b[0;36m<module>\u001b[1;34m\u001b[0m\n\u001b[1;32m----> 1\u001b[1;33m \u001b[0mcurrent_date\u001b[0m\u001b[1;33m(\u001b[0m\u001b[1;33m)\u001b[0m\u001b[1;33m\u001b[0m\u001b[1;33m\u001b[0m\u001b[0m\n\u001b[0m",
      "\u001b[1;31mNameError\u001b[0m: name 'current_date' is not defined"
     ]
    }
   ],
   "source": [
    "current_date()"
   ]
  },
  {
   "cell_type": "code",
   "execution_count": null,
   "id": "0d7fbb93",
   "metadata": {},
   "outputs": [],
   "source": []
  },
  {
   "cell_type": "code",
   "execution_count": null,
   "id": "0c214076",
   "metadata": {},
   "outputs": [],
   "source": []
  },
  {
   "cell_type": "code",
   "execution_count": null,
   "id": "adcaa53e",
   "metadata": {},
   "outputs": [],
   "source": []
  },
  {
   "cell_type": "code",
   "execution_count": null,
   "id": "248f21ed",
   "metadata": {},
   "outputs": [],
   "source": []
  },
  {
   "cell_type": "code",
   "execution_count": null,
   "id": "a33d2d6d",
   "metadata": {},
   "outputs": [],
   "source": []
  },
  {
   "cell_type": "code",
   "execution_count": null,
   "id": "3ab94cb1",
   "metadata": {},
   "outputs": [],
   "source": []
  },
  {
   "cell_type": "code",
   "execution_count": null,
   "id": "43226e93",
   "metadata": {},
   "outputs": [],
   "source": []
  },
  {
   "cell_type": "code",
   "execution_count": null,
   "id": "89c89a78",
   "metadata": {},
   "outputs": [],
   "source": []
  }
 ],
 "metadata": {
  "kernelspec": {
   "display_name": "Python 3",
   "language": "python",
   "name": "python3"
  },
  "language_info": {
   "codemirror_mode": {
    "name": "ipython",
    "version": 3
   },
   "file_extension": ".py",
   "mimetype": "text/x-python",
   "name": "python",
   "nbconvert_exporter": "python",
   "pygments_lexer": "ipython3",
   "version": "3.8.8"
  }
 },
 "nbformat": 4,
 "nbformat_minor": 5
}
