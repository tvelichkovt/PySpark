{
 "cells": [
  {
   "cell_type": "code",
   "execution_count": 1,
   "id": "699183c2",
   "metadata": {},
   "outputs": [
    {
     "name": "stdout",
     "output_type": "stream",
     "text": [
      "Requirement already satisfied: pyspark in c:\\programdata\\anaconda3\\lib\\site-packages (3.2.0)\n",
      "Requirement already satisfied: py4j==0.10.9.2 in c:\\programdata\\anaconda3\\lib\\site-packages (from pyspark) (0.10.9.2)\n"
     ]
    }
   ],
   "source": [
    "!pip install pyspark\n"
   ]
  },
  {
   "cell_type": "code",
   "execution_count": 2,
   "id": "38fbd7f0",
   "metadata": {},
   "outputs": [],
   "source": [
    "from pyspark.sql import SparkSession\n",
    "spark=SparkSession.builder.appName('App6').getOrCreate()"
   ]
  },
  {
   "cell_type": "code",
   "execution_count": 3,
   "id": "c3677d33",
   "metadata": {},
   "outputs": [
    {
     "data": {
      "text/html": [
       "\n",
       "            <div>\n",
       "                <p><b>SparkSession - in-memory</b></p>\n",
       "                \n",
       "        <div>\n",
       "            <p><b>SparkContext</b></p>\n",
       "\n",
       "            <p><a href=\"http://host.docker.internal:4042\">Spark UI</a></p>\n",
       "\n",
       "            <dl>\n",
       "              <dt>Version</dt>\n",
       "                <dd><code>v3.2.0</code></dd>\n",
       "              <dt>Master</dt>\n",
       "                <dd><code>local[*]</code></dd>\n",
       "              <dt>AppName</dt>\n",
       "                <dd><code>App6</code></dd>\n",
       "            </dl>\n",
       "        </div>\n",
       "        \n",
       "            </div>\n",
       "        "
      ],
      "text/plain": [
       "<pyspark.sql.session.SparkSession at 0x1c0792150d0>"
      ]
     },
     "execution_count": 3,
     "metadata": {},
     "output_type": "execute_result"
    }
   ],
   "source": [
    "spark"
   ]
  },
  {
   "cell_type": "code",
   "execution_count": 4,
   "id": "ea5e3e82",
   "metadata": {},
   "outputs": [],
   "source": [
    "from pyspark.sql import SparkSession"
   ]
  },
  {
   "cell_type": "code",
   "execution_count": 5,
   "id": "5ac4617a",
   "metadata": {},
   "outputs": [],
   "source": [
    "spark=SparkSession.builder.appName('App6').getOrCreate()"
   ]
  },
  {
   "cell_type": "code",
   "execution_count": 6,
   "id": "2bb31730",
   "metadata": {},
   "outputs": [
    {
     "name": "stdout",
     "output_type": "stream",
     "text": [
      "+---+------------------+--------------------+------+---+---+-------+----------+\n",
      "| Id|      EmployeeName|            JobTitle|Salary|Age|Exp|Country|      City|\n",
      "+---+------------------+--------------------+------+---+---+-------+----------+\n",
      "|  1|    NATHANIEL FORD|GENERAL MANAGER-M...| 34032| 80| 18|     UK|    London|\n",
      "|  2|      GARY JIMENEZ|CAPTAIN III (POLI...| 27956| 48|  2|     UK|    London|\n",
      "|  3|    ALBERT PARDINI|CAPTAIN III (POLI...| 33000| 78|  5|     UK|    London|\n",
      "|  4| CHRISTOPHER CHONG|WIRE ROPE CABLE M...| 33000| 38|  8|     UK|    London|\n",
      "|  5|   PATRICK GARDNER|DEPUTY CHIEF OF D...| 33000| 39| 11|     UK|     Leeds|\n",
      "|  6|    DAVID SULLIVAN|ASSISTANT DEPUTY ...| 33000| 64|  2|     UK|     Leeds|\n",
      "|  7|         ALSON LEE|BATTALION CHIEF, ...| 33000| 34| 12|     UK|     Leeds|\n",
      "|  8|     DAVID KUSHNER|DEPUTY DIRECTOR O...| 33000| 62| 16|     UK|     Leeds|\n",
      "|  9|    MICHAEL MORRIS|BATTALION CHIEF, ...| 33000| 23| 12|     UK|     Leeds|\n",
      "| 10|JOANNE HAYES-WHITE|CHIEF OF DEPARTME...| 33000| 80| 21|     UK|     Leeds|\n",
      "| 11|     ARTHUR KENNEY|ASSISTANT CHIEF O...| 33000| 52|  3|     UK|     Leeds|\n",
      "| 12|  PATRICIA JACKSON|CAPTAIN III (POLI...| 33000| 86|  8|     UK|     Leeds|\n",
      "| 13| EDWARD HARRINGTON|EXECUTIVE CONTRAC...| 54211| 85|  5|     UK|     Leeds|\n",
      "| 14|       JOHN MARTIN|   DEPARTMENT HEAD V| 10430| 39| 11|     UK|Manchester|\n",
      "| 15|    DAVID FRANKLIN|BATTALION CHIEF, ...|  5187| 57| 15|     UK|Manchester|\n",
      "| 16|   RICHARD CORRIEA|COMMANDER III, (P...| 39291| 25| 20|     UK|Manchester|\n",
      "| 17|          AMY HART|   DEPARTMENT HEAD V| 29633| 29|  1|     UK|Manchester|\n",
      "| 18|    SEBASTIAN WONG|CAPTAIN, EMERGENC...| 40976| 85|  4|     UK|      null|\n",
      "| 19|        MARTY ROSS|BATTALION CHIEF, ...| 38209| 38| 19|    USA|  New York|\n",
      "| 20|     ELLEN MOFFATT|ASSISTANT MEDICAL...| 41502| 28|  1|    USA|  New York|\n",
      "+---+------------------+--------------------+------+---+---+-------+----------+\n",
      "only showing top 20 rows\n",
      "\n"
     ]
    }
   ],
   "source": [
    "spark.read.option('header','true').csv('Salaries.csv').show()"
   ]
  },
  {
   "cell_type": "code",
   "execution_count": 7,
   "id": "d966b35d",
   "metadata": {},
   "outputs": [
    {
     "name": "stdout",
     "output_type": "stream",
     "text": [
      "+---+------------------+--------------------+------+---+---+-------+----------+\n",
      "| Id|      EmployeeName|            JobTitle|Salary|Age|Exp|Country|      City|\n",
      "+---+------------------+--------------------+------+---+---+-------+----------+\n",
      "|  1|    NATHANIEL FORD|GENERAL MANAGER-M...| 34032| 80| 18|     UK|    London|\n",
      "|  2|      GARY JIMENEZ|CAPTAIN III (POLI...| 27956| 48|  2|     UK|    London|\n",
      "|  3|    ALBERT PARDINI|CAPTAIN III (POLI...| 33000| 78|  5|     UK|    London|\n",
      "|  4| CHRISTOPHER CHONG|WIRE ROPE CABLE M...| 33000| 38|  8|     UK|    London|\n",
      "|  5|   PATRICK GARDNER|DEPUTY CHIEF OF D...| 33000| 39| 11|     UK|     Leeds|\n",
      "|  6|    DAVID SULLIVAN|ASSISTANT DEPUTY ...| 33000| 64|  2|     UK|     Leeds|\n",
      "|  7|         ALSON LEE|BATTALION CHIEF, ...| 33000| 34| 12|     UK|     Leeds|\n",
      "|  8|     DAVID KUSHNER|DEPUTY DIRECTOR O...| 33000| 62| 16|     UK|     Leeds|\n",
      "|  9|    MICHAEL MORRIS|BATTALION CHIEF, ...| 33000| 23| 12|     UK|     Leeds|\n",
      "| 10|JOANNE HAYES-WHITE|CHIEF OF DEPARTME...| 33000| 80| 21|     UK|     Leeds|\n",
      "| 11|     ARTHUR KENNEY|ASSISTANT CHIEF O...| 33000| 52|  3|     UK|     Leeds|\n",
      "| 12|  PATRICIA JACKSON|CAPTAIN III (POLI...| 33000| 86|  8|     UK|     Leeds|\n",
      "| 13| EDWARD HARRINGTON|EXECUTIVE CONTRAC...| 54211| 85|  5|     UK|     Leeds|\n",
      "| 14|       JOHN MARTIN|   DEPARTMENT HEAD V| 10430| 39| 11|     UK|Manchester|\n",
      "| 15|    DAVID FRANKLIN|BATTALION CHIEF, ...|  5187| 57| 15|     UK|Manchester|\n",
      "| 16|   RICHARD CORRIEA|COMMANDER III, (P...| 39291| 25| 20|     UK|Manchester|\n",
      "| 17|          AMY HART|   DEPARTMENT HEAD V| 29633| 29|  1|     UK|Manchester|\n",
      "| 18|    SEBASTIAN WONG|CAPTAIN, EMERGENC...| 40976| 85|  4|     UK|      null|\n",
      "| 19|        MARTY ROSS|BATTALION CHIEF, ...| 38209| 38| 19|    USA|  New York|\n",
      "| 20|     ELLEN MOFFATT|ASSISTANT MEDICAL...| 41502| 28|  1|    USA|  New York|\n",
      "+---+------------------+--------------------+------+---+---+-------+----------+\n",
      "only showing top 20 rows\n",
      "\n"
     ]
    }
   ],
   "source": [
    "df_pyspark=spark.read.option('header','true').csv('Salaries.csv',inferSchema=True)\n",
    "df_pyspark.show()"
   ]
  },
  {
   "cell_type": "code",
   "execution_count": 8,
   "id": "4e2503b1",
   "metadata": {},
   "outputs": [
    {
     "name": "stdout",
     "output_type": "stream",
     "text": [
      "root\n",
      " |-- Id: integer (nullable = true)\n",
      " |-- EmployeeName: string (nullable = true)\n",
      " |-- JobTitle: string (nullable = true)\n",
      " |-- Salary: integer (nullable = true)\n",
      " |-- Age: integer (nullable = true)\n",
      " |-- Exp: integer (nullable = true)\n",
      " |-- Country: string (nullable = true)\n",
      " |-- City: string (nullable = true)\n",
      "\n"
     ]
    }
   ],
   "source": [
    "df_pyspark.printSchema()"
   ]
  },
  {
   "cell_type": "code",
   "execution_count": 9,
   "id": "d6d4b3b9",
   "metadata": {},
   "outputs": [],
   "source": [
    "# Machine Learning"
   ]
  },
  {
   "cell_type": "code",
   "execution_count": null,
   "id": "41a14a8f",
   "metadata": {},
   "outputs": [],
   "source": [
    "# Independent Feature -----------> Age, Exp"
   ]
  },
  {
   "cell_type": "code",
   "execution_count": 10,
   "id": "573d457a",
   "metadata": {},
   "outputs": [],
   "source": [
    "from pyspark.ml.feature import VectorAssembler"
   ]
  },
  {
   "cell_type": "code",
   "execution_count": 15,
   "id": "dc12a796",
   "metadata": {},
   "outputs": [],
   "source": [
    "featureassembler=VectorAssembler(inputCols=['Age','Exp'],outputCol=\"Independent Features\")"
   ]
  },
  {
   "cell_type": "code",
   "execution_count": 17,
   "id": "740907b1",
   "metadata": {},
   "outputs": [],
   "source": [
    "output=featureassembler.transform(df_pyspark)"
   ]
  },
  {
   "cell_type": "code",
   "execution_count": 18,
   "id": "f316ac8a",
   "metadata": {},
   "outputs": [
    {
     "data": {
      "text/plain": [
       "DataFrame[Id: int, EmployeeName: string, JobTitle: string, Salary: int, Age: int, Exp: int, Country: string, City: string, Independent Features: vector]"
      ]
     },
     "execution_count": 18,
     "metadata": {},
     "output_type": "execute_result"
    }
   ],
   "source": [
    "output"
   ]
  },
  {
   "cell_type": "code",
   "execution_count": 25,
   "id": "663205f6",
   "metadata": {},
   "outputs": [
    {
     "data": {
      "text/plain": [
       "['Id',\n",
       " 'EmployeeName',\n",
       " 'JobTitle',\n",
       " 'Salary',\n",
       " 'Age',\n",
       " 'Exp',\n",
       " 'Country',\n",
       " 'City',\n",
       " 'Independent Features']"
      ]
     },
     "execution_count": 25,
     "metadata": {},
     "output_type": "execute_result"
    }
   ],
   "source": [
    "output.columns"
   ]
  },
  {
   "cell_type": "code",
   "execution_count": 26,
   "id": "36d7eeb3",
   "metadata": {},
   "outputs": [
    {
     "name": "stdout",
     "output_type": "stream",
     "text": [
      "+---+------------------+--------------------+------+---+---+-------+----------+--------------------+\n",
      "| Id|      EmployeeName|            JobTitle|Salary|Age|Exp|Country|      City|Independent Features|\n",
      "+---+------------------+--------------------+------+---+---+-------+----------+--------------------+\n",
      "|  1|    NATHANIEL FORD|GENERAL MANAGER-M...| 34032| 80| 18|     UK|    London|         [80.0,18.0]|\n",
      "|  2|      GARY JIMENEZ|CAPTAIN III (POLI...| 27956| 48|  2|     UK|    London|          [48.0,2.0]|\n",
      "|  3|    ALBERT PARDINI|CAPTAIN III (POLI...| 33000| 78|  5|     UK|    London|          [78.0,5.0]|\n",
      "|  4| CHRISTOPHER CHONG|WIRE ROPE CABLE M...| 33000| 38|  8|     UK|    London|          [38.0,8.0]|\n",
      "|  5|   PATRICK GARDNER|DEPUTY CHIEF OF D...| 33000| 39| 11|     UK|     Leeds|         [39.0,11.0]|\n",
      "|  6|    DAVID SULLIVAN|ASSISTANT DEPUTY ...| 33000| 64|  2|     UK|     Leeds|          [64.0,2.0]|\n",
      "|  7|         ALSON LEE|BATTALION CHIEF, ...| 33000| 34| 12|     UK|     Leeds|         [34.0,12.0]|\n",
      "|  8|     DAVID KUSHNER|DEPUTY DIRECTOR O...| 33000| 62| 16|     UK|     Leeds|         [62.0,16.0]|\n",
      "|  9|    MICHAEL MORRIS|BATTALION CHIEF, ...| 33000| 23| 12|     UK|     Leeds|         [23.0,12.0]|\n",
      "| 10|JOANNE HAYES-WHITE|CHIEF OF DEPARTME...| 33000| 80| 21|     UK|     Leeds|         [80.0,21.0]|\n",
      "| 11|     ARTHUR KENNEY|ASSISTANT CHIEF O...| 33000| 52|  3|     UK|     Leeds|          [52.0,3.0]|\n",
      "| 12|  PATRICIA JACKSON|CAPTAIN III (POLI...| 33000| 86|  8|     UK|     Leeds|          [86.0,8.0]|\n",
      "| 13| EDWARD HARRINGTON|EXECUTIVE CONTRAC...| 54211| 85|  5|     UK|     Leeds|          [85.0,5.0]|\n",
      "| 14|       JOHN MARTIN|   DEPARTMENT HEAD V| 10430| 39| 11|     UK|Manchester|         [39.0,11.0]|\n",
      "| 15|    DAVID FRANKLIN|BATTALION CHIEF, ...|  5187| 57| 15|     UK|Manchester|         [57.0,15.0]|\n",
      "| 16|   RICHARD CORRIEA|COMMANDER III, (P...| 39291| 25| 20|     UK|Manchester|         [25.0,20.0]|\n",
      "| 17|          AMY HART|   DEPARTMENT HEAD V| 29633| 29|  1|     UK|Manchester|          [29.0,1.0]|\n",
      "| 18|    SEBASTIAN WONG|CAPTAIN, EMERGENC...| 40976| 85|  4|     UK|      null|          [85.0,4.0]|\n",
      "| 19|        MARTY ROSS|BATTALION CHIEF, ...| 38209| 38| 19|    USA|  New York|         [38.0,19.0]|\n",
      "| 20|     ELLEN MOFFATT|ASSISTANT MEDICAL...| 41502| 28|  1|    USA|  New York|          [28.0,1.0]|\n",
      "+---+------------------+--------------------+------+---+---+-------+----------+--------------------+\n",
      "only showing top 20 rows\n",
      "\n"
     ]
    }
   ],
   "source": [
    "output.show()"
   ]
  },
  {
   "cell_type": "code",
   "execution_count": 28,
   "id": "d3924c13",
   "metadata": {},
   "outputs": [],
   "source": [
    "finalized_data=output.select('Independent Features','Salary')"
   ]
  },
  {
   "cell_type": "code",
   "execution_count": 31,
   "id": "7eaf1398",
   "metadata": {},
   "outputs": [
    {
     "name": "stdout",
     "output_type": "stream",
     "text": [
      "+--------------------+------+\n",
      "|Independent Features|Salary|\n",
      "+--------------------+------+\n",
      "|         [80.0,18.0]| 34032|\n",
      "|          [48.0,2.0]| 27956|\n",
      "|          [78.0,5.0]| 33000|\n",
      "|          [38.0,8.0]| 33000|\n",
      "|         [39.0,11.0]| 33000|\n",
      "|          [64.0,2.0]| 33000|\n",
      "|         [34.0,12.0]| 33000|\n",
      "|         [62.0,16.0]| 33000|\n",
      "|         [23.0,12.0]| 33000|\n",
      "|         [80.0,21.0]| 33000|\n",
      "|          [52.0,3.0]| 33000|\n",
      "|          [86.0,8.0]| 33000|\n",
      "|          [85.0,5.0]| 54211|\n",
      "|         [39.0,11.0]| 10430|\n",
      "|         [57.0,15.0]|  5187|\n",
      "|         [25.0,20.0]| 39291|\n",
      "|          [29.0,1.0]| 29633|\n",
      "|          [85.0,4.0]| 40976|\n",
      "|         [38.0,19.0]| 38209|\n",
      "|          [28.0,1.0]| 41502|\n",
      "+--------------------+------+\n",
      "only showing top 20 rows\n",
      "\n"
     ]
    }
   ],
   "source": [
    "finalized_data.show()"
   ]
  },
  {
   "cell_type": "code",
   "execution_count": 32,
   "id": "5d399827",
   "metadata": {},
   "outputs": [],
   "source": [
    "# traing the model"
   ]
  },
  {
   "cell_type": "code",
   "execution_count": 33,
   "id": "990a85c6",
   "metadata": {},
   "outputs": [],
   "source": [
    "from pyspark.ml.regression import LinearRegression"
   ]
  },
  {
   "cell_type": "code",
   "execution_count": 34,
   "id": "2e3f32c2",
   "metadata": {},
   "outputs": [],
   "source": [
    "train_data,test_data=finalized_data.randomSplit([0.75,0.25])\n",
    "regressor=LinearRegression(featuresCol='Independent Features', labelCol='Salary')\n",
    "regressor=regressor.fit(train_data)"
   ]
  },
  {
   "cell_type": "code",
   "execution_count": 35,
   "id": "81061bdd",
   "metadata": {},
   "outputs": [
    {
     "data": {
      "text/plain": [
       "DenseVector([37.592, -326.0776])"
      ]
     },
     "execution_count": 35,
     "metadata": {},
     "output_type": "execute_result"
    }
   ],
   "source": [
    "# coefficients\n",
    "\n",
    "regressor.coefficients"
   ]
  },
  {
   "cell_type": "code",
   "execution_count": 37,
   "id": "20d9320d",
   "metadata": {},
   "outputs": [
    {
     "data": {
      "text/plain": [
       "31729.736193544555"
      ]
     },
     "execution_count": 37,
     "metadata": {},
     "output_type": "execute_result"
    }
   ],
   "source": [
    "# intercepts\n",
    "\n",
    "regressor.intercept"
   ]
  },
  {
   "cell_type": "code",
   "execution_count": 38,
   "id": "d010ca53",
   "metadata": {},
   "outputs": [],
   "source": [
    "# prediction\n",
    "\n",
    "pred_results=regressor.evaluate(test_data)"
   ]
  },
  {
   "cell_type": "code",
   "execution_count": 39,
   "id": "66556237",
   "metadata": {},
   "outputs": [
    {
     "name": "stdout",
     "output_type": "stream",
     "text": [
      "+--------------------+------+------------------+\n",
      "|Independent Features|Salary|        prediction|\n",
      "+--------------------+------+------------------+\n",
      "|         [20.0,13.0]| 33000|28242.567464485724|\n",
      "|         [28.0,22.0]| 35627|25608.605224962645|\n",
      "|          [31.0,9.0]| 33000|29960.389515892824|\n",
      "|         [38.0,19.0]| 38209|26962.757730182093|\n",
      "|         [39.0,11.0]| 33000|29608.970233026805|\n",
      "|          [41.0,5.0]| 27273|31640.619586348996|\n",
      "|          [46.0,2.0]| 31965|32806.812186813804|\n",
      "|         [46.0,19.0]| 31311| 27263.49357778952|\n",
      "|         [53.0,11.0]|  7751|30135.257966339796|\n",
      "|         [54.0,13.0]| 10498| 29520.69481681728|\n",
      "|          [57.0,1.0]| 32458|33546.401542510735|\n",
      "|          [65.0,5.0]| 48372| 32542.82712917127|\n",
      "|          [69.0,1.0]|  8117| 33997.50531392187|\n",
      "|          [70.0,5.0]| 15362| 32730.78703392591|\n",
      "|          [70.0,8.0]| 14067| 31752.55433821574|\n",
      "|         [72.0,11.0]| 10128| 30849.50560440743|\n",
      "|         [72.0,21.0]| 51967|27588.729952040205|\n",
      "|          [79.0,1.0]| 18992| 34373.42512343115|\n",
      "|         [80.0,18.0]| 33000|  28867.6984953578|\n",
      "|         [84.0,21.0]|  6666|28039.833723451342|\n",
      "+--------------------+------+------------------+\n",
      "only showing top 20 rows\n",
      "\n"
     ]
    },
    {
     "name": "stderr",
     "output_type": "stream",
     "text": [
      "C:\\ProgramData\\Anaconda3\\lib\\site-packages\\pyspark\\sql\\context.py:125: FutureWarning: Deprecated in 3.0.0. Use SparkSession.builder.getOrCreate() instead.\n",
      "  warnings.warn(\n"
     ]
    }
   ],
   "source": [
    "pred_results.predictions.show()"
   ]
  },
  {
   "cell_type": "code",
   "execution_count": 40,
   "id": "88d09488",
   "metadata": {},
   "outputs": [
    {
     "data": {
      "text/plain": [
       "(12523.848566577617, 237252912.29296038)"
      ]
     },
     "execution_count": 40,
     "metadata": {},
     "output_type": "execute_result"
    }
   ],
   "source": [
    "pred_results.meanAbsoluteError,pred_results.meanSquaredError"
   ]
  }
 ],
 "metadata": {
  "kernelspec": {
   "display_name": "Python 3",
   "language": "python",
   "name": "python3"
  },
  "language_info": {
   "codemirror_mode": {
    "name": "ipython",
    "version": 3
   },
   "file_extension": ".py",
   "mimetype": "text/x-python",
   "name": "python",
   "nbconvert_exporter": "python",
   "pygments_lexer": "ipython3",
   "version": "3.8.8"
  }
 },
 "nbformat": 4,
 "nbformat_minor": 5
}
