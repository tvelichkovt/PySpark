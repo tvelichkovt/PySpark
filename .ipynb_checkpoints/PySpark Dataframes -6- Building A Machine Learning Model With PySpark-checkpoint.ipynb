{
 "cells": [
  {
   "cell_type": "code",
   "execution_count": 1,
   "id": "699183c2",
   "metadata": {},
   "outputs": [
    {
     "name": "stdout",
     "output_type": "stream",
     "text": [
      "Requirement already satisfied: pyspark in c:\\programdata\\anaconda3\\lib\\site-packages (3.2.0)\n",
      "Requirement already satisfied: py4j==0.10.9.2 in c:\\programdata\\anaconda3\\lib\\site-packages (from pyspark) (0.10.9.2)\n"
     ]
    }
   ],
   "source": [
    "!pip install pyspark\n"
   ]
  },
  {
   "cell_type": "code",
   "execution_count": 2,
   "id": "38fbd7f0",
   "metadata": {},
   "outputs": [],
   "source": [
    "from pyspark.sql import SparkSession\n",
    "spark=SparkSession.builder.appName('App6').getOrCreate()"
   ]
  },
  {
   "cell_type": "code",
   "execution_count": 3,
   "id": "c3677d33",
   "metadata": {},
   "outputs": [
    {
     "data": {
      "text/html": [
       "\n",
       "            <div>\n",
       "                <p><b>SparkSession - in-memory</b></p>\n",
       "                \n",
       "        <div>\n",
       "            <p><b>SparkContext</b></p>\n",
       "\n",
       "            <p><a href=\"http://host.docker.internal:4042\">Spark UI</a></p>\n",
       "\n",
       "            <dl>\n",
       "              <dt>Version</dt>\n",
       "                <dd><code>v3.2.0</code></dd>\n",
       "              <dt>Master</dt>\n",
       "                <dd><code>local[*]</code></dd>\n",
       "              <dt>AppName</dt>\n",
       "                <dd><code>App6</code></dd>\n",
       "            </dl>\n",
       "        </div>\n",
       "        \n",
       "            </div>\n",
       "        "
      ],
      "text/plain": [
       "<pyspark.sql.session.SparkSession at 0x17dfed930d0>"
      ]
     },
     "execution_count": 3,
     "metadata": {},
     "output_type": "execute_result"
    }
   ],
   "source": [
    "spark"
   ]
  },
  {
   "cell_type": "code",
   "execution_count": 4,
   "id": "ea5e3e82",
   "metadata": {},
   "outputs": [],
   "source": [
    "from pyspark.sql import SparkSession"
   ]
  },
  {
   "cell_type": "code",
   "execution_count": 5,
   "id": "5ac4617a",
   "metadata": {},
   "outputs": [],
   "source": [
    "spark=SparkSession.builder.appName('App6').getOrCreate()"
   ]
  },
  {
   "cell_type": "code",
   "execution_count": 6,
   "id": "2bb31730",
   "metadata": {},
   "outputs": [
    {
     "name": "stdout",
     "output_type": "stream",
     "text": [
      "+---+------------------+--------------------+------+---+---+-------+----------+\n",
      "| Id|      EmployeeName|            JobTitle|Salary|Age|Exp|Country|      City|\n",
      "+---+------------------+--------------------+------+---+---+-------+----------+\n",
      "|  1|    NATHANIEL FORD|GENERAL MANAGER-M...| 34032| 80| 18|     UK|    London|\n",
      "|  2|      GARY JIMENEZ|CAPTAIN III (POLI...| 27956| 48|  2|     UK|    London|\n",
      "|  3|    ALBERT PARDINI|CAPTAIN III (POLI...| 33000| 78|  5|     UK|    London|\n",
      "|  4| CHRISTOPHER CHONG|WIRE ROPE CABLE M...| 33000| 38|  8|     UK|    London|\n",
      "|  5|   PATRICK GARDNER|DEPUTY CHIEF OF D...| 33000| 39| 11|     UK|     Leeds|\n",
      "|  6|    DAVID SULLIVAN|ASSISTANT DEPUTY ...| 33000| 64|  2|     UK|     Leeds|\n",
      "|  7|         ALSON LEE|BATTALION CHIEF, ...| 33000| 34| 12|     UK|     Leeds|\n",
      "|  8|     DAVID KUSHNER|DEPUTY DIRECTOR O...| 33000| 62| 16|     UK|     Leeds|\n",
      "|  9|    MICHAEL MORRIS|BATTALION CHIEF, ...| 33000| 23| 12|     UK|     Leeds|\n",
      "| 10|JOANNE HAYES-WHITE|CHIEF OF DEPARTME...| 33000| 80| 21|     UK|     Leeds|\n",
      "| 11|     ARTHUR KENNEY|ASSISTANT CHIEF O...| 33000| 52|  3|     UK|     Leeds|\n",
      "| 12|  PATRICIA JACKSON|CAPTAIN III (POLI...| 33000| 86|  8|     UK|     Leeds|\n",
      "| 13| EDWARD HARRINGTON|EXECUTIVE CONTRAC...| 54211| 85|  5|     UK|     Leeds|\n",
      "| 14|       JOHN MARTIN|   DEPARTMENT HEAD V| 10430| 39| 11|     UK|Manchester|\n",
      "| 15|    DAVID FRANKLIN|BATTALION CHIEF, ...|  5187| 57| 15|     UK|Manchester|\n",
      "| 16|   RICHARD CORRIEA|COMMANDER III, (P...| 39291| 25| 20|     UK|Manchester|\n",
      "| 17|          AMY HART|   DEPARTMENT HEAD V| 29633| 29|  1|     UK|Manchester|\n",
      "| 18|    SEBASTIAN WONG|CAPTAIN, EMERGENC...| 40976| 85|  4|     UK|      null|\n",
      "| 19|        MARTY ROSS|BATTALION CHIEF, ...| 38209| 38| 19|    USA|  New York|\n",
      "| 20|     ELLEN MOFFATT|ASSISTANT MEDICAL...| 41502| 28|  1|    USA|  New York|\n",
      "+---+------------------+--------------------+------+---+---+-------+----------+\n",
      "only showing top 20 rows\n",
      "\n"
     ]
    }
   ],
   "source": [
    "spark.read.option('header','true').csv('Salaries.csv').show()"
   ]
  },
  {
   "cell_type": "code",
   "execution_count": 7,
   "id": "d966b35d",
   "metadata": {},
   "outputs": [
    {
     "name": "stdout",
     "output_type": "stream",
     "text": [
      "+---+------------------+--------------------+------+---+---+-------+----------+\n",
      "| Id|      EmployeeName|            JobTitle|Salary|Age|Exp|Country|      City|\n",
      "+---+------------------+--------------------+------+---+---+-------+----------+\n",
      "|  1|    NATHANIEL FORD|GENERAL MANAGER-M...| 34032| 80| 18|     UK|    London|\n",
      "|  2|      GARY JIMENEZ|CAPTAIN III (POLI...| 27956| 48|  2|     UK|    London|\n",
      "|  3|    ALBERT PARDINI|CAPTAIN III (POLI...| 33000| 78|  5|     UK|    London|\n",
      "|  4| CHRISTOPHER CHONG|WIRE ROPE CABLE M...| 33000| 38|  8|     UK|    London|\n",
      "|  5|   PATRICK GARDNER|DEPUTY CHIEF OF D...| 33000| 39| 11|     UK|     Leeds|\n",
      "|  6|    DAVID SULLIVAN|ASSISTANT DEPUTY ...| 33000| 64|  2|     UK|     Leeds|\n",
      "|  7|         ALSON LEE|BATTALION CHIEF, ...| 33000| 34| 12|     UK|     Leeds|\n",
      "|  8|     DAVID KUSHNER|DEPUTY DIRECTOR O...| 33000| 62| 16|     UK|     Leeds|\n",
      "|  9|    MICHAEL MORRIS|BATTALION CHIEF, ...| 33000| 23| 12|     UK|     Leeds|\n",
      "| 10|JOANNE HAYES-WHITE|CHIEF OF DEPARTME...| 33000| 80| 21|     UK|     Leeds|\n",
      "| 11|     ARTHUR KENNEY|ASSISTANT CHIEF O...| 33000| 52|  3|     UK|     Leeds|\n",
      "| 12|  PATRICIA JACKSON|CAPTAIN III (POLI...| 33000| 86|  8|     UK|     Leeds|\n",
      "| 13| EDWARD HARRINGTON|EXECUTIVE CONTRAC...| 54211| 85|  5|     UK|     Leeds|\n",
      "| 14|       JOHN MARTIN|   DEPARTMENT HEAD V| 10430| 39| 11|     UK|Manchester|\n",
      "| 15|    DAVID FRANKLIN|BATTALION CHIEF, ...|  5187| 57| 15|     UK|Manchester|\n",
      "| 16|   RICHARD CORRIEA|COMMANDER III, (P...| 39291| 25| 20|     UK|Manchester|\n",
      "| 17|          AMY HART|   DEPARTMENT HEAD V| 29633| 29|  1|     UK|Manchester|\n",
      "| 18|    SEBASTIAN WONG|CAPTAIN, EMERGENC...| 40976| 85|  4|     UK|      null|\n",
      "| 19|        MARTY ROSS|BATTALION CHIEF, ...| 38209| 38| 19|    USA|  New York|\n",
      "| 20|     ELLEN MOFFATT|ASSISTANT MEDICAL...| 41502| 28|  1|    USA|  New York|\n",
      "+---+------------------+--------------------+------+---+---+-------+----------+\n",
      "only showing top 20 rows\n",
      "\n"
     ]
    }
   ],
   "source": [
    "df_pyspark=spark.read.option('header','true').csv('Salaries.csv',inferSchema=True)\n",
    "df_pyspark.show()"
   ]
  },
  {
   "cell_type": "code",
   "execution_count": 8,
   "id": "4e2503b1",
   "metadata": {},
   "outputs": [
    {
     "name": "stdout",
     "output_type": "stream",
     "text": [
      "root\n",
      " |-- Id: integer (nullable = true)\n",
      " |-- EmployeeName: string (nullable = true)\n",
      " |-- JobTitle: string (nullable = true)\n",
      " |-- Salary: integer (nullable = true)\n",
      " |-- Age: integer (nullable = true)\n",
      " |-- Exp: integer (nullable = true)\n",
      " |-- Country: string (nullable = true)\n",
      " |-- City: string (nullable = true)\n",
      "\n"
     ]
    }
   ],
   "source": [
    "df_pyspark.printSchema()"
   ]
  },
  {
   "cell_type": "code",
   "execution_count": 9,
   "id": "d6d4b3b9",
   "metadata": {},
   "outputs": [],
   "source": [
    "# Machine Learning"
   ]
  },
  {
   "cell_type": "code",
   "execution_count": 10,
   "id": "99359286",
   "metadata": {},
   "outputs": [],
   "source": [
    "# Independent Feature -----------> Age, Exp"
   ]
  },
  {
   "cell_type": "code",
   "execution_count": 11,
   "id": "8d49b758",
   "metadata": {},
   "outputs": [],
   "source": [
    "from pyspark.ml.feature import VectorAssembler"
   ]
  },
  {
   "cell_type": "code",
   "execution_count": 12,
   "id": "e59c92b9",
   "metadata": {},
   "outputs": [],
   "source": [
    "featureassembler=VectorAssembler(inputCols=['Age','Exp'],outputCol=\"Independent Features\")"
   ]
  },
  {
   "cell_type": "code",
   "execution_count": 13,
   "id": "66c88f97",
   "metadata": {},
   "outputs": [],
   "source": [
    "output=featureassembler.transform(df_pyspark)"
   ]
  },
  {
   "cell_type": "code",
   "execution_count": 14,
   "id": "119953d7",
   "metadata": {},
   "outputs": [
    {
     "data": {
      "text/plain": [
       "DataFrame[Id: int, EmployeeName: string, JobTitle: string, Salary: int, Age: int, Exp: int, Country: string, City: string, Independent Features: vector]"
      ]
     },
     "execution_count": 14,
     "metadata": {},
     "output_type": "execute_result"
    }
   ],
   "source": [
    "output"
   ]
  },
  {
   "cell_type": "code",
   "execution_count": 15,
   "id": "4917f9a8",
   "metadata": {},
   "outputs": [
    {
     "data": {
      "text/plain": [
       "['Id',\n",
       " 'EmployeeName',\n",
       " 'JobTitle',\n",
       " 'Salary',\n",
       " 'Age',\n",
       " 'Exp',\n",
       " 'Country',\n",
       " 'City',\n",
       " 'Independent Features']"
      ]
     },
     "execution_count": 15,
     "metadata": {},
     "output_type": "execute_result"
    }
   ],
   "source": [
    "output.columns"
   ]
  },
  {
   "cell_type": "code",
   "execution_count": 16,
   "id": "3c73d36f",
   "metadata": {},
   "outputs": [
    {
     "name": "stdout",
     "output_type": "stream",
     "text": [
      "+---+------------------+--------------------+------+---+---+-------+----------+--------------------+\n",
      "| Id|      EmployeeName|            JobTitle|Salary|Age|Exp|Country|      City|Independent Features|\n",
      "+---+------------------+--------------------+------+---+---+-------+----------+--------------------+\n",
      "|  1|    NATHANIEL FORD|GENERAL MANAGER-M...| 34032| 80| 18|     UK|    London|         [80.0,18.0]|\n",
      "|  2|      GARY JIMENEZ|CAPTAIN III (POLI...| 27956| 48|  2|     UK|    London|          [48.0,2.0]|\n",
      "|  3|    ALBERT PARDINI|CAPTAIN III (POLI...| 33000| 78|  5|     UK|    London|          [78.0,5.0]|\n",
      "|  4| CHRISTOPHER CHONG|WIRE ROPE CABLE M...| 33000| 38|  8|     UK|    London|          [38.0,8.0]|\n",
      "|  5|   PATRICK GARDNER|DEPUTY CHIEF OF D...| 33000| 39| 11|     UK|     Leeds|         [39.0,11.0]|\n",
      "|  6|    DAVID SULLIVAN|ASSISTANT DEPUTY ...| 33000| 64|  2|     UK|     Leeds|          [64.0,2.0]|\n",
      "|  7|         ALSON LEE|BATTALION CHIEF, ...| 33000| 34| 12|     UK|     Leeds|         [34.0,12.0]|\n",
      "|  8|     DAVID KUSHNER|DEPUTY DIRECTOR O...| 33000| 62| 16|     UK|     Leeds|         [62.0,16.0]|\n",
      "|  9|    MICHAEL MORRIS|BATTALION CHIEF, ...| 33000| 23| 12|     UK|     Leeds|         [23.0,12.0]|\n",
      "| 10|JOANNE HAYES-WHITE|CHIEF OF DEPARTME...| 33000| 80| 21|     UK|     Leeds|         [80.0,21.0]|\n",
      "| 11|     ARTHUR KENNEY|ASSISTANT CHIEF O...| 33000| 52|  3|     UK|     Leeds|          [52.0,3.0]|\n",
      "| 12|  PATRICIA JACKSON|CAPTAIN III (POLI...| 33000| 86|  8|     UK|     Leeds|          [86.0,8.0]|\n",
      "| 13| EDWARD HARRINGTON|EXECUTIVE CONTRAC...| 54211| 85|  5|     UK|     Leeds|          [85.0,5.0]|\n",
      "| 14|       JOHN MARTIN|   DEPARTMENT HEAD V| 10430| 39| 11|     UK|Manchester|         [39.0,11.0]|\n",
      "| 15|    DAVID FRANKLIN|BATTALION CHIEF, ...|  5187| 57| 15|     UK|Manchester|         [57.0,15.0]|\n",
      "| 16|   RICHARD CORRIEA|COMMANDER III, (P...| 39291| 25| 20|     UK|Manchester|         [25.0,20.0]|\n",
      "| 17|          AMY HART|   DEPARTMENT HEAD V| 29633| 29|  1|     UK|Manchester|          [29.0,1.0]|\n",
      "| 18|    SEBASTIAN WONG|CAPTAIN, EMERGENC...| 40976| 85|  4|     UK|      null|          [85.0,4.0]|\n",
      "| 19|        MARTY ROSS|BATTALION CHIEF, ...| 38209| 38| 19|    USA|  New York|         [38.0,19.0]|\n",
      "| 20|     ELLEN MOFFATT|ASSISTANT MEDICAL...| 41502| 28|  1|    USA|  New York|          [28.0,1.0]|\n",
      "+---+------------------+--------------------+------+---+---+-------+----------+--------------------+\n",
      "only showing top 20 rows\n",
      "\n"
     ]
    }
   ],
   "source": [
    "output.show()"
   ]
  },
  {
   "cell_type": "code",
   "execution_count": 17,
   "id": "fab02afc",
   "metadata": {},
   "outputs": [],
   "source": [
    "finalized_data=output.select('Independent Features','Salary')"
   ]
  },
  {
   "cell_type": "code",
   "execution_count": 18,
   "id": "cba3194f",
   "metadata": {},
   "outputs": [
    {
     "name": "stdout",
     "output_type": "stream",
     "text": [
      "+--------------------+------+\n",
      "|Independent Features|Salary|\n",
      "+--------------------+------+\n",
      "|         [80.0,18.0]| 34032|\n",
      "|          [48.0,2.0]| 27956|\n",
      "|          [78.0,5.0]| 33000|\n",
      "|          [38.0,8.0]| 33000|\n",
      "|         [39.0,11.0]| 33000|\n",
      "|          [64.0,2.0]| 33000|\n",
      "|         [34.0,12.0]| 33000|\n",
      "|         [62.0,16.0]| 33000|\n",
      "|         [23.0,12.0]| 33000|\n",
      "|         [80.0,21.0]| 33000|\n",
      "|          [52.0,3.0]| 33000|\n",
      "|          [86.0,8.0]| 33000|\n",
      "|          [85.0,5.0]| 54211|\n",
      "|         [39.0,11.0]| 10430|\n",
      "|         [57.0,15.0]|  5187|\n",
      "|         [25.0,20.0]| 39291|\n",
      "|          [29.0,1.0]| 29633|\n",
      "|          [85.0,4.0]| 40976|\n",
      "|         [38.0,19.0]| 38209|\n",
      "|          [28.0,1.0]| 41502|\n",
      "+--------------------+------+\n",
      "only showing top 20 rows\n",
      "\n"
     ]
    }
   ],
   "source": [
    "finalized_data.show()"
   ]
  },
  {
   "cell_type": "code",
   "execution_count": 19,
   "id": "36ab1ec7",
   "metadata": {},
   "outputs": [],
   "source": [
    "# traing the model"
   ]
  },
  {
   "cell_type": "code",
   "execution_count": 20,
   "id": "c8e419b4",
   "metadata": {},
   "outputs": [],
   "source": [
    "from pyspark.ml.regression import LinearRegression"
   ]
  },
  {
   "cell_type": "code",
   "execution_count": 21,
   "id": "2708ad67",
   "metadata": {},
   "outputs": [],
   "source": [
    "train_data,test_data=finalized_data.randomSplit([0.75,0.25])\n",
    "regressor=LinearRegression(featuresCol='Independent Features', labelCol='Salary')\n",
    "regressor=regressor.fit(train_data)"
   ]
  },
  {
   "cell_type": "code",
   "execution_count": 22,
   "id": "8db4a6d6",
   "metadata": {},
   "outputs": [
    {
     "data": {
      "text/plain": [
       "DenseVector([22.1393, -98.3526])"
      ]
     },
     "execution_count": 22,
     "metadata": {},
     "output_type": "execute_result"
    }
   ],
   "source": [
    "# coefficients\n",
    "\n",
    "regressor.coefficients"
   ]
  },
  {
   "cell_type": "code",
   "execution_count": 23,
   "id": "8ae6645a",
   "metadata": {},
   "outputs": [
    {
     "data": {
      "text/plain": [
       "28745.732953111114"
      ]
     },
     "execution_count": 23,
     "metadata": {},
     "output_type": "execute_result"
    }
   ],
   "source": [
    "# intercepts\n",
    "\n",
    "regressor.intercept"
   ]
  },
  {
   "cell_type": "code",
   "execution_count": 24,
   "id": "66ce463e",
   "metadata": {},
   "outputs": [],
   "source": [
    "# prediction\n",
    "\n",
    "pred_results=regressor.evaluate(test_data)"
   ]
  },
  {
   "cell_type": "code",
   "execution_count": 25,
   "id": "c237eb09",
   "metadata": {},
   "outputs": [
    {
     "name": "stdout",
     "output_type": "stream",
     "text": [
      "+--------------------+------+------------------+\n",
      "|Independent Features|Salary|        prediction|\n",
      "+--------------------+------+------------------+\n",
      "|         [24.0,11.0]| 18927|28195.198027820945|\n",
      "|         [25.0,20.0]| 39291| 27332.16417478223|\n",
      "|         [27.0,21.0]| 44436| 27278.09021655779|\n",
      "|         [30.0,21.0]| 24983|27344.508139325804|\n",
      "|         [34.0,12.0]| 33000|28318.238530311213|\n",
      "|         [38.0,19.0]| 38209|27718.327746846746|\n",
      "|          [44.0,8.0]| 38619|28933.041899817068|\n",
      "|          [45.0,1.0]| 34277|29643.649221228225|\n",
      "|          [46.0,6.0]| 49789|29174.025661801978|\n",
      "|         [57.0,15.0]|  5187|28532.384884656647|\n",
      "|          [64.0,2.0]| 33000| 29965.94349202254|\n",
      "|          [69.0,3.0]| 40504|29978.287456566115|\n",
      "|          [70.0,8.0]| 14067|29508.663897139868|\n",
      "|         [72.0,11.0]| 10128| 29257.88479210919|\n",
      "|          [87.0,7.0]| 33000| 29983.38469956174|\n",
      "|         [89.0,14.0]|  2588|29339.195300918593|\n",
      "|          [90.0,6.0]| 33000| 30148.15519573287|\n",
      "+--------------------+------+------------------+\n",
      "\n"
     ]
    },
    {
     "name": "stderr",
     "output_type": "stream",
     "text": [
      "C:\\ProgramData\\Anaconda3\\lib\\site-packages\\pyspark\\sql\\context.py:125: FutureWarning: Deprecated in 3.0.0. Use SparkSession.builder.getOrCreate() instead.\n",
      "  warnings.warn(\n"
     ]
    }
   ],
   "source": [
    "pred_results.predictions.show()"
   ]
  },
  {
   "cell_type": "code",
   "execution_count": 26,
   "id": "1bac8c17",
   "metadata": {},
   "outputs": [
    {
     "data": {
      "text/plain": [
       "(11467.619220396618, 188434109.11305422)"
      ]
     },
     "execution_count": 26,
     "metadata": {},
     "output_type": "execute_result"
    }
   ],
   "source": [
    "pred_results.meanAbsoluteError,pred_results.meanSquaredError"
   ]
  }
 ],
 "metadata": {
  "kernelspec": {
   "display_name": "Python 3",
   "language": "python",
   "name": "python3"
  },
  "language_info": {
   "codemirror_mode": {
    "name": "ipython",
    "version": 3
   },
   "file_extension": ".py",
   "mimetype": "text/x-python",
   "name": "python",
   "nbconvert_exporter": "python",
   "pygments_lexer": "ipython3",
   "version": "3.8.8"
  }
 },
 "nbformat": 4,
 "nbformat_minor": 5
}
