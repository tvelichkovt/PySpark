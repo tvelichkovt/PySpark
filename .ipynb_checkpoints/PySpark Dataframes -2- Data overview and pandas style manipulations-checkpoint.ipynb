{
 "cells": [
  {
   "cell_type": "code",
   "execution_count": 1,
   "id": "699183c2",
   "metadata": {},
   "outputs": [
    {
     "name": "stdout",
     "output_type": "stream",
     "text": [
      "Requirement already satisfied: pyspark in c:\\programdata\\anaconda3\\lib\\site-packages (3.2.0)\n",
      "Requirement already satisfied: py4j==0.10.9.2 in c:\\programdata\\anaconda3\\lib\\site-packages (from pyspark) (0.10.9.2)\n"
     ]
    }
   ],
   "source": [
    "!pip install pyspark\n"
   ]
  },
  {
   "cell_type": "code",
   "execution_count": 2,
   "id": "38fbd7f0",
   "metadata": {},
   "outputs": [],
   "source": [
    "from pyspark.sql import SparkSession\n",
    "spark=SparkSession.builder.appName('App2').getOrCreate()"
   ]
  },
  {
   "cell_type": "code",
   "execution_count": 3,
   "id": "c3677d33",
   "metadata": {},
   "outputs": [
    {
     "data": {
      "text/html": [
       "\n",
       "            <div>\n",
       "                <p><b>SparkSession - in-memory</b></p>\n",
       "                \n",
       "        <div>\n",
       "            <p><b>SparkContext</b></p>\n",
       "\n",
       "            <p><a href=\"http://host.docker.internal:4041\">Spark UI</a></p>\n",
       "\n",
       "            <dl>\n",
       "              <dt>Version</dt>\n",
       "                <dd><code>v3.2.0</code></dd>\n",
       "              <dt>Master</dt>\n",
       "                <dd><code>local[*]</code></dd>\n",
       "              <dt>AppName</dt>\n",
       "                <dd><code>App2</code></dd>\n",
       "            </dl>\n",
       "        </div>\n",
       "        \n",
       "            </div>\n",
       "        "
      ],
      "text/plain": [
       "<pyspark.sql.session.SparkSession at 0x1e0785610a0>"
      ]
     },
     "execution_count": 3,
     "metadata": {},
     "output_type": "execute_result"
    }
   ],
   "source": [
    "spark"
   ]
  },
  {
   "cell_type": "code",
   "execution_count": 4,
   "id": "bdefd20a",
   "metadata": {},
   "outputs": [
    {
     "data": {
      "text/html": [
       "<div>\n",
       "<style scoped>\n",
       "    .dataframe tbody tr th:only-of-type {\n",
       "        vertical-align: middle;\n",
       "    }\n",
       "\n",
       "    .dataframe tbody tr th {\n",
       "        vertical-align: top;\n",
       "    }\n",
       "\n",
       "    .dataframe thead th {\n",
       "        text-align: right;\n",
       "    }\n",
       "</style>\n",
       "<table border=\"1\" class=\"dataframe\">\n",
       "  <thead>\n",
       "    <tr style=\"text-align: right;\">\n",
       "      <th></th>\n",
       "      <th>Sex</th>\n",
       "      <th>Age</th>\n",
       "      <th>Fare</th>\n",
       "    </tr>\n",
       "  </thead>\n",
       "  <tbody>\n",
       "    <tr>\n",
       "      <th>0</th>\n",
       "      <td>male</td>\n",
       "      <td>22</td>\n",
       "      <td>7.25</td>\n",
       "    </tr>\n",
       "    <tr>\n",
       "      <th>1</th>\n",
       "      <td>NaN</td>\n",
       "      <td>38</td>\n",
       "      <td>71.2833</td>\n",
       "    </tr>\n",
       "    <tr>\n",
       "      <th>2</th>\n",
       "      <td>female</td>\n",
       "      <td>26</td>\n",
       "      <td>7.925</td>\n",
       "    </tr>\n",
       "    <tr>\n",
       "      <th>3</th>\n",
       "      <td>female</td>\n",
       "      <td>NaN</td>\n",
       "      <td>53.1</td>\n",
       "    </tr>\n",
       "    <tr>\n",
       "      <th>4</th>\n",
       "      <td>male</td>\n",
       "      <td>35</td>\n",
       "      <td>8.05</td>\n",
       "    </tr>\n",
       "    <tr>\n",
       "      <th>...</th>\n",
       "      <td>...</td>\n",
       "      <td>...</td>\n",
       "      <td>...</td>\n",
       "    </tr>\n",
       "    <tr>\n",
       "      <th>886</th>\n",
       "      <td>male</td>\n",
       "      <td>27</td>\n",
       "      <td>13</td>\n",
       "    </tr>\n",
       "    <tr>\n",
       "      <th>887</th>\n",
       "      <td>female</td>\n",
       "      <td>19</td>\n",
       "      <td>30</td>\n",
       "    </tr>\n",
       "    <tr>\n",
       "      <th>888</th>\n",
       "      <td>female</td>\n",
       "      <td>1</td>\n",
       "      <td>S</td>\n",
       "    </tr>\n",
       "    <tr>\n",
       "      <th>889</th>\n",
       "      <td>male</td>\n",
       "      <td>26</td>\n",
       "      <td>30</td>\n",
       "    </tr>\n",
       "    <tr>\n",
       "      <th>890</th>\n",
       "      <td>male</td>\n",
       "      <td>32</td>\n",
       "      <td>7.75</td>\n",
       "    </tr>\n",
       "  </tbody>\n",
       "</table>\n",
       "<p>891 rows × 3 columns</p>\n",
       "</div>"
      ],
      "text/plain": [
       "        Sex  Age     Fare\n",
       "0      male   22     7.25\n",
       "1       NaN   38  71.2833\n",
       "2    female   26    7.925\n",
       "3    female  NaN     53.1\n",
       "4      male   35     8.05\n",
       "..      ...  ...      ...\n",
       "886    male   27       13\n",
       "887  female   19       30\n",
       "888  female    1        S\n",
       "889    male   26       30\n",
       "890    male   32     7.75\n",
       "\n",
       "[891 rows x 3 columns]"
      ]
     },
     "execution_count": 4,
     "metadata": {},
     "output_type": "execute_result"
    }
   ],
   "source": [
    "import pandas as pd\n",
    "pd.read_csv('titanic1.csv')"
   ]
  },
  {
   "cell_type": "code",
   "execution_count": 5,
   "id": "ea5e3e82",
   "metadata": {},
   "outputs": [],
   "source": [
    "from pyspark.sql import SparkSession"
   ]
  },
  {
   "cell_type": "code",
   "execution_count": 6,
   "id": "5ac4617a",
   "metadata": {},
   "outputs": [],
   "source": [
    "spark=SparkSession.builder.appName('App2').getOrCreate()"
   ]
  },
  {
   "cell_type": "code",
   "execution_count": 7,
   "id": "2bb31730",
   "metadata": {},
   "outputs": [
    {
     "name": "stdout",
     "output_type": "stream",
     "text": [
      "+------+----+-------+\n",
      "|   Sex| Age|   Fare|\n",
      "+------+----+-------+\n",
      "|  male|  22|   7.25|\n",
      "|  null|  38|71.2833|\n",
      "|female|  26|  7.925|\n",
      "|female|null|   53.1|\n",
      "|  male|  35|   8.05|\n",
      "|  male|   0|      Q|\n",
      "|  male|  54|51.8625|\n",
      "|  male|   2| 21.075|\n",
      "|female|  27|11.1333|\n",
      "|  null|  14|30.0708|\n",
      "|female|   4|   16.7|\n",
      "|female|  58|   null|\n",
      "|  male|  20|   8.05|\n",
      "|  male|  39| 31.275|\n",
      "|female|  14| 7.8542|\n",
      "|female|null|     16|\n",
      "|  male|   2| 29.125|\n",
      "|  null|   0|      S|\n",
      "|female|  31|     18|\n",
      "|female|   0|      C|\n",
      "+------+----+-------+\n",
      "only showing top 20 rows\n",
      "\n"
     ]
    }
   ],
   "source": [
    "spark.read.option('header','true').csv('titanic1.csv').show()"
   ]
  },
  {
   "cell_type": "code",
   "execution_count": 8,
   "id": "d966b35d",
   "metadata": {},
   "outputs": [
    {
     "name": "stdout",
     "output_type": "stream",
     "text": [
      "+------+----+-------+\n",
      "|   Sex| Age|   Fare|\n",
      "+------+----+-------+\n",
      "|  male|  22|   7.25|\n",
      "|  null|  38|71.2833|\n",
      "|female|  26|  7.925|\n",
      "|female|null|   53.1|\n",
      "|  male|  35|   8.05|\n",
      "|  male|   0|      Q|\n",
      "|  male|  54|51.8625|\n",
      "|  male|   2| 21.075|\n",
      "|female|  27|11.1333|\n",
      "|  null|  14|30.0708|\n",
      "|female|   4|   16.7|\n",
      "|female|  58|   null|\n",
      "|  male|  20|   8.05|\n",
      "|  male|  39| 31.275|\n",
      "|female|  14| 7.8542|\n",
      "|female|null|     16|\n",
      "|  male|   2| 29.125|\n",
      "|  null|   0|      S|\n",
      "|female|  31|     18|\n",
      "|female|   0|      C|\n",
      "+------+----+-------+\n",
      "only showing top 20 rows\n",
      "\n"
     ]
    }
   ],
   "source": [
    "df_pyspark=spark.read.option('header','true').csv('titanic1.csv',inferSchema=True)\n",
    "df_pyspark.show()"
   ]
  },
  {
   "cell_type": "code",
   "execution_count": 9,
   "id": "4e2503b1",
   "metadata": {},
   "outputs": [
    {
     "name": "stdout",
     "output_type": "stream",
     "text": [
      "root\n",
      " |-- Sex: string (nullable = true)\n",
      " |-- Age: string (nullable = true)\n",
      " |-- Fare: string (nullable = true)\n",
      "\n"
     ]
    }
   ],
   "source": [
    "df_pyspark.printSchema()"
   ]
  },
  {
   "cell_type": "code",
   "execution_count": 10,
   "id": "ef90db11",
   "metadata": {},
   "outputs": [
    {
     "data": {
      "text/plain": [
       "pyspark.sql.dataframe.DataFrame"
      ]
     },
     "execution_count": 10,
     "metadata": {},
     "output_type": "execute_result"
    }
   ],
   "source": [
    "type(df_pyspark)"
   ]
  },
  {
   "cell_type": "code",
   "execution_count": 11,
   "id": "66e8514d",
   "metadata": {},
   "outputs": [
    {
     "data": {
      "text/plain": [
       "['Sex', 'Age', 'Fare']"
      ]
     },
     "execution_count": 11,
     "metadata": {},
     "output_type": "execute_result"
    }
   ],
   "source": [
    "df_pyspark.columns"
   ]
  },
  {
   "cell_type": "code",
   "execution_count": 12,
   "id": "3b4aa43e",
   "metadata": {},
   "outputs": [
    {
     "data": {
      "text/plain": [
       "[Row(Sex='male', Age='22', Fare='7.25'),\n",
       " Row(Sex='null', Age='38', Fare='71.2833'),\n",
       " Row(Sex='female', Age='26', Fare='7.925')]"
      ]
     },
     "execution_count": 12,
     "metadata": {},
     "output_type": "execute_result"
    }
   ],
   "source": [
    "df_pyspark.head(3)"
   ]
  },
  {
   "cell_type": "code",
   "execution_count": 13,
   "id": "50c5ae01",
   "metadata": {},
   "outputs": [
    {
     "data": {
      "text/plain": [
       "DataFrame[Age: string]"
      ]
     },
     "execution_count": 13,
     "metadata": {},
     "output_type": "execute_result"
    }
   ],
   "source": [
    "df_pyspark.select('Age')"
   ]
  },
  {
   "cell_type": "code",
   "execution_count": 14,
   "id": "740ee8e2",
   "metadata": {},
   "outputs": [
    {
     "data": {
      "text/plain": [
       "pyspark.sql.dataframe.DataFrame"
      ]
     },
     "execution_count": 14,
     "metadata": {},
     "output_type": "execute_result"
    }
   ],
   "source": [
    "type(df_pyspark.select('Age'))"
   ]
  },
  {
   "cell_type": "code",
   "execution_count": 15,
   "id": "a040393c",
   "metadata": {},
   "outputs": [
    {
     "name": "stdout",
     "output_type": "stream",
     "text": [
      "+------+-------+\n",
      "|   Sex|   Fare|\n",
      "+------+-------+\n",
      "|  male|   7.25|\n",
      "|  null|71.2833|\n",
      "|female|  7.925|\n",
      "|female|   53.1|\n",
      "|  male|   8.05|\n",
      "|  male|      Q|\n",
      "|  male|51.8625|\n",
      "|  male| 21.075|\n",
      "|female|11.1333|\n",
      "|  null|30.0708|\n",
      "|female|   16.7|\n",
      "|female|   null|\n",
      "|  male|   8.05|\n",
      "|  male| 31.275|\n",
      "|female| 7.8542|\n",
      "|female|     16|\n",
      "|  male| 29.125|\n",
      "|  null|      S|\n",
      "|female|     18|\n",
      "|female|      C|\n",
      "+------+-------+\n",
      "only showing top 20 rows\n",
      "\n"
     ]
    }
   ],
   "source": [
    "df_pyspark.select('Sex','Fare').show()"
   ]
  },
  {
   "cell_type": "code",
   "execution_count": 16,
   "id": "97df0413",
   "metadata": {},
   "outputs": [
    {
     "data": {
      "text/plain": [
       "DataFrame[Sex: string, Age: string]"
      ]
     },
     "metadata": {},
     "output_type": "display_data"
    }
   ],
   "source": [
    "display(df_pyspark.select('Sex','Age'))"
   ]
  },
  {
   "cell_type": "code",
   "execution_count": 17,
   "id": "bc4d7002",
   "metadata": {},
   "outputs": [
    {
     "data": {
      "text/plain": [
       "[('Sex', 'string'), ('Age', 'string'), ('Fare', 'string')]"
      ]
     },
     "execution_count": 17,
     "metadata": {},
     "output_type": "execute_result"
    }
   ],
   "source": [
    "df_pyspark.dtypes"
   ]
  },
  {
   "cell_type": "code",
   "execution_count": 18,
   "id": "37215f5d",
   "metadata": {},
   "outputs": [
    {
     "data": {
      "text/plain": [
       "DataFrame[summary: string, Sex: string, Age: string, Fare: string]"
      ]
     },
     "execution_count": 18,
     "metadata": {},
     "output_type": "execute_result"
    }
   ],
   "source": [
    "df_pyspark.describe()"
   ]
  },
  {
   "cell_type": "code",
   "execution_count": 19,
   "id": "86dd1e4f",
   "metadata": {},
   "outputs": [
    {
     "name": "stdout",
     "output_type": "stream",
     "text": [
      "+-------+------+------------------+------------------+\n",
      "|summary|   Sex|               Age|              Fare|\n",
      "+-------+------+------------------+------------------+\n",
      "|  count|   881|               890|               876|\n",
      "|   mean|  null|24.191784703196344| 35.06111839416054|\n",
      "| stddev|  null|19.275817264662408|53.141056351230525|\n",
      "|    min|female|                 0|                 0|\n",
      "|    max|  null|              null|              null|\n",
      "+-------+------+------------------+------------------+\n",
      "\n"
     ]
    }
   ],
   "source": [
    "df_pyspark.describe().show()"
   ]
  },
  {
   "cell_type": "code",
   "execution_count": 20,
   "id": "0a82b4bd",
   "metadata": {},
   "outputs": [
    {
     "data": {
      "text/plain": [
       "DataFrame[Sex: string, Age: string, Fare: string, NewCol: double]"
      ]
     },
     "execution_count": 20,
     "metadata": {},
     "output_type": "execute_result"
    }
   ],
   "source": [
    "# appent new columns\n",
    "\n",
    "df_pyspark.withColumn('NewCol',df_pyspark['Fare']*2)"
   ]
  },
  {
   "cell_type": "code",
   "execution_count": 21,
   "id": "fd813a63",
   "metadata": {},
   "outputs": [
    {
     "name": "stdout",
     "output_type": "stream",
     "text": [
      "+------+----+-------+--------+\n",
      "|   Sex| Age|   Fare|  NewCol|\n",
      "+------+----+-------+--------+\n",
      "|  male|  22|   7.25|    14.5|\n",
      "|  null|  38|71.2833|142.5666|\n",
      "|female|  26|  7.925|   15.85|\n",
      "|female|null|   53.1|   106.2|\n",
      "|  male|  35|   8.05|    16.1|\n",
      "|  male|   0|      Q|    null|\n",
      "|  male|  54|51.8625| 103.725|\n",
      "|  male|   2| 21.075|   42.15|\n",
      "|female|  27|11.1333| 22.2666|\n",
      "|  null|  14|30.0708| 60.1416|\n",
      "|female|   4|   16.7|    33.4|\n",
      "|female|  58|   null|    null|\n",
      "|  male|  20|   8.05|    16.1|\n",
      "|  male|  39| 31.275|   62.55|\n",
      "|female|  14| 7.8542| 15.7084|\n",
      "|female|null|     16|    32.0|\n",
      "|  male|   2| 29.125|   58.25|\n",
      "|  null|   0|      S|    null|\n",
      "|female|  31|     18|    36.0|\n",
      "|female|   0|      C|    null|\n",
      "+------+----+-------+--------+\n",
      "only showing top 20 rows\n",
      "\n"
     ]
    }
   ],
   "source": [
    "df_pyspark.withColumn('NewCol',df_pyspark['Fare']*2).show()"
   ]
  },
  {
   "cell_type": "code",
   "execution_count": 22,
   "id": "21b08fa4",
   "metadata": {},
   "outputs": [
    {
     "data": {
      "text/plain": [
       "DataFrame[Sex: string, Age: string, Fare: string]"
      ]
     },
     "execution_count": 22,
     "metadata": {},
     "output_type": "execute_result"
    }
   ],
   "source": [
    "# drop columns\n",
    "\n",
    "df_pyspark.drop('NewCol')"
   ]
  },
  {
   "cell_type": "code",
   "execution_count": 23,
   "id": "6ff11d3c",
   "metadata": {},
   "outputs": [
    {
     "name": "stdout",
     "output_type": "stream",
     "text": [
      "+------+----+-------+\n",
      "|   Sex| Age|   Fare|\n",
      "+------+----+-------+\n",
      "|  male|  22|   7.25|\n",
      "|  null|  38|71.2833|\n",
      "|female|  26|  7.925|\n",
      "|female|null|   53.1|\n",
      "|  male|  35|   8.05|\n",
      "|  male|   0|      Q|\n",
      "|  male|  54|51.8625|\n",
      "|  male|   2| 21.075|\n",
      "|female|  27|11.1333|\n",
      "|  null|  14|30.0708|\n",
      "|female|   4|   16.7|\n",
      "|female|  58|   null|\n",
      "|  male|  20|   8.05|\n",
      "|  male|  39| 31.275|\n",
      "|female|  14| 7.8542|\n",
      "|female|null|     16|\n",
      "|  male|   2| 29.125|\n",
      "|  null|   0|      S|\n",
      "|female|  31|     18|\n",
      "|female|   0|      C|\n",
      "+------+----+-------+\n",
      "only showing top 20 rows\n",
      "\n"
     ]
    }
   ],
   "source": [
    "df_pyspark.show()"
   ]
  },
  {
   "cell_type": "code",
   "execution_count": 24,
   "id": "8efeaa2e",
   "metadata": {},
   "outputs": [
    {
     "name": "stdout",
     "output_type": "stream",
     "text": [
      "+------+--------+-------+\n",
      "|   Sex|New_Name|   Fare|\n",
      "+------+--------+-------+\n",
      "|  male|      22|   7.25|\n",
      "|  null|      38|71.2833|\n",
      "|female|      26|  7.925|\n",
      "|female|    null|   53.1|\n",
      "|  male|      35|   8.05|\n",
      "|  male|       0|      Q|\n",
      "|  male|      54|51.8625|\n",
      "|  male|       2| 21.075|\n",
      "|female|      27|11.1333|\n",
      "|  null|      14|30.0708|\n",
      "|female|       4|   16.7|\n",
      "|female|      58|   null|\n",
      "|  male|      20|   8.05|\n",
      "|  male|      39| 31.275|\n",
      "|female|      14| 7.8542|\n",
      "|female|    null|     16|\n",
      "|  male|       2| 29.125|\n",
      "|  null|       0|      S|\n",
      "|female|      31|     18|\n",
      "|female|       0|      C|\n",
      "+------+--------+-------+\n",
      "only showing top 20 rows\n",
      "\n"
     ]
    }
   ],
   "source": [
    "# rename columns\n",
    "\n",
    "df_pyspark.withColumnRenamed('Age','New_Name').show()"
   ]
  }
 ],
 "metadata": {
  "kernelspec": {
   "display_name": "Python 3",
   "language": "python",
   "name": "python3"
  },
  "language_info": {
   "codemirror_mode": {
    "name": "ipython",
    "version": 3
   },
   "file_extension": ".py",
   "mimetype": "text/x-python",
   "name": "python",
   "nbconvert_exporter": "python",
   "pygments_lexer": "ipython3",
   "version": "3.8.8"
  }
 },
 "nbformat": 4,
 "nbformat_minor": 5
}
