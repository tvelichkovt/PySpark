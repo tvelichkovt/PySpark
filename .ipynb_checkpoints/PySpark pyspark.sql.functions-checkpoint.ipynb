{
 "cells": [
  {
   "cell_type": "code",
   "execution_count": 1,
   "id": "5cc22a90",
   "metadata": {},
   "outputs": [
    {
     "name": "stdout",
     "output_type": "stream",
     "text": [
      "root\n",
      " |-- Id: string (nullable = true)\n",
      " |-- EmployeeName: string (nullable = true)\n",
      " |-- JobTitle: string (nullable = true)\n",
      " |-- Salary: string (nullable = true)\n",
      " |-- Age: string (nullable = true)\n",
      " |-- Exp: string (nullable = true)\n",
      " |-- Country: string (nullable = true)\n",
      " |-- City: string (nullable = true)\n",
      "\n",
      "-RECORD 0----------------------------\n",
      " Id           | 1                    \n",
      " EmployeeName | NATHANIEL FORD       \n",
      " JobTitle     | GENERAL MANAGER-M... \n",
      " Salary       | 34032                \n",
      " Age          | 80                   \n",
      " Exp          | 18                   \n",
      " Country      | UK                   \n",
      " City         | London               \n",
      "\n",
      "+-------+-----------------+--------------+------------------------------------+------------------+------------------+------------------+-------+--------+\n",
      "|summary|Id               |EmployeeName  |JobTitle                            |Salary            |Age               |Exp               |Country|City    |\n",
      "+-------+-----------------+--------------+------------------------------------+------------------+------------------+------------------+-------+--------+\n",
      "|count  |74               |74            |74                                  |74                |74                |74                |74     |64      |\n",
      "|mean   |37.5             |null          |null                                |29012.31081081081 |55.148648648648646|10.027027027027026|null   |null    |\n",
      "|stddev |21.50581316760657|null          |null                                |12716.486404023604|22.24193400506845 |6.285388520097592 |null   |null    |\n",
      "|min    |1                |AI-KYUNG CHUNG|ADMINISTRATOR, SFGH MEDICAL CENTER  |10128             |20                |1                 |Germany|Berlin  |\n",
      "|max    |9                |WING CHAN     |WIRE ROPE CABLE MAINTENANCE MECHANIC|8117              |90                |9                 |USA    |New York|\n",
      "+-------+-----------------+--------------+------------------------------------+------------------+------------------+------------------+-------+--------+\n",
      "\n"
     ]
    },
    {
     "data": {
      "text/plain": [
       "(None, None, None)"
      ]
     },
     "execution_count": 1,
     "metadata": {},
     "output_type": "execute_result"
    }
   ],
   "source": [
    "from pyspark.sql import SparkSession\n",
    "spark=SparkSession.builder.appName('app1').getOrCreate()\n",
    "df=spark.read.option('header','true').csv('Salaries.csv')\n",
    "df.printSchema(),df.limit(1).show(vertical=True),df.describe().show(truncate=False)"
   ]
  },
  {
   "cell_type": "code",
   "execution_count": 2,
   "id": "627de698",
   "metadata": {},
   "outputs": [],
   "source": [
    "# Rank and dense rank"
   ]
  },
  {
   "cell_type": "code",
   "execution_count": 3,
   "id": "f449f2e7",
   "metadata": {},
   "outputs": [],
   "source": [
    "from pyspark.sql import functions as F\n",
    "from pyspark.sql.window import Window as W"
   ]
  },
  {
   "cell_type": "code",
   "execution_count": 20,
   "id": "d1e2bbcd",
   "metadata": {},
   "outputs": [
    {
     "name": "stdout",
     "output_type": "stream",
     "text": [
      "+-------+--------+\n",
      "|Country|sum(Exp)|\n",
      "+-------+--------+\n",
      "|Germany|   321.0|\n",
      "|    USA|   247.0|\n",
      "|     UK|   174.0|\n",
      "+-------+--------+\n",
      "\n"
     ]
    }
   ],
   "source": [
    "df.groupBy('Country').agg({'Exp':'sum'}).show()"
   ]
  },
  {
   "cell_type": "code",
   "execution_count": 39,
   "id": "bce48c89",
   "metadata": {},
   "outputs": [
    {
     "name": "stdout",
     "output_type": "stream",
     "text": [
      "+---+--------------------+--------------------+------+---+---+-------+--------+-----+\n",
      "| Id|        EmployeeName|            JobTitle|Salary|Age|Exp|Country|    City|#rank|\n",
      "+---+--------------------+--------------------+------+---+---+-------+--------+-----+\n",
      "| 56|       KEVIN CASHMAN|DEPUTY CHIEF III ...| 33000| 31|  9|Germany|  Berlin|    1|\n",
      "| 62|          ANNA BROWN|CAPTAIN III (POLI...| 22822| 62|  8|Germany|  Berlin|    2|\n",
      "| 55|        RAY CRAWFORD|CAPTAIN, EMERGENC...| 33000| 87|  7|Germany|  Berlin|    3|\n",
      "| 60|      AI-KYUNG CHUNG|         ANESTHETIST| 49789| 46|  6|Germany|  Berlin|    4|\n",
      "| 47|    BRYAN RUBENSTEIN|BATTALION CHIEF, ...| 48372| 65|  5|Germany|  Berlin|    5|\n",
      "| 50|             KEN YEE|LIEUTENANT, FIRE ...| 15362| 70|  5|Germany|  Berlin|    5|\n",
      "| 68|       EDWARD ROLAND|CAPTAIN, FIRE SUP...| 27273| 41|  5|Germany|New York|    5|\n",
      "| 67|       ROBERT POSTEL|ASSISTANT CHIEF O...| 34315| 57|  4|Germany|New York|    6|\n",
      "| 72|  RICHARD BUSALACCHI|BATTALION CHIEF, ...| 33000| 58|  4|Germany|    null|    6|\n",
      "| 69|      THOMAS SHAWYER|DEPUTY CHIEF III ...| 40504| 69|  3|Germany|New York|    7|\n",
      "| 45|SHARON MCCOLE WICHER|NURSING SUPERVISO...| 44436| 27| 21|Germany|    null|    8|\n",
      "| 51|     KIRK RICHARDSON|BATTALION CHIEF, ...|  6666| 84| 21|Germany|  Berlin|    8|\n",
      "| 61|       KENNETH SMITH|LIEUTENANT, FIRE ...| 24983| 30| 21|Germany|  Berlin|    8|\n",
      "| 52|      BARBARA GARCIA|   DEPARTMENT HEAD V| 11732| 85| 20|Germany|  Berlin|    9|\n",
      "| 48|        TRENT RHORER|   DEPARTMENT HEAD V| 52522| 80|  2|Germany|  Berlin|   10|\n",
      "| 66|       RICHARD PARRY|CAPTAIN III (POLI...| 31965| 46|  2|Germany|New York|   10|\n",
      "| 58|        MARK KEARNEY|ASSISTANT DEPUTY ...| 31311| 46| 19|Germany|  Berlin|   11|\n",
      "| 65|         GREGORY MAR|LIEUTENANT III (P...| 36810| 34| 18|Germany|New York|   12|\n",
      "| 59|        DOUGLAS RIBA|INCIDENT SUPPORT ...| 30885| 20| 17|Germany|  Berlin|   13|\n",
      "| 73|      LAWRENCE FREED|ELECTRICAL TRANSI...| 33000| 39| 16|Germany|    null|   14|\n",
      "+---+--------------------+--------------------+------+---+---+-------+--------+-----+\n",
      "only showing top 20 rows\n",
      "\n"
     ]
    }
   ],
   "source": [
    "df.withColumn(\"#rank\", F.dense_rank().over(W.partitionBy('Country').orderBy(F.desc('Exp')))).show()"
   ]
  },
  {
   "cell_type": "code",
   "execution_count": 44,
   "id": "4581815f",
   "metadata": {},
   "outputs": [
    {
     "name": "stdout",
     "output_type": "stream",
     "text": [
      "+---+------------------+--------------------+------+---+---+-------+--------+-----+\n",
      "| Id|      EmployeeName|            JobTitle|Salary|Age|Exp|Country|    City|#rank|\n",
      "+---+------------------+--------------------+------+---+---+-------+--------+-----+\n",
      "| 46|         EDWIN LEE|               MAYOR| 10498| 54| 13|Germany|  Berlin|    1|\n",
      "| 52|    BARBARA GARCIA|   DEPARTMENT HEAD V| 11732| 85| 20|Germany|  Berlin|    2|\n",
      "| 50|           KEN YEE|LIEUTENANT, FIRE ...| 15362| 70|  5|Germany|  Berlin|    3|\n",
      "| 49|      JAMES DUDLEY|DEPUTY CHIEF III ...| 16433| 41| 14|Germany|  Berlin|    4|\n",
      "| 64|     CHARLES CRANE|BATTALION CHIEF, ...| 18992| 79|  1|Germany|New York|    5|\n",
      "| 62|        ANNA BROWN|CAPTAIN III (POLI...| 22822| 62|  8|Germany|  Berlin|    6|\n",
      "| 61|     KENNETH SMITH|LIEUTENANT, FIRE ...| 24983| 30| 21|Germany|  Berlin|    7|\n",
      "| 68|     EDWARD ROLAND|CAPTAIN, FIRE SUP...| 27273| 41|  5|Germany|New York|    8|\n",
      "| 59|      DOUGLAS RIBA|INCIDENT SUPPORT ...| 30885| 20| 17|Germany|  Berlin|    9|\n",
      "| 58|      MARK KEARNEY|ASSISTANT DEPUTY ...| 31311| 46| 19|Germany|  Berlin|   10|\n",
      "| 66|     RICHARD PARRY|CAPTAIN III (POLI...| 31965| 46|  2|Germany|New York|   11|\n",
      "| 70|         WING CHAN|INCIDENT SUPPORT ...| 32677| 36| 11|Germany|    null|   12|\n",
      "| 53|  MICHAEL ROLOVICH|CAPTAIN, FIRE SUP...| 33000| 23| 10|Germany|  Berlin|   13|\n",
      "| 54|     DARRYL HUNTER|CAPTAIN, FIRE SUP...| 33000| 56| 10|Germany|  Berlin|   13|\n",
      "| 55|      RAY CRAWFORD|CAPTAIN, EMERGENC...| 33000| 87|  7|Germany|  Berlin|   13|\n",
      "| 56|     KEVIN CASHMAN|DEPUTY CHIEF III ...| 33000| 31|  9|Germany|  Berlin|   13|\n",
      "| 71|     GEORGE GASCON|   DISTRICT ATTORNEY| 33000| 20| 13|Germany|    null|   13|\n",
      "| 72|RICHARD BUSALACCHI|BATTALION CHIEF, ...| 33000| 58|  4|Germany|    null|   13|\n",
      "| 73|    LAWRENCE FREED|ELECTRICAL TRANSI...| 33000| 39| 16|Germany|    null|   13|\n",
      "| 67|     ROBERT POSTEL|ASSISTANT CHIEF O...| 34315| 57|  4|Germany|New York|   20|\n",
      "+---+------------------+--------------------+------+---+---+-------+--------+-----+\n",
      "only showing top 20 rows\n",
      "\n"
     ]
    }
   ],
   "source": [
    "df.withColumn(\"#rank\", F.rank().over(W.partitionBy('Country').orderBy(F.asc('Salary')))).show()"
   ]
  },
  {
   "cell_type": "code",
   "execution_count": 13,
   "id": "2a9fc0ea",
   "metadata": {},
   "outputs": [
    {
     "name": "stdout",
     "output_type": "stream",
     "text": [
      "+---+--------------------+--------------------+------+---+---+-------+--------+-----+\n",
      "| Id|        EmployeeName|            JobTitle|Salary|Age|Exp|Country|    City|#rank|\n",
      "+---+--------------------+--------------------+------+---+---+-------+--------+-----+\n",
      "| 64|       CHARLES CRANE|BATTALION CHIEF, ...| 18992| 79|  1|Germany|New York|    1|\n",
      "| 53|    MICHAEL ROLOVICH|CAPTAIN, FIRE SUP...| 33000| 23| 10|Germany|  Berlin|    2|\n",
      "| 54|       DARRYL HUNTER|CAPTAIN, FIRE SUP...| 33000| 56| 10|Germany|  Berlin|    2|\n",
      "| 57| BENJAMIN ROSENFIELD|   DEPARTMENT HEAD V|  7621| 83| 10|Germany|  Berlin|    2|\n",
      "| 63|   JAMES FAZACKERLEY|CAPTAIN, EMERGENC...|  7751| 53| 11|Germany|New York|    5|\n",
      "| 70|           WING CHAN|INCIDENT SUPPORT ...| 32677| 36| 11|Germany|    null|    5|\n",
      "| 46|           EDWIN LEE|               MAYOR| 10498| 54| 13|Germany|  Berlin|    7|\n",
      "| 71|       GEORGE GASCON|   DISTRICT ATTORNEY| 33000| 20| 13|Germany|    null|    7|\n",
      "| 49|        JAMES DUDLEY|DEPUTY CHIEF III ...| 16433| 41| 14|Germany|  Berlin|    9|\n",
      "| 74|       MONIQUE MOYER|       PORT DIRECTOR| 50414| 72| 15|Germany|    null|   10|\n",
      "| 73|      LAWRENCE FREED|ELECTRICAL TRANSI...| 33000| 39| 16|Germany|    null|   11|\n",
      "| 59|        DOUGLAS RIBA|INCIDENT SUPPORT ...| 30885| 20| 17|Germany|  Berlin|   12|\n",
      "| 65|         GREGORY MAR|LIEUTENANT III (P...| 36810| 34| 18|Germany|New York|   13|\n",
      "| 58|        MARK KEARNEY|ASSISTANT DEPUTY ...| 31311| 46| 19|Germany|  Berlin|   14|\n",
      "| 48|        TRENT RHORER|   DEPARTMENT HEAD V| 52522| 80|  2|Germany|  Berlin|   15|\n",
      "| 66|       RICHARD PARRY|CAPTAIN III (POLI...| 31965| 46|  2|Germany|New York|   15|\n",
      "| 52|      BARBARA GARCIA|   DEPARTMENT HEAD V| 11732| 85| 20|Germany|  Berlin|   17|\n",
      "| 45|SHARON MCCOLE WICHER|NURSING SUPERVISO...| 44436| 27| 21|Germany|    null|   18|\n",
      "| 51|     KIRK RICHARDSON|BATTALION CHIEF, ...|  6666| 84| 21|Germany|  Berlin|   18|\n",
      "| 61|       KENNETH SMITH|LIEUTENANT, FIRE ...| 24983| 30| 21|Germany|  Berlin|   18|\n",
      "+---+--------------------+--------------------+------+---+---+-------+--------+-----+\n",
      "only showing top 20 rows\n",
      "\n"
     ]
    }
   ],
   "source": [
    "from pyspark.sql.functions import rank\n",
    "df.withColumn(\"#rank\",rank().over(W.partitionBy(\"Country\").orderBy(\"Exp\"))).show()\n",
    "\n"
   ]
  },
  {
   "cell_type": "code",
   "execution_count": null,
   "id": "24b112b1",
   "metadata": {},
   "outputs": [],
   "source": []
  }
 ],
 "metadata": {
  "kernelspec": {
   "display_name": "Python 3",
   "language": "python",
   "name": "python3"
  },
  "language_info": {
   "codemirror_mode": {
    "name": "ipython",
    "version": 3
   },
   "file_extension": ".py",
   "mimetype": "text/x-python",
   "name": "python",
   "nbconvert_exporter": "python",
   "pygments_lexer": "ipython3",
   "version": "3.8.8"
  }
 },
 "nbformat": 4,
 "nbformat_minor": 5
}
