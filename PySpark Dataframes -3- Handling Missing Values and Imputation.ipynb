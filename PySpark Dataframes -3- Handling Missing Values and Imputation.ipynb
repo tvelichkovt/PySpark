{
 "cells": [
  {
   "cell_type": "code",
   "execution_count": 1,
   "id": "699183c2",
   "metadata": {},
   "outputs": [
    {
     "name": "stdout",
     "output_type": "stream",
     "text": [
      "Requirement already satisfied: pyspark in c:\\programdata\\anaconda3\\lib\\site-packages (3.2.0)\n",
      "Requirement already satisfied: py4j==0.10.9.2 in c:\\programdata\\anaconda3\\lib\\site-packages (from pyspark) (0.10.9.2)\n"
     ]
    }
   ],
   "source": [
    "!pip install pyspark\n"
   ]
  },
  {
   "cell_type": "code",
   "execution_count": 2,
   "id": "38fbd7f0",
   "metadata": {},
   "outputs": [],
   "source": [
    "from pyspark.sql import SparkSession\n",
    "spark=SparkSession.builder.appName('App3').getOrCreate()"
   ]
  },
  {
   "cell_type": "code",
   "execution_count": 3,
   "id": "c3677d33",
   "metadata": {},
   "outputs": [
    {
     "data": {
      "text/html": [
       "\n",
       "            <div>\n",
       "                <p><b>SparkSession - in-memory</b></p>\n",
       "                \n",
       "        <div>\n",
       "            <p><b>SparkContext</b></p>\n",
       "\n",
       "            <p><a href=\"http://host.docker.internal:4042\">Spark UI</a></p>\n",
       "\n",
       "            <dl>\n",
       "              <dt>Version</dt>\n",
       "                <dd><code>v3.2.0</code></dd>\n",
       "              <dt>Master</dt>\n",
       "                <dd><code>local[*]</code></dd>\n",
       "              <dt>AppName</dt>\n",
       "                <dd><code>App3</code></dd>\n",
       "            </dl>\n",
       "        </div>\n",
       "        \n",
       "            </div>\n",
       "        "
      ],
      "text/plain": [
       "<pyspark.sql.session.SparkSession at 0x233fa3340a0>"
      ]
     },
     "execution_count": 3,
     "metadata": {},
     "output_type": "execute_result"
    }
   ],
   "source": [
    "spark"
   ]
  },
  {
   "cell_type": "code",
   "execution_count": 4,
   "id": "bdefd20a",
   "metadata": {},
   "outputs": [
    {
     "data": {
      "text/html": [
       "<div>\n",
       "<style scoped>\n",
       "    .dataframe tbody tr th:only-of-type {\n",
       "        vertical-align: middle;\n",
       "    }\n",
       "\n",
       "    .dataframe tbody tr th {\n",
       "        vertical-align: top;\n",
       "    }\n",
       "\n",
       "    .dataframe thead th {\n",
       "        text-align: right;\n",
       "    }\n",
       "</style>\n",
       "<table border=\"1\" class=\"dataframe\">\n",
       "  <thead>\n",
       "    <tr style=\"text-align: right;\">\n",
       "      <th></th>\n",
       "      <th>Sex</th>\n",
       "      <th>Age</th>\n",
       "      <th>Fare</th>\n",
       "    </tr>\n",
       "  </thead>\n",
       "  <tbody>\n",
       "    <tr>\n",
       "      <th>0</th>\n",
       "      <td>male</td>\n",
       "      <td>22.0</td>\n",
       "      <td>7.25</td>\n",
       "    </tr>\n",
       "    <tr>\n",
       "      <th>1</th>\n",
       "      <td>NaN</td>\n",
       "      <td>71.3</td>\n",
       "      <td>NaN</td>\n",
       "    </tr>\n",
       "    <tr>\n",
       "      <th>2</th>\n",
       "      <td>female</td>\n",
       "      <td>26.0</td>\n",
       "      <td>7.93</td>\n",
       "    </tr>\n",
       "    <tr>\n",
       "      <th>3</th>\n",
       "      <td>female</td>\n",
       "      <td>53.1</td>\n",
       "      <td>NaN</td>\n",
       "    </tr>\n",
       "    <tr>\n",
       "      <th>4</th>\n",
       "      <td>NaN</td>\n",
       "      <td>NaN</td>\n",
       "      <td>NaN</td>\n",
       "    </tr>\n",
       "    <tr>\n",
       "      <th>...</th>\n",
       "      <td>...</td>\n",
       "      <td>...</td>\n",
       "      <td>...</td>\n",
       "    </tr>\n",
       "    <tr>\n",
       "      <th>886</th>\n",
       "      <td>male</td>\n",
       "      <td>27.0</td>\n",
       "      <td>13.00</td>\n",
       "    </tr>\n",
       "    <tr>\n",
       "      <th>887</th>\n",
       "      <td>female</td>\n",
       "      <td>19.0</td>\n",
       "      <td>30.00</td>\n",
       "    </tr>\n",
       "    <tr>\n",
       "      <th>888</th>\n",
       "      <td>female</td>\n",
       "      <td>1.0</td>\n",
       "      <td>S</td>\n",
       "    </tr>\n",
       "    <tr>\n",
       "      <th>889</th>\n",
       "      <td>male</td>\n",
       "      <td>26.0</td>\n",
       "      <td>30.00</td>\n",
       "    </tr>\n",
       "    <tr>\n",
       "      <th>890</th>\n",
       "      <td>male</td>\n",
       "      <td>32.0</td>\n",
       "      <td>7.75</td>\n",
       "    </tr>\n",
       "  </tbody>\n",
       "</table>\n",
       "<p>891 rows × 3 columns</p>\n",
       "</div>"
      ],
      "text/plain": [
       "        Sex   Age   Fare\n",
       "0      male  22.0   7.25\n",
       "1       NaN  71.3    NaN\n",
       "2    female  26.0   7.93\n",
       "3    female  53.1    NaN\n",
       "4       NaN   NaN    NaN\n",
       "..      ...   ...    ...\n",
       "886    male  27.0  13.00\n",
       "887  female  19.0  30.00\n",
       "888  female   1.0      S\n",
       "889    male  26.0  30.00\n",
       "890    male  32.0   7.75\n",
       "\n",
       "[891 rows x 3 columns]"
      ]
     },
     "execution_count": 4,
     "metadata": {},
     "output_type": "execute_result"
    }
   ],
   "source": [
    "import pandas as pd\n",
    "pd.read_csv('titanic1.csv')"
   ]
  },
  {
   "cell_type": "code",
   "execution_count": 5,
   "id": "ea5e3e82",
   "metadata": {},
   "outputs": [],
   "source": [
    "from pyspark.sql import SparkSession"
   ]
  },
  {
   "cell_type": "code",
   "execution_count": 6,
   "id": "5ac4617a",
   "metadata": {},
   "outputs": [],
   "source": [
    "spark=SparkSession.builder.appName('App3').getOrCreate()"
   ]
  },
  {
   "cell_type": "code",
   "execution_count": 7,
   "id": "2bb31730",
   "metadata": {},
   "outputs": [
    {
     "name": "stdout",
     "output_type": "stream",
     "text": [
      "+------+----+-----+\n",
      "|   Sex| Age| Fare|\n",
      "+------+----+-----+\n",
      "|  male|22.0| 7.25|\n",
      "|  null|71.3| null|\n",
      "|female|26.0| 7.93|\n",
      "|female|53.1| null|\n",
      "|  null|null| null|\n",
      "|  male| 0.0|    Q|\n",
      "|  male|54.0|51.86|\n",
      "|  male|null| null|\n",
      "|female|27.0|11.13|\n",
      "|  null|14.0|30.07|\n",
      "|female| 4.0|16.70|\n",
      "|female|58.0| null|\n",
      "|  male|20.0| 8.05|\n",
      "|  null|39.0|31.28|\n",
      "|female|14.0| 7.85|\n",
      "|female|16.0| null|\n",
      "|  male| 2.0|29.13|\n",
      "|  null| 0.0|    S|\n",
      "|female|31.0|18.00|\n",
      "|female| 0.0|    C|\n",
      "+------+----+-----+\n",
      "only showing top 20 rows\n",
      "\n"
     ]
    }
   ],
   "source": [
    "spark.read.option('header','true').csv('titanic1.csv').show()"
   ]
  },
  {
   "cell_type": "code",
   "execution_count": 8,
   "id": "d966b35d",
   "metadata": {},
   "outputs": [
    {
     "name": "stdout",
     "output_type": "stream",
     "text": [
      "+------+----+-----+\n",
      "|   Sex| Age| Fare|\n",
      "+------+----+-----+\n",
      "|  male|22.0| 7.25|\n",
      "|  null|71.3| null|\n",
      "|female|26.0| 7.93|\n",
      "|female|53.1| null|\n",
      "|  null|null| null|\n",
      "|  male| 0.0|    Q|\n",
      "|  male|54.0|51.86|\n",
      "|  male|null| null|\n",
      "|female|27.0|11.13|\n",
      "|  null|14.0|30.07|\n",
      "|female| 4.0|16.70|\n",
      "|female|58.0| null|\n",
      "|  male|20.0| 8.05|\n",
      "|  null|39.0|31.28|\n",
      "|female|14.0| 7.85|\n",
      "|female|16.0| null|\n",
      "|  male| 2.0|29.13|\n",
      "|  null| 0.0|    S|\n",
      "|female|31.0|18.00|\n",
      "|female| 0.0|    C|\n",
      "+------+----+-----+\n",
      "only showing top 20 rows\n",
      "\n"
     ]
    }
   ],
   "source": [
    "df_pyspark=spark.read.option('header','true').csv('titanic1.csv',inferSchema=True)\n",
    "df_pyspark.show()"
   ]
  },
  {
   "cell_type": "code",
   "execution_count": 9,
   "id": "4e2503b1",
   "metadata": {},
   "outputs": [
    {
     "name": "stdout",
     "output_type": "stream",
     "text": [
      "root\n",
      " |-- Sex: string (nullable = true)\n",
      " |-- Age: string (nullable = true)\n",
      " |-- Fare: string (nullable = true)\n",
      "\n"
     ]
    }
   ],
   "source": [
    "df_pyspark.printSchema()"
   ]
  },
  {
   "cell_type": "code",
   "execution_count": 10,
   "id": "9d65fb5a",
   "metadata": {},
   "outputs": [],
   "source": [
    "from pyspark.sql.types import IntegerType\n",
    "\n",
    "df_pyspark = df_pyspark.withColumn(\"Age\", df_pyspark[\"Age\"].cast(IntegerType()))\n",
    "df_pyspark = df_pyspark.withColumn(\"Fare\", df_pyspark[\"Fare\"].cast(IntegerType()))"
   ]
  },
  {
   "cell_type": "code",
   "execution_count": 11,
   "id": "3c203503",
   "metadata": {},
   "outputs": [
    {
     "name": "stdout",
     "output_type": "stream",
     "text": [
      "root\n",
      " |-- Sex: string (nullable = true)\n",
      " |-- Age: integer (nullable = true)\n",
      " |-- Fare: integer (nullable = true)\n",
      "\n"
     ]
    }
   ],
   "source": [
    "df_pyspark.printSchema()"
   ]
  },
  {
   "cell_type": "code",
   "execution_count": 12,
   "id": "ef90db11",
   "metadata": {},
   "outputs": [
    {
     "data": {
      "text/plain": [
       "pyspark.sql.dataframe.DataFrame"
      ]
     },
     "execution_count": 12,
     "metadata": {},
     "output_type": "execute_result"
    }
   ],
   "source": [
    "type(df_pyspark)"
   ]
  },
  {
   "cell_type": "code",
   "execution_count": 13,
   "id": "ca95a827",
   "metadata": {},
   "outputs": [],
   "source": [
    "# drop COLUMNS"
   ]
  },
  {
   "cell_type": "code",
   "execution_count": 14,
   "id": "018ead41",
   "metadata": {},
   "outputs": [
    {
     "name": "stdout",
     "output_type": "stream",
     "text": [
      "+------+----+\n",
      "|   Sex|Fare|\n",
      "+------+----+\n",
      "|  male|   7|\n",
      "|  null|null|\n",
      "|female|   7|\n",
      "|female|null|\n",
      "|  null|null|\n",
      "|  male|null|\n",
      "|  male|  51|\n",
      "|  male|null|\n",
      "|female|  11|\n",
      "|  null|  30|\n",
      "|female|  16|\n",
      "|female|null|\n",
      "|  male|   8|\n",
      "|  null|  31|\n",
      "|female|   7|\n",
      "|female|null|\n",
      "|  male|  29|\n",
      "|  null|null|\n",
      "|female|  18|\n",
      "|female|null|\n",
      "+------+----+\n",
      "only showing top 20 rows\n",
      "\n"
     ]
    }
   ],
   "source": [
    "df_pyspark.drop('Age').show()"
   ]
  },
  {
   "cell_type": "code",
   "execution_count": 15,
   "id": "b9445376",
   "metadata": {},
   "outputs": [],
   "source": [
    "# drop NULL (na) values"
   ]
  },
  {
   "cell_type": "code",
   "execution_count": 16,
   "id": "33f131b8",
   "metadata": {},
   "outputs": [
    {
     "data": {
      "text/plain": [
       "891"
      ]
     },
     "execution_count": 16,
     "metadata": {},
     "output_type": "execute_result"
    }
   ],
   "source": [
    "df_pyspark.select().count()"
   ]
  },
  {
   "cell_type": "code",
   "execution_count": 17,
   "id": "65aabecd",
   "metadata": {},
   "outputs": [
    {
     "data": {
      "text/plain": [
       "657"
      ]
     },
     "execution_count": 17,
     "metadata": {},
     "output_type": "execute_result"
    }
   ],
   "source": [
    "df_pyspark.na.drop().select().count()"
   ]
  },
  {
   "cell_type": "code",
   "execution_count": 18,
   "id": "b64df4fa",
   "metadata": {},
   "outputs": [
    {
     "data": {
      "text/plain": [
       "-234"
      ]
     },
     "execution_count": 18,
     "metadata": {},
     "output_type": "execute_result"
    }
   ],
   "source": [
    "df_pyspark.na.drop().select().count() - df_pyspark.select().count()"
   ]
  },
  {
   "cell_type": "code",
   "execution_count": 19,
   "id": "278e693a",
   "metadata": {
    "scrolled": true
   },
   "outputs": [
    {
     "name": "stdout",
     "output_type": "stream",
     "text": [
      "+------+---+----+\n",
      "|   Sex|Age|Fare|\n",
      "+------+---+----+\n",
      "|  male| 22|   7|\n",
      "|female| 26|   7|\n",
      "|  male| 54|  51|\n",
      "|female| 27|  11|\n",
      "|female|  4|  16|\n",
      "|  male| 20|   8|\n",
      "|female| 14|   7|\n",
      "|  male|  2|  29|\n",
      "|female| 31|  18|\n",
      "|  male| 34|  13|\n",
      "|female|  8|  21|\n",
      "|  male| 19| 263|\n",
      "|  male| 40|  27|\n",
      "|  male| 66|  10|\n",
      "|  male| 28|  82|\n",
      "|  male| 42|  52|\n",
      "|  male| 21|   8|\n",
      "|female| 14|  11|\n",
      "|female| 40|   9|\n",
      "|female| 27|  21|\n",
      "+------+---+----+\n",
      "only showing top 20 rows\n",
      "\n"
     ]
    }
   ],
   "source": [
    "df_pyspark.na.drop().show()"
   ]
  },
  {
   "cell_type": "code",
   "execution_count": 20,
   "id": "1f3da49d",
   "metadata": {},
   "outputs": [],
   "source": [
    "# any & how, drop NULL (na) values"
   ]
  },
  {
   "cell_type": "code",
   "execution_count": 21,
   "id": "400a40f1",
   "metadata": {},
   "outputs": [
    {
     "data": {
      "text/plain": [
       "-3"
      ]
     },
     "execution_count": 21,
     "metadata": {},
     "output_type": "execute_result"
    }
   ],
   "source": [
    "df_pyspark.na.drop(how='all').select().count() - df_pyspark.select().count()"
   ]
  },
  {
   "cell_type": "code",
   "execution_count": 22,
   "id": "7ec7834c",
   "metadata": {},
   "outputs": [
    {
     "name": "stdout",
     "output_type": "stream",
     "text": [
      "+------+----+----+\n",
      "|   Sex| Age|Fare|\n",
      "+------+----+----+\n",
      "|  male|  22|   7|\n",
      "|  null|  71|null|\n",
      "|female|  26|   7|\n",
      "|female|  53|null|\n",
      "|  male|   0|null|\n",
      "|  male|  54|  51|\n",
      "|  male|null|null|\n",
      "|female|  27|  11|\n",
      "|  null|  14|  30|\n",
      "|female|   4|  16|\n",
      "|female|  58|null|\n",
      "|  male|  20|   8|\n",
      "|  null|  39|  31|\n",
      "|female|  14|   7|\n",
      "|female|  16|null|\n",
      "|  male|   2|  29|\n",
      "|  null|   0|null|\n",
      "|female|  31|  18|\n",
      "|female|   0|null|\n",
      "|  male|  34|  13|\n",
      "+------+----+----+\n",
      "only showing top 20 rows\n",
      "\n"
     ]
    }
   ],
   "source": [
    "df_pyspark.na.drop(how='all').show()"
   ]
  },
  {
   "cell_type": "code",
   "execution_count": 23,
   "id": "04c3952d",
   "metadata": {},
   "outputs": [
    {
     "data": {
      "text/plain": [
       "-234"
      ]
     },
     "execution_count": 23,
     "metadata": {},
     "output_type": "execute_result"
    }
   ],
   "source": [
    "df_pyspark.na.drop(how='any').select().count() - df_pyspark.select().count()"
   ]
  },
  {
   "cell_type": "code",
   "execution_count": 24,
   "id": "33afe478",
   "metadata": {},
   "outputs": [
    {
     "name": "stdout",
     "output_type": "stream",
     "text": [
      "+------+---+----+\n",
      "|   Sex|Age|Fare|\n",
      "+------+---+----+\n",
      "|  male| 22|   7|\n",
      "|female| 26|   7|\n",
      "|  male| 54|  51|\n",
      "|female| 27|  11|\n",
      "|female|  4|  16|\n",
      "|  male| 20|   8|\n",
      "|female| 14|   7|\n",
      "|  male|  2|  29|\n",
      "|female| 31|  18|\n",
      "|  male| 34|  13|\n",
      "|female|  8|  21|\n",
      "|  male| 19| 263|\n",
      "|  male| 40|  27|\n",
      "|  male| 66|  10|\n",
      "|  male| 28|  82|\n",
      "|  male| 42|  52|\n",
      "|  male| 21|   8|\n",
      "|female| 14|  11|\n",
      "|female| 40|   9|\n",
      "|female| 27|  21|\n",
      "+------+---+----+\n",
      "only showing top 20 rows\n",
      "\n"
     ]
    }
   ],
   "source": [
    "df_pyspark.na.drop(how='any').show()"
   ]
  },
  {
   "cell_type": "code",
   "execution_count": 25,
   "id": "2327dceb",
   "metadata": {},
   "outputs": [],
   "source": [
    "# threshold, drop NULL (na) values"
   ]
  },
  {
   "cell_type": "code",
   "execution_count": 26,
   "id": "005117d9",
   "metadata": {},
   "outputs": [
    {
     "data": {
      "text/plain": [
       "-17"
      ]
     },
     "execution_count": 26,
     "metadata": {},
     "output_type": "execute_result"
    }
   ],
   "source": [
    "df_pyspark.na.drop(how='any', thresh=2).select().count() - df_pyspark.select().count()"
   ]
  },
  {
   "cell_type": "code",
   "execution_count": 27,
   "id": "f2f7f7bb",
   "metadata": {},
   "outputs": [
    {
     "name": "stdout",
     "output_type": "stream",
     "text": [
      "+------+---+----+\n",
      "|   Sex|Age|Fare|\n",
      "+------+---+----+\n",
      "|  male| 22|   7|\n",
      "|female| 26|   7|\n",
      "|female| 53|null|\n",
      "|  male|  0|null|\n",
      "|  male| 54|  51|\n",
      "|female| 27|  11|\n",
      "|  null| 14|  30|\n",
      "|female|  4|  16|\n",
      "|female| 58|null|\n",
      "|  male| 20|   8|\n",
      "|  null| 39|  31|\n",
      "|female| 14|   7|\n",
      "|female| 16|null|\n",
      "|  male|  2|  29|\n",
      "|female| 31|  18|\n",
      "|female|  0|null|\n",
      "|  male| 34|  13|\n",
      "|female| 15|null|\n",
      "|  male| 35|null|\n",
      "|female|  8|  21|\n",
      "+------+---+----+\n",
      "only showing top 20 rows\n",
      "\n"
     ]
    }
   ],
   "source": [
    "df_pyspark.na.drop(how='any', thresh=2).show()"
   ]
  },
  {
   "cell_type": "code",
   "execution_count": 28,
   "id": "e154e342",
   "metadata": {},
   "outputs": [
    {
     "data": {
      "text/plain": [
       "-3"
      ]
     },
     "execution_count": 28,
     "metadata": {},
     "output_type": "execute_result"
    }
   ],
   "source": [
    "df_pyspark.na.drop(how='any', thresh=1).select().count() - df_pyspark.select().count()"
   ]
  },
  {
   "cell_type": "code",
   "execution_count": 29,
   "id": "0f54aef4",
   "metadata": {},
   "outputs": [
    {
     "data": {
      "text/plain": [
       "-234"
      ]
     },
     "execution_count": 29,
     "metadata": {},
     "output_type": "execute_result"
    }
   ],
   "source": [
    "df_pyspark.na.drop(how='any', thresh=3).select().count() - df_pyspark.select().count()"
   ]
  },
  {
   "cell_type": "code",
   "execution_count": 30,
   "id": "85874ace",
   "metadata": {},
   "outputs": [],
   "source": [
    "# subset, drop NULL (na) values"
   ]
  },
  {
   "cell_type": "code",
   "execution_count": 31,
   "id": "891be759",
   "metadata": {},
   "outputs": [
    {
     "data": {
      "text/plain": [
       "-28"
      ]
     },
     "execution_count": 31,
     "metadata": {},
     "output_type": "execute_result"
    }
   ],
   "source": [
    "df_pyspark.na.drop(how='any', subset=['Sex']).select().count() - df_pyspark.select().count()"
   ]
  },
  {
   "cell_type": "code",
   "execution_count": 32,
   "id": "ac385f51",
   "metadata": {},
   "outputs": [
    {
     "name": "stdout",
     "output_type": "stream",
     "text": [
      "+------+----+----+\n",
      "|   Sex| Age|Fare|\n",
      "+------+----+----+\n",
      "|  male|  22|   7|\n",
      "|female|  26|   7|\n",
      "|female|  53|null|\n",
      "|  male|   0|null|\n",
      "|  male|  54|  51|\n",
      "|  male|null|null|\n",
      "|female|  27|  11|\n",
      "|female|   4|  16|\n",
      "|female|  58|null|\n",
      "|  male|  20|   8|\n",
      "|female|  14|   7|\n",
      "|female|  16|null|\n",
      "|  male|   2|  29|\n",
      "|female|  31|  18|\n",
      "|female|   0|null|\n",
      "|  male|  34|  13|\n",
      "|female|  15|null|\n",
      "|  male|  35|null|\n",
      "|female|   8|  21|\n",
      "|female|null|null|\n",
      "+------+----+----+\n",
      "only showing top 20 rows\n",
      "\n"
     ]
    }
   ],
   "source": [
    "df_pyspark.na.drop(how='any', subset=['Sex']).show()"
   ]
  },
  {
   "cell_type": "code",
   "execution_count": 33,
   "id": "6a97ac42",
   "metadata": {},
   "outputs": [],
   "source": [
    "# filling missing values - fill all, fill columns,"
   ]
  },
  {
   "cell_type": "code",
   "execution_count": 34,
   "id": "401ed65f",
   "metadata": {},
   "outputs": [
    {
     "name": "stdout",
     "output_type": "stream",
     "text": [
      "+-------------+----+----+\n",
      "|          Sex| Age|Fare|\n",
      "+-------------+----+----+\n",
      "|         male|  22|   7|\n",
      "|Missing Vlues|  71|null|\n",
      "|       female|  26|   7|\n",
      "|       female|  53|null|\n",
      "|Missing Vlues|null|null|\n",
      "|         male|   0|null|\n",
      "|         male|  54|  51|\n",
      "|         male|null|null|\n",
      "|       female|  27|  11|\n",
      "|Missing Vlues|  14|  30|\n",
      "|       female|   4|  16|\n",
      "|       female|  58|null|\n",
      "|         male|  20|   8|\n",
      "|Missing Vlues|  39|  31|\n",
      "|       female|  14|   7|\n",
      "|       female|  16|null|\n",
      "|         male|   2|  29|\n",
      "|Missing Vlues|   0|null|\n",
      "|       female|  31|  18|\n",
      "|       female|   0|null|\n",
      "+-------------+----+----+\n",
      "only showing top 20 rows\n",
      "\n"
     ]
    }
   ],
   "source": [
    "df_pyspark.na.fill('Missing Vlues').show()"
   ]
  },
  {
   "cell_type": "code",
   "execution_count": 35,
   "id": "2ca92e62",
   "metadata": {},
   "outputs": [
    {
     "name": "stdout",
     "output_type": "stream",
     "text": [
      "+-------------+----+----+\n",
      "|          Sex| Age|Fare|\n",
      "+-------------+----+----+\n",
      "|         male|  22|   7|\n",
      "|Missing Vlues|  71|null|\n",
      "|       female|  26|   7|\n",
      "|       female|  53|null|\n",
      "|Missing Vlues|null|null|\n",
      "|         male|   0|null|\n",
      "|         male|  54|  51|\n",
      "|         male|null|null|\n",
      "|       female|  27|  11|\n",
      "|Missing Vlues|  14|  30|\n",
      "|       female|   4|  16|\n",
      "|       female|  58|null|\n",
      "|         male|  20|   8|\n",
      "|Missing Vlues|  39|  31|\n",
      "|       female|  14|   7|\n",
      "|       female|  16|null|\n",
      "|         male|   2|  29|\n",
      "|Missing Vlues|   0|null|\n",
      "|       female|  31|  18|\n",
      "|       female|   0|null|\n",
      "+-------------+----+----+\n",
      "only showing top 20 rows\n",
      "\n"
     ]
    }
   ],
   "source": [
    "df_pyspark.na.fill('Missing Vlues',['Sex']).show()"
   ]
  },
  {
   "cell_type": "code",
   "execution_count": 36,
   "id": "76d6aeb9",
   "metadata": {},
   "outputs": [
    {
     "name": "stdout",
     "output_type": "stream",
     "text": [
      "+------+----+----+\n",
      "|   Sex| Age|Fare|\n",
      "+------+----+----+\n",
      "|  male|  22|   7|\n",
      "|  null|  71|null|\n",
      "|female|  26|   7|\n",
      "|female|  53|null|\n",
      "|  null|null|null|\n",
      "|  male|   0|null|\n",
      "|  male|  54|  51|\n",
      "|  male|null|null|\n",
      "|female|  27|  11|\n",
      "|  null|  14|  30|\n",
      "|female|   4|  16|\n",
      "|female|  58|null|\n",
      "|  male|  20|   8|\n",
      "|  null|  39|  31|\n",
      "|female|  14|   7|\n",
      "|female|  16|null|\n",
      "|  male|   2|  29|\n",
      "|  null|   0|null|\n",
      "|female|  31|  18|\n",
      "|female|   0|null|\n",
      "+------+----+----+\n",
      "only showing top 20 rows\n",
      "\n"
     ]
    }
   ],
   "source": [
    "df_pyspark.na.fill('Missing Vlues',['Age','Fare']).show()"
   ]
  },
  {
   "cell_type": "code",
   "execution_count": 37,
   "id": "d48c7b95",
   "metadata": {},
   "outputs": [],
   "source": [
    "# Imputer function"
   ]
  },
  {
   "cell_type": "code",
   "execution_count": 38,
   "id": "7e096a18",
   "metadata": {},
   "outputs": [
    {
     "name": "stdout",
     "output_type": "stream",
     "text": [
      "+------+----+----+\n",
      "|   Sex| Age|Fare|\n",
      "+------+----+----+\n",
      "|  male|  22|   7|\n",
      "|  null|  71|null|\n",
      "|female|  26|   7|\n",
      "|female|  53|null|\n",
      "|  null|null|null|\n",
      "|  male|   0|null|\n",
      "|  male|  54|  51|\n",
      "|  male|null|null|\n",
      "|female|  27|  11|\n",
      "|  null|  14|  30|\n",
      "|female|   4|  16|\n",
      "|female|  58|null|\n",
      "|  male|  20|   8|\n",
      "|  null|  39|  31|\n",
      "|female|  14|   7|\n",
      "|female|  16|null|\n",
      "|  male|   2|  29|\n",
      "|  null|   0|null|\n",
      "|female|  31|  18|\n",
      "|female|   0|null|\n",
      "+------+----+----+\n",
      "only showing top 20 rows\n",
      "\n"
     ]
    }
   ],
   "source": [
    "df_pyspark.show()"
   ]
  },
  {
   "cell_type": "code",
   "execution_count": 39,
   "id": "d2fb899e",
   "metadata": {},
   "outputs": [],
   "source": [
    "from pyspark.ml.feature import Imputer"
   ]
  },
  {
   "cell_type": "code",
   "execution_count": 40,
   "id": "ee518b0c",
   "metadata": {},
   "outputs": [
    {
     "name": "stdout",
     "output_type": "stream",
     "text": [
      "root\n",
      " |-- Sex: string (nullable = true)\n",
      " |-- Age: integer (nullable = true)\n",
      " |-- Fare: integer (nullable = true)\n",
      "\n"
     ]
    }
   ],
   "source": [
    "df_pyspark.printSchema()"
   ]
  },
  {
   "cell_type": "code",
   "execution_count": 41,
   "id": "3ba7ded6",
   "metadata": {},
   "outputs": [
    {
     "data": {
      "text/plain": [
       "DataFrame[Sex: string, Age: double, Fare: double]"
      ]
     },
     "execution_count": 41,
     "metadata": {},
     "output_type": "execute_result"
    }
   ],
   "source": [
    "from pyspark.ml.feature import Imputer\n",
    "\n",
    "df_pyspark = df_pyspark.withColumn(\"Age\", df_pyspark['Age'].cast('double')).withColumn('Fare', df_pyspark['Fare'].cast('double'))\n",
    "\n",
    "imputer = Imputer(\n",
    "    inputCols=['Age', 'Fare'],\n",
    "    outputCols=['Age', 'Fare'])\n",
    "\n",
    "imputer.fit(df_pyspark).transform(df_pyspark)"
   ]
  },
  {
   "cell_type": "code",
   "execution_count": 42,
   "id": "c252944a",
   "metadata": {},
   "outputs": [
    {
     "name": "stdout",
     "output_type": "stream",
     "text": [
      "root\n",
      " |-- Sex: string (nullable = true)\n",
      " |-- Age: double (nullable = true)\n",
      " |-- Fare: double (nullable = true)\n",
      "\n"
     ]
    }
   ],
   "source": [
    "df_pyspark.printSchema()"
   ]
  },
  {
   "cell_type": "code",
   "execution_count": 43,
   "id": "1aa6efcc",
   "metadata": {},
   "outputs": [
    {
     "name": "stdout",
     "output_type": "stream",
     "text": [
      "+-------+------+------------------+-----------------+\n",
      "|summary|   Sex|               Age|             Fare|\n",
      "+-------+------+------------------+-----------------+\n",
      "|  count|   863|               882|              674|\n",
      "|   mean|  null|24.334467120181404|34.63501483679525|\n",
      "| stddev|  null|19.658154945088704|53.37487226287792|\n",
      "|    min|female|               0.0|              0.0|\n",
      "|    max|  male|             263.0|            512.0|\n",
      "+-------+------+------------------+-----------------+\n",
      "\n"
     ]
    }
   ],
   "source": [
    "df_pyspark.describe().show()"
   ]
  },
  {
   "cell_type": "code",
   "execution_count": 44,
   "id": "6e246af0",
   "metadata": {},
   "outputs": [
    {
     "name": "stdout",
     "output_type": "stream",
     "text": [
      "+-----------------+\n",
      "|        avg(Fare)|\n",
      "+-----------------+\n",
      "|34.63501483679525|\n",
      "+-----------------+\n",
      "\n"
     ]
    }
   ],
   "source": [
    "# get the Mean of a column\n",
    "\n",
    "df_pyspark.agg({'Fare': 'mean'}).show()"
   ]
  },
  {
   "cell_type": "code",
   "execution_count": 45,
   "id": "5ca22a49",
   "metadata": {},
   "outputs": [
    {
     "name": "stdout",
     "output_type": "stream",
     "text": [
      "+------------------+\n",
      "|          avg(Age)|\n",
      "+------------------+\n",
      "|24.334467120181404|\n",
      "+------------------+\n",
      "\n"
     ]
    }
   ],
   "source": [
    "df_pyspark.agg({'Age': 'avg'}).show()"
   ]
  },
  {
   "cell_type": "code",
   "execution_count": 46,
   "id": "9478862e",
   "metadata": {},
   "outputs": [
    {
     "name": "stdout",
     "output_type": "stream",
     "text": [
      "+-----------------+\n",
      "|     stddev(Fare)|\n",
      "+-----------------+\n",
      "|53.37487226287792|\n",
      "+-----------------+\n",
      "\n"
     ]
    }
   ],
   "source": [
    "# get the Standard Deviation of a column\n",
    "\n",
    "df_pyspark.agg({'Fare': 'stddev'}).show()"
   ]
  },
  {
   "cell_type": "code",
   "execution_count": 47,
   "id": "4230aa5b",
   "metadata": {},
   "outputs": [
    {
     "name": "stdout",
     "output_type": "stream",
     "text": [
      "+------------------+\n",
      "|    variance(Fare)|\n",
      "+------------------+\n",
      "|2848.8769890785347|\n",
      "+------------------+\n",
      "\n"
     ]
    }
   ],
   "source": [
    "df_pyspark.agg({'Fare': 'variance'}).show()"
   ]
  },
  {
   "cell_type": "code",
   "execution_count": 48,
   "id": "1db14761",
   "metadata": {},
   "outputs": [],
   "source": [
    "imputer = Imputer(\n",
    "    inputCols=['Age', 'Fare'],\n",
    "    outputCols=[\"{}_imputed\".format(c) for c in ['Age', 'Fare'] ]\n",
    "    ).setStrategy(\"mean\")\n"
   ]
  },
  {
   "cell_type": "code",
   "execution_count": 49,
   "id": "6edfeb82",
   "metadata": {},
   "outputs": [],
   "source": [
    "# add imputation cols to df"
   ]
  },
  {
   "cell_type": "code",
   "execution_count": 50,
   "id": "8a3c979e",
   "metadata": {},
   "outputs": [
    {
     "name": "stdout",
     "output_type": "stream",
     "text": [
      "+------+----+----+------------------+-----------------+\n",
      "|   Sex| Age|Fare|       Age_imputed|     Fare_imputed|\n",
      "+------+----+----+------------------+-----------------+\n",
      "|  male|22.0| 7.0|              22.0|              7.0|\n",
      "|  null|71.0|null|              71.0|34.63501483679525|\n",
      "|female|26.0| 7.0|              26.0|              7.0|\n",
      "|female|53.0|null|              53.0|34.63501483679525|\n",
      "|  null|null|null|24.334467120181404|34.63501483679525|\n",
      "|  male| 0.0|null|               0.0|34.63501483679525|\n",
      "|  male|54.0|51.0|              54.0|             51.0|\n",
      "|  male|null|null|24.334467120181404|34.63501483679525|\n",
      "|female|27.0|11.0|              27.0|             11.0|\n",
      "|  null|14.0|30.0|              14.0|             30.0|\n",
      "|female| 4.0|16.0|               4.0|             16.0|\n",
      "|female|58.0|null|              58.0|34.63501483679525|\n",
      "|  male|20.0| 8.0|              20.0|              8.0|\n",
      "|  null|39.0|31.0|              39.0|             31.0|\n",
      "|female|14.0| 7.0|              14.0|              7.0|\n",
      "|female|16.0|null|              16.0|34.63501483679525|\n",
      "|  male| 2.0|29.0|               2.0|             29.0|\n",
      "|  null| 0.0|null|               0.0|34.63501483679525|\n",
      "|female|31.0|18.0|              31.0|             18.0|\n",
      "|female| 0.0|null|               0.0|34.63501483679525|\n",
      "+------+----+----+------------------+-----------------+\n",
      "only showing top 20 rows\n",
      "\n"
     ]
    }
   ],
   "source": [
    "imputer.fit(df_pyspark).transform(df_pyspark).show()"
   ]
  }
 ],
 "metadata": {
  "kernelspec": {
   "display_name": "Python 3",
   "language": "python",
   "name": "python3"
  },
  "language_info": {
   "codemirror_mode": {
    "name": "ipython",
    "version": 3
   },
   "file_extension": ".py",
   "mimetype": "text/x-python",
   "name": "python",
   "nbconvert_exporter": "python",
   "pygments_lexer": "ipython3",
   "version": "3.8.8"
  }
 },
 "nbformat": 4,
 "nbformat_minor": 5
}
