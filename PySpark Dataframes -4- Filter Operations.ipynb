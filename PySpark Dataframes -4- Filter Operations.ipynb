{
 "cells": [
  {
   "cell_type": "code",
   "execution_count": 1,
   "id": "699183c2",
   "metadata": {},
   "outputs": [
    {
     "name": "stdout",
     "output_type": "stream",
     "text": [
      "Requirement already satisfied: pyspark in c:\\programdata\\anaconda3\\lib\\site-packages (3.2.0)\n",
      "Requirement already satisfied: py4j==0.10.9.2 in c:\\programdata\\anaconda3\\lib\\site-packages (from pyspark) (0.10.9.2)\n"
     ]
    }
   ],
   "source": [
    "!pip install pyspark\n"
   ]
  },
  {
   "cell_type": "code",
   "execution_count": 2,
   "id": "38fbd7f0",
   "metadata": {},
   "outputs": [],
   "source": [
    "from pyspark.sql import SparkSession\n",
    "spark=SparkSession.builder.appName('App4').getOrCreate()"
   ]
  },
  {
   "cell_type": "code",
   "execution_count": 3,
   "id": "c3677d33",
   "metadata": {},
   "outputs": [
    {
     "data": {
      "text/html": [
       "\n",
       "            <div>\n",
       "                <p><b>SparkSession - in-memory</b></p>\n",
       "                \n",
       "        <div>\n",
       "            <p><b>SparkContext</b></p>\n",
       "\n",
       "            <p><a href=\"http://host.docker.internal:4040\">Spark UI</a></p>\n",
       "\n",
       "            <dl>\n",
       "              <dt>Version</dt>\n",
       "                <dd><code>v3.2.0</code></dd>\n",
       "              <dt>Master</dt>\n",
       "                <dd><code>local[*]</code></dd>\n",
       "              <dt>AppName</dt>\n",
       "                <dd><code>App4</code></dd>\n",
       "            </dl>\n",
       "        </div>\n",
       "        \n",
       "            </div>\n",
       "        "
      ],
      "text/plain": [
       "<pyspark.sql.session.SparkSession at 0x288787440d0>"
      ]
     },
     "execution_count": 3,
     "metadata": {},
     "output_type": "execute_result"
    }
   ],
   "source": [
    "spark"
   ]
  },
  {
   "cell_type": "code",
   "execution_count": 5,
   "id": "bdefd20a",
   "metadata": {},
   "outputs": [
    {
     "data": {
      "text/html": [
       "<div>\n",
       "<style scoped>\n",
       "    .dataframe tbody tr th:only-of-type {\n",
       "        vertical-align: middle;\n",
       "    }\n",
       "\n",
       "    .dataframe tbody tr th {\n",
       "        vertical-align: top;\n",
       "    }\n",
       "\n",
       "    .dataframe thead th {\n",
       "        text-align: right;\n",
       "    }\n",
       "</style>\n",
       "<table border=\"1\" class=\"dataframe\">\n",
       "  <thead>\n",
       "    <tr style=\"text-align: right;\">\n",
       "      <th></th>\n",
       "      <th>Id</th>\n",
       "      <th>EmployeeName</th>\n",
       "      <th>JobTitle</th>\n",
       "      <th>Salary</th>\n",
       "      <th>Age</th>\n",
       "      <th>Exp</th>\n",
       "    </tr>\n",
       "  </thead>\n",
       "  <tbody>\n",
       "    <tr>\n",
       "      <th>0</th>\n",
       "      <td>1</td>\n",
       "      <td>NATHANIEL FORD</td>\n",
       "      <td>GENERAL MANAGER-METROPOLITAN TRANSIT AUTHORITY</td>\n",
       "      <td>167411.18</td>\n",
       "      <td>80</td>\n",
       "      <td>18</td>\n",
       "    </tr>\n",
       "    <tr>\n",
       "      <th>1</th>\n",
       "      <td>2</td>\n",
       "      <td>GARY JIMENEZ</td>\n",
       "      <td>CAPTAIN III (POLICE DEPARTMENT)</td>\n",
       "      <td>155966.02</td>\n",
       "      <td>48</td>\n",
       "      <td>2</td>\n",
       "    </tr>\n",
       "    <tr>\n",
       "      <th>2</th>\n",
       "      <td>3</td>\n",
       "      <td>ALBERT PARDINI</td>\n",
       "      <td>CAPTAIN III (POLICE DEPARTMENT)</td>\n",
       "      <td>212739.13</td>\n",
       "      <td>78</td>\n",
       "      <td>5</td>\n",
       "    </tr>\n",
       "    <tr>\n",
       "      <th>3</th>\n",
       "      <td>4</td>\n",
       "      <td>CHRISTOPHER CHONG</td>\n",
       "      <td>WIRE ROPE CABLE MAINTENANCE MECHANIC</td>\n",
       "      <td>77916.00</td>\n",
       "      <td>38</td>\n",
       "      <td>8</td>\n",
       "    </tr>\n",
       "    <tr>\n",
       "      <th>4</th>\n",
       "      <td>5</td>\n",
       "      <td>PATRICK GARDNER</td>\n",
       "      <td>DEPUTY CHIEF OF DEPARTMENT,(FIRE DEPARTMENT)</td>\n",
       "      <td>134401.60</td>\n",
       "      <td>39</td>\n",
       "      <td>11</td>\n",
       "    </tr>\n",
       "    <tr>\n",
       "      <th>...</th>\n",
       "      <td>...</td>\n",
       "      <td>...</td>\n",
       "      <td>...</td>\n",
       "      <td>...</td>\n",
       "      <td>...</td>\n",
       "      <td>...</td>\n",
       "    </tr>\n",
       "    <tr>\n",
       "      <th>69</th>\n",
       "      <td>70</td>\n",
       "      <td>WING CHAN</td>\n",
       "      <td>INCIDENT SUPPORT SPECIALIST</td>\n",
       "      <td>115455.44</td>\n",
       "      <td>36</td>\n",
       "      <td>11</td>\n",
       "    </tr>\n",
       "    <tr>\n",
       "      <th>70</th>\n",
       "      <td>71</td>\n",
       "      <td>GEORGE GASCON</td>\n",
       "      <td>DISTRICT ATTORNEY</td>\n",
       "      <td>220983.12</td>\n",
       "      <td>20</td>\n",
       "      <td>13</td>\n",
       "    </tr>\n",
       "    <tr>\n",
       "      <th>71</th>\n",
       "      <td>72</td>\n",
       "      <td>RICHARD BUSALACCHI</td>\n",
       "      <td>BATTALION CHIEF, (FIRE DEPARTMENT)</td>\n",
       "      <td>92782.61</td>\n",
       "      <td>58</td>\n",
       "      <td>4</td>\n",
       "    </tr>\n",
       "    <tr>\n",
       "      <th>72</th>\n",
       "      <td>73</td>\n",
       "      <td>LAWRENCE FREED</td>\n",
       "      <td>ELECTRICAL TRANSIT MECHANIC, ASSISTANT SUPERVISOR</td>\n",
       "      <td>95770.80</td>\n",
       "      <td>39</td>\n",
       "      <td>16</td>\n",
       "    </tr>\n",
       "    <tr>\n",
       "      <th>73</th>\n",
       "      <td>74</td>\n",
       "      <td>MONIQUE MOYER</td>\n",
       "      <td>PORT DIRECTOR</td>\n",
       "      <td>233357.28</td>\n",
       "      <td>72</td>\n",
       "      <td>15</td>\n",
       "    </tr>\n",
       "  </tbody>\n",
       "</table>\n",
       "<p>74 rows × 6 columns</p>\n",
       "</div>"
      ],
      "text/plain": [
       "    Id        EmployeeName                                           JobTitle  \\\n",
       "0    1      NATHANIEL FORD     GENERAL MANAGER-METROPOLITAN TRANSIT AUTHORITY   \n",
       "1    2        GARY JIMENEZ                    CAPTAIN III (POLICE DEPARTMENT)   \n",
       "2    3      ALBERT PARDINI                    CAPTAIN III (POLICE DEPARTMENT)   \n",
       "3    4   CHRISTOPHER CHONG               WIRE ROPE CABLE MAINTENANCE MECHANIC   \n",
       "4    5     PATRICK GARDNER       DEPUTY CHIEF OF DEPARTMENT,(FIRE DEPARTMENT)   \n",
       "..  ..                 ...                                                ...   \n",
       "69  70           WING CHAN                        INCIDENT SUPPORT SPECIALIST   \n",
       "70  71       GEORGE GASCON                                  DISTRICT ATTORNEY   \n",
       "71  72  RICHARD BUSALACCHI                 BATTALION CHIEF, (FIRE DEPARTMENT)   \n",
       "72  73      LAWRENCE FREED  ELECTRICAL TRANSIT MECHANIC, ASSISTANT SUPERVISOR   \n",
       "73  74       MONIQUE MOYER                                      PORT DIRECTOR   \n",
       "\n",
       "       Salary  Age  Exp  \n",
       "0   167411.18   80   18  \n",
       "1   155966.02   48    2  \n",
       "2   212739.13   78    5  \n",
       "3    77916.00   38    8  \n",
       "4   134401.60   39   11  \n",
       "..        ...  ...  ...  \n",
       "69  115455.44   36   11  \n",
       "70  220983.12   20   13  \n",
       "71   92782.61   58    4  \n",
       "72   95770.80   39   16  \n",
       "73  233357.28   72   15  \n",
       "\n",
       "[74 rows x 6 columns]"
      ]
     },
     "execution_count": 5,
     "metadata": {},
     "output_type": "execute_result"
    }
   ],
   "source": [
    "import pandas as pd\n",
    "pd.read_csv('Salaries.csv')"
   ]
  },
  {
   "cell_type": "code",
   "execution_count": 8,
   "id": "ea5e3e82",
   "metadata": {},
   "outputs": [],
   "source": [
    "from pyspark.sql import SparkSession"
   ]
  },
  {
   "cell_type": "code",
   "execution_count": 9,
   "id": "5ac4617a",
   "metadata": {},
   "outputs": [],
   "source": [
    "spark=SparkSession.builder.appName('App4').getOrCreate()"
   ]
  },
  {
   "cell_type": "code",
   "execution_count": 10,
   "id": "2bb31730",
   "metadata": {},
   "outputs": [
    {
     "name": "stdout",
     "output_type": "stream",
     "text": [
      "+---+------------------+--------------------+---------+---+---+\n",
      "| Id|      EmployeeName|            JobTitle|   Salary|Age|Exp|\n",
      "+---+------------------+--------------------+---------+---+---+\n",
      "|  1|    NATHANIEL FORD|GENERAL MANAGER-M...|167411.18| 80| 18|\n",
      "|  2|      GARY JIMENEZ|CAPTAIN III (POLI...|155966.02| 48|  2|\n",
      "|  3|    ALBERT PARDINI|CAPTAIN III (POLI...|212739.13| 78|  5|\n",
      "|  4| CHRISTOPHER CHONG|WIRE ROPE CABLE M...| 77916.00| 38|  8|\n",
      "|  5|   PATRICK GARDNER|DEPUTY CHIEF OF D...|134401.60| 39| 11|\n",
      "|  6|    DAVID SULLIVAN|ASSISTANT DEPUTY ...|118602.00| 64|  2|\n",
      "|  7|         ALSON LEE|BATTALION CHIEF, ...| 92492.01| 34| 12|\n",
      "|  8|     DAVID KUSHNER|DEPUTY DIRECTOR O...|256576.96| 62| 16|\n",
      "|  9|    MICHAEL MORRIS|BATTALION CHIEF, ...|176932.64| 23| 12|\n",
      "| 10|JOANNE HAYES-WHITE|CHIEF OF DEPARTME...|285262.00| 80| 21|\n",
      "| 11|     ARTHUR KENNEY|ASSISTANT CHIEF O...|194999.39| 52|  3|\n",
      "| 12|  PATRICIA JACKSON|CAPTAIN III (POLI...| 99722.00| 86|  8|\n",
      "| 13| EDWARD HARRINGTON|EXECUTIVE CONTRAC...|294580.02| 85|  5|\n",
      "| 14|       JOHN MARTIN|   DEPARTMENT HEAD V|271329.03| 39| 11|\n",
      "| 15|    DAVID FRANKLIN|BATTALION CHIEF, ...|174872.64| 57| 15|\n",
      "| 16|   RICHARD CORRIEA|COMMANDER III, (P...|198778.01| 25| 20|\n",
      "| 17|          AMY HART|   DEPARTMENT HEAD V|268604.57| 29|  1|\n",
      "| 18|    SEBASTIAN WONG|CAPTAIN, EMERGENC...|140546.87| 85|  4|\n",
      "| 19|        MARTY ROSS|BATTALION CHIEF, ...|168692.63| 38| 19|\n",
      "| 20|     ELLEN MOFFATT|ASSISTANT MEDICAL...|257510.59| 28|  1|\n",
      "+---+------------------+--------------------+---------+---+---+\n",
      "only showing top 20 rows\n",
      "\n"
     ]
    }
   ],
   "source": [
    "spark.read.option('header','true').csv('Salaries.csv').show()"
   ]
  },
  {
   "cell_type": "code",
   "execution_count": 11,
   "id": "d966b35d",
   "metadata": {},
   "outputs": [
    {
     "name": "stdout",
     "output_type": "stream",
     "text": [
      "+---+------------------+--------------------+---------+---+---+\n",
      "| Id|      EmployeeName|            JobTitle|   Salary|Age|Exp|\n",
      "+---+------------------+--------------------+---------+---+---+\n",
      "|  1|    NATHANIEL FORD|GENERAL MANAGER-M...|167411.18| 80| 18|\n",
      "|  2|      GARY JIMENEZ|CAPTAIN III (POLI...|155966.02| 48|  2|\n",
      "|  3|    ALBERT PARDINI|CAPTAIN III (POLI...|212739.13| 78|  5|\n",
      "|  4| CHRISTOPHER CHONG|WIRE ROPE CABLE M...|  77916.0| 38|  8|\n",
      "|  5|   PATRICK GARDNER|DEPUTY CHIEF OF D...| 134401.6| 39| 11|\n",
      "|  6|    DAVID SULLIVAN|ASSISTANT DEPUTY ...| 118602.0| 64|  2|\n",
      "|  7|         ALSON LEE|BATTALION CHIEF, ...| 92492.01| 34| 12|\n",
      "|  8|     DAVID KUSHNER|DEPUTY DIRECTOR O...|256576.96| 62| 16|\n",
      "|  9|    MICHAEL MORRIS|BATTALION CHIEF, ...|176932.64| 23| 12|\n",
      "| 10|JOANNE HAYES-WHITE|CHIEF OF DEPARTME...| 285262.0| 80| 21|\n",
      "| 11|     ARTHUR KENNEY|ASSISTANT CHIEF O...|194999.39| 52|  3|\n",
      "| 12|  PATRICIA JACKSON|CAPTAIN III (POLI...|  99722.0| 86|  8|\n",
      "| 13| EDWARD HARRINGTON|EXECUTIVE CONTRAC...|294580.02| 85|  5|\n",
      "| 14|       JOHN MARTIN|   DEPARTMENT HEAD V|271329.03| 39| 11|\n",
      "| 15|    DAVID FRANKLIN|BATTALION CHIEF, ...|174872.64| 57| 15|\n",
      "| 16|   RICHARD CORRIEA|COMMANDER III, (P...|198778.01| 25| 20|\n",
      "| 17|          AMY HART|   DEPARTMENT HEAD V|268604.57| 29|  1|\n",
      "| 18|    SEBASTIAN WONG|CAPTAIN, EMERGENC...|140546.87| 85|  4|\n",
      "| 19|        MARTY ROSS|BATTALION CHIEF, ...|168692.63| 38| 19|\n",
      "| 20|     ELLEN MOFFATT|ASSISTANT MEDICAL...|257510.59| 28|  1|\n",
      "+---+------------------+--------------------+---------+---+---+\n",
      "only showing top 20 rows\n",
      "\n"
     ]
    }
   ],
   "source": [
    "df_pyspark=spark.read.option('header','true').csv('Salaries.csv',inferSchema=True)\n",
    "df_pyspark.show()"
   ]
  },
  {
   "cell_type": "code",
   "execution_count": 12,
   "id": "4e2503b1",
   "metadata": {},
   "outputs": [
    {
     "name": "stdout",
     "output_type": "stream",
     "text": [
      "root\n",
      " |-- Id: integer (nullable = true)\n",
      " |-- EmployeeName: string (nullable = true)\n",
      " |-- JobTitle: string (nullable = true)\n",
      " |-- Salary: double (nullable = true)\n",
      " |-- Age: integer (nullable = true)\n",
      " |-- Exp: integer (nullable = true)\n",
      "\n"
     ]
    }
   ],
   "source": [
    "df_pyspark.printSchema()"
   ]
  },
  {
   "cell_type": "code",
   "execution_count": null,
   "id": "21795fbf",
   "metadata": {},
   "outputs": [],
   "source": []
  },
  {
   "cell_type": "code",
   "execution_count": null,
   "id": "2b7faea6",
   "metadata": {},
   "outputs": [],
   "source": []
  },
  {
   "cell_type": "code",
   "execution_count": null,
   "id": "dd0bf4a7",
   "metadata": {},
   "outputs": [],
   "source": []
  },
  {
   "cell_type": "code",
   "execution_count": null,
   "id": "3d687bcf",
   "metadata": {},
   "outputs": [],
   "source": []
  },
  {
   "cell_type": "code",
   "execution_count": null,
   "id": "442139fd",
   "metadata": {},
   "outputs": [],
   "source": []
  }
 ],
 "metadata": {
  "kernelspec": {
   "display_name": "Python 3",
   "language": "python",
   "name": "python3"
  },
  "language_info": {
   "codemirror_mode": {
    "name": "ipython",
    "version": 3
   },
   "file_extension": ".py",
   "mimetype": "text/x-python",
   "name": "python",
   "nbconvert_exporter": "python",
   "pygments_lexer": "ipython3",
   "version": "3.8.8"
  }
 },
 "nbformat": 4,
 "nbformat_minor": 5
}
