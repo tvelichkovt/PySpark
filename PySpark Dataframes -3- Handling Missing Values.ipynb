{
 "cells": [
  {
   "cell_type": "code",
   "execution_count": 1,
   "id": "699183c2",
   "metadata": {},
   "outputs": [
    {
     "name": "stdout",
     "output_type": "stream",
     "text": [
      "Requirement already satisfied: pyspark in c:\\programdata\\anaconda3\\lib\\site-packages (3.2.0)\n",
      "Requirement already satisfied: py4j==0.10.9.2 in c:\\programdata\\anaconda3\\lib\\site-packages (from pyspark) (0.10.9.2)\n"
     ]
    }
   ],
   "source": [
    "!pip install pyspark\n"
   ]
  },
  {
   "cell_type": "code",
   "execution_count": 2,
   "id": "38fbd7f0",
   "metadata": {},
   "outputs": [],
   "source": [
    "from pyspark.sql import SparkSession\n",
    "spark=SparkSession.builder.appName('App3').getOrCreate()"
   ]
  },
  {
   "cell_type": "code",
   "execution_count": 3,
   "id": "c3677d33",
   "metadata": {},
   "outputs": [
    {
     "data": {
      "text/html": [
       "\n",
       "            <div>\n",
       "                <p><b>SparkSession - in-memory</b></p>\n",
       "                \n",
       "        <div>\n",
       "            <p><b>SparkContext</b></p>\n",
       "\n",
       "            <p><a href=\"http://host.docker.internal:4042\">Spark UI</a></p>\n",
       "\n",
       "            <dl>\n",
       "              <dt>Version</dt>\n",
       "                <dd><code>v3.2.0</code></dd>\n",
       "              <dt>Master</dt>\n",
       "                <dd><code>local[*]</code></dd>\n",
       "              <dt>AppName</dt>\n",
       "                <dd><code>App3</code></dd>\n",
       "            </dl>\n",
       "        </div>\n",
       "        \n",
       "            </div>\n",
       "        "
      ],
      "text/plain": [
       "<pyspark.sql.session.SparkSession at 0x2637d1920a0>"
      ]
     },
     "execution_count": 3,
     "metadata": {},
     "output_type": "execute_result"
    }
   ],
   "source": [
    "spark"
   ]
  },
  {
   "cell_type": "code",
   "execution_count": 4,
   "id": "bdefd20a",
   "metadata": {},
   "outputs": [
    {
     "data": {
      "text/html": [
       "<div>\n",
       "<style scoped>\n",
       "    .dataframe tbody tr th:only-of-type {\n",
       "        vertical-align: middle;\n",
       "    }\n",
       "\n",
       "    .dataframe tbody tr th {\n",
       "        vertical-align: top;\n",
       "    }\n",
       "\n",
       "    .dataframe thead th {\n",
       "        text-align: right;\n",
       "    }\n",
       "</style>\n",
       "<table border=\"1\" class=\"dataframe\">\n",
       "  <thead>\n",
       "    <tr style=\"text-align: right;\">\n",
       "      <th></th>\n",
       "      <th>Sex</th>\n",
       "      <th>Age</th>\n",
       "      <th>Fare</th>\n",
       "    </tr>\n",
       "  </thead>\n",
       "  <tbody>\n",
       "    <tr>\n",
       "      <th>0</th>\n",
       "      <td>male</td>\n",
       "      <td>22</td>\n",
       "      <td>7.25</td>\n",
       "    </tr>\n",
       "    <tr>\n",
       "      <th>1</th>\n",
       "      <td>NaN</td>\n",
       "      <td>NaN</td>\n",
       "      <td>71.2833</td>\n",
       "    </tr>\n",
       "    <tr>\n",
       "      <th>2</th>\n",
       "      <td>female</td>\n",
       "      <td>26</td>\n",
       "      <td>7.925</td>\n",
       "    </tr>\n",
       "    <tr>\n",
       "      <th>3</th>\n",
       "      <td>female</td>\n",
       "      <td>53.1</td>\n",
       "      <td>NaN</td>\n",
       "    </tr>\n",
       "    <tr>\n",
       "      <th>4</th>\n",
       "      <td>NaN</td>\n",
       "      <td>NaN</td>\n",
       "      <td>NaN</td>\n",
       "    </tr>\n",
       "    <tr>\n",
       "      <th>...</th>\n",
       "      <td>...</td>\n",
       "      <td>...</td>\n",
       "      <td>...</td>\n",
       "    </tr>\n",
       "    <tr>\n",
       "      <th>886</th>\n",
       "      <td>male</td>\n",
       "      <td>27</td>\n",
       "      <td>13</td>\n",
       "    </tr>\n",
       "    <tr>\n",
       "      <th>887</th>\n",
       "      <td>female</td>\n",
       "      <td>19</td>\n",
       "      <td>30</td>\n",
       "    </tr>\n",
       "    <tr>\n",
       "      <th>888</th>\n",
       "      <td>female</td>\n",
       "      <td>1</td>\n",
       "      <td>S</td>\n",
       "    </tr>\n",
       "    <tr>\n",
       "      <th>889</th>\n",
       "      <td>male</td>\n",
       "      <td>26</td>\n",
       "      <td>30</td>\n",
       "    </tr>\n",
       "    <tr>\n",
       "      <th>890</th>\n",
       "      <td>male</td>\n",
       "      <td>32</td>\n",
       "      <td>7.75</td>\n",
       "    </tr>\n",
       "  </tbody>\n",
       "</table>\n",
       "<p>891 rows × 3 columns</p>\n",
       "</div>"
      ],
      "text/plain": [
       "        Sex   Age     Fare\n",
       "0      male    22     7.25\n",
       "1       NaN   NaN  71.2833\n",
       "2    female    26    7.925\n",
       "3    female  53.1      NaN\n",
       "4       NaN   NaN      NaN\n",
       "..      ...   ...      ...\n",
       "886    male    27       13\n",
       "887  female    19       30\n",
       "888  female     1        S\n",
       "889    male    26       30\n",
       "890    male    32     7.75\n",
       "\n",
       "[891 rows x 3 columns]"
      ]
     },
     "execution_count": 4,
     "metadata": {},
     "output_type": "execute_result"
    }
   ],
   "source": [
    "import pandas as pd\n",
    "pd.read_csv('titanic1.csv')"
   ]
  },
  {
   "cell_type": "code",
   "execution_count": 5,
   "id": "ea5e3e82",
   "metadata": {},
   "outputs": [],
   "source": [
    "from pyspark.sql import SparkSession"
   ]
  },
  {
   "cell_type": "code",
   "execution_count": 6,
   "id": "5ac4617a",
   "metadata": {},
   "outputs": [],
   "source": [
    "spark=SparkSession.builder.appName('App3').getOrCreate()"
   ]
  },
  {
   "cell_type": "code",
   "execution_count": 7,
   "id": "2bb31730",
   "metadata": {},
   "outputs": [
    {
     "name": "stdout",
     "output_type": "stream",
     "text": [
      "+------+----+-------+\n",
      "|   Sex| Age|   Fare|\n",
      "+------+----+-------+\n",
      "|  male|  22|   7.25|\n",
      "|  null|null|71.2833|\n",
      "|female|  26|  7.925|\n",
      "|female|53.1|   null|\n",
      "|  null|null|   null|\n",
      "|  male|   0|      Q|\n",
      "|  male|  54|51.8625|\n",
      "|  male|null|   null|\n",
      "|female|  27|11.1333|\n",
      "|  null|  14|30.0708|\n",
      "|female|   4|   16.7|\n",
      "|female|  58|   null|\n",
      "|  male|  20|   8.05|\n",
      "|  null|  39| 31.275|\n",
      "|female|  14| 7.8542|\n",
      "|female|  16|   null|\n",
      "|  male|   2| 29.125|\n",
      "|  null|   0|      S|\n",
      "|female|  31|     18|\n",
      "|female|   0|      C|\n",
      "+------+----+-------+\n",
      "only showing top 20 rows\n",
      "\n"
     ]
    }
   ],
   "source": [
    "spark.read.option('header','true').csv('titanic1.csv').show()"
   ]
  },
  {
   "cell_type": "code",
   "execution_count": 8,
   "id": "d966b35d",
   "metadata": {},
   "outputs": [
    {
     "name": "stdout",
     "output_type": "stream",
     "text": [
      "+------+----+-------+\n",
      "|   Sex| Age|   Fare|\n",
      "+------+----+-------+\n",
      "|  male|  22|   7.25|\n",
      "|  null|null|71.2833|\n",
      "|female|  26|  7.925|\n",
      "|female|53.1|   null|\n",
      "|  null|null|   null|\n",
      "|  male|   0|      Q|\n",
      "|  male|  54|51.8625|\n",
      "|  male|null|   null|\n",
      "|female|  27|11.1333|\n",
      "|  null|  14|30.0708|\n",
      "|female|   4|   16.7|\n",
      "|female|  58|   null|\n",
      "|  male|  20|   8.05|\n",
      "|  null|  39| 31.275|\n",
      "|female|  14| 7.8542|\n",
      "|female|  16|   null|\n",
      "|  male|   2| 29.125|\n",
      "|  null|   0|      S|\n",
      "|female|  31|     18|\n",
      "|female|   0|      C|\n",
      "+------+----+-------+\n",
      "only showing top 20 rows\n",
      "\n"
     ]
    }
   ],
   "source": [
    "df_pyspark=spark.read.option('header','true').csv('titanic1.csv',inferSchema=True)\n",
    "df_pyspark.show()"
   ]
  },
  {
   "cell_type": "code",
   "execution_count": 9,
   "id": "4e2503b1",
   "metadata": {},
   "outputs": [
    {
     "name": "stdout",
     "output_type": "stream",
     "text": [
      "root\n",
      " |-- Sex: string (nullable = true)\n",
      " |-- Age: string (nullable = true)\n",
      " |-- Fare: string (nullable = true)\n",
      "\n"
     ]
    }
   ],
   "source": [
    "df_pyspark.printSchema()"
   ]
  },
  {
   "cell_type": "code",
   "execution_count": 10,
   "id": "ef90db11",
   "metadata": {},
   "outputs": [
    {
     "data": {
      "text/plain": [
       "pyspark.sql.dataframe.DataFrame"
      ]
     },
     "execution_count": 10,
     "metadata": {},
     "output_type": "execute_result"
    }
   ],
   "source": [
    "type(df_pyspark)"
   ]
  },
  {
   "cell_type": "code",
   "execution_count": 11,
   "id": "41b695a6",
   "metadata": {},
   "outputs": [],
   "source": [
    "# drop COLUMNS"
   ]
  },
  {
   "cell_type": "code",
   "execution_count": 12,
   "id": "49819643",
   "metadata": {},
   "outputs": [
    {
     "name": "stdout",
     "output_type": "stream",
     "text": [
      "+------+----+\n",
      "|   Sex| Age|\n",
      "+------+----+\n",
      "|  male|  22|\n",
      "|  null|null|\n",
      "|female|  26|\n",
      "|female|53.1|\n",
      "|  null|null|\n",
      "|  male|   0|\n",
      "|  male|  54|\n",
      "|  male|null|\n",
      "|female|  27|\n",
      "|  null|  14|\n",
      "|female|   4|\n",
      "|female|  58|\n",
      "|  male|  20|\n",
      "|  null|  39|\n",
      "|female|  14|\n",
      "|female|  16|\n",
      "|  male|   2|\n",
      "|  null|   0|\n",
      "|female|  31|\n",
      "|female|   0|\n",
      "+------+----+\n",
      "only showing top 20 rows\n",
      "\n"
     ]
    }
   ],
   "source": [
    "df_pyspark.drop('Fare').show()"
   ]
  },
  {
   "cell_type": "code",
   "execution_count": 13,
   "id": "ead1446c",
   "metadata": {},
   "outputs": [],
   "source": [
    "# drop NULL (na) values"
   ]
  },
  {
   "cell_type": "code",
   "execution_count": 14,
   "id": "d05ea57d",
   "metadata": {},
   "outputs": [
    {
     "data": {
      "text/plain": [
       "891"
      ]
     },
     "execution_count": 14,
     "metadata": {},
     "output_type": "execute_result"
    }
   ],
   "source": [
    "df_pyspark.select().count()"
   ]
  },
  {
   "cell_type": "code",
   "execution_count": 15,
   "id": "03ceb50e",
   "metadata": {},
   "outputs": [
    {
     "data": {
      "text/plain": [
       "823"
      ]
     },
     "execution_count": 15,
     "metadata": {},
     "output_type": "execute_result"
    }
   ],
   "source": [
    "df_pyspark.na.drop().select().count()"
   ]
  },
  {
   "cell_type": "code",
   "execution_count": 16,
   "id": "304684ed",
   "metadata": {},
   "outputs": [
    {
     "data": {
      "text/plain": [
       "-68"
      ]
     },
     "execution_count": 16,
     "metadata": {},
     "output_type": "execute_result"
    }
   ],
   "source": [
    "df_pyspark.na.drop().select().count() - df_pyspark.select().count()"
   ]
  },
  {
   "cell_type": "code",
   "execution_count": 17,
   "id": "530dc9f7",
   "metadata": {
    "scrolled": true
   },
   "outputs": [
    {
     "name": "stdout",
     "output_type": "stream",
     "text": [
      "+------+---+-------+\n",
      "|   Sex|Age|   Fare|\n",
      "+------+---+-------+\n",
      "|  male| 22|   7.25|\n",
      "|female| 26|  7.925|\n",
      "|  male|  0|      Q|\n",
      "|  male| 54|51.8625|\n",
      "|female| 27|11.1333|\n",
      "|female|  4|   16.7|\n",
      "|  male| 20|   8.05|\n",
      "|female| 14| 7.8542|\n",
      "|  male|  2| 29.125|\n",
      "|female| 31|     18|\n",
      "|female|  0|      C|\n",
      "|  male| 34|     13|\n",
      "|female|  8| 21.075|\n",
      "|  male|  0|      C|\n",
      "|  male| 19|    263|\n",
      "|female|  0|      Q|\n",
      "|  male| 40|27.7208|\n",
      "|female|  1|    B78|\n",
      "|  male| 66|   10.5|\n",
      "|  male| 28|82.1708|\n",
      "+------+---+-------+\n",
      "only showing top 20 rows\n",
      "\n"
     ]
    }
   ],
   "source": [
    "df_pyspark.na.drop().show()"
   ]
  },
  {
   "cell_type": "code",
   "execution_count": 18,
   "id": "81a2b276",
   "metadata": {},
   "outputs": [],
   "source": [
    "# any & how, drop NULL (na) values"
   ]
  },
  {
   "cell_type": "code",
   "execution_count": 19,
   "id": "4a11f889",
   "metadata": {},
   "outputs": [
    {
     "data": {
      "text/plain": [
       "-3"
      ]
     },
     "execution_count": 19,
     "metadata": {},
     "output_type": "execute_result"
    }
   ],
   "source": [
    "df_pyspark.na.drop(how='all').select().count() - df_pyspark.select().count()"
   ]
  },
  {
   "cell_type": "code",
   "execution_count": 20,
   "id": "b47cf95a",
   "metadata": {},
   "outputs": [
    {
     "name": "stdout",
     "output_type": "stream",
     "text": [
      "+------+----+-------+\n",
      "|   Sex| Age|   Fare|\n",
      "+------+----+-------+\n",
      "|  male|  22|   7.25|\n",
      "|  null|null|71.2833|\n",
      "|female|  26|  7.925|\n",
      "|female|53.1|   null|\n",
      "|  male|   0|      Q|\n",
      "|  male|  54|51.8625|\n",
      "|  male|null|   null|\n",
      "|female|  27|11.1333|\n",
      "|  null|  14|30.0708|\n",
      "|female|   4|   16.7|\n",
      "|female|  58|   null|\n",
      "|  male|  20|   8.05|\n",
      "|  null|  39| 31.275|\n",
      "|female|  14| 7.8542|\n",
      "|female|  16|   null|\n",
      "|  male|   2| 29.125|\n",
      "|  null|   0|      S|\n",
      "|female|  31|     18|\n",
      "|female|   0|      C|\n",
      "|  male|  34|     13|\n",
      "+------+----+-------+\n",
      "only showing top 20 rows\n",
      "\n"
     ]
    }
   ],
   "source": [
    "df_pyspark.na.drop(how='all').show()"
   ]
  },
  {
   "cell_type": "code",
   "execution_count": 21,
   "id": "4679e2ef",
   "metadata": {},
   "outputs": [
    {
     "data": {
      "text/plain": [
       "-68"
      ]
     },
     "execution_count": 21,
     "metadata": {},
     "output_type": "execute_result"
    }
   ],
   "source": [
    "df_pyspark.na.drop(how='any').select().count() - df_pyspark.select().count()"
   ]
  },
  {
   "cell_type": "code",
   "execution_count": 22,
   "id": "1ee0aa80",
   "metadata": {},
   "outputs": [
    {
     "name": "stdout",
     "output_type": "stream",
     "text": [
      "+------+---+-------+\n",
      "|   Sex|Age|   Fare|\n",
      "+------+---+-------+\n",
      "|  male| 22|   7.25|\n",
      "|female| 26|  7.925|\n",
      "|  male|  0|      Q|\n",
      "|  male| 54|51.8625|\n",
      "|female| 27|11.1333|\n",
      "|female|  4|   16.7|\n",
      "|  male| 20|   8.05|\n",
      "|female| 14| 7.8542|\n",
      "|  male|  2| 29.125|\n",
      "|female| 31|     18|\n",
      "|female|  0|      C|\n",
      "|  male| 34|     13|\n",
      "|female|  8| 21.075|\n",
      "|  male|  0|      C|\n",
      "|  male| 19|    263|\n",
      "|female|  0|      Q|\n",
      "|  male| 40|27.7208|\n",
      "|female|  1|    B78|\n",
      "|  male| 66|   10.5|\n",
      "|  male| 28|82.1708|\n",
      "+------+---+-------+\n",
      "only showing top 20 rows\n",
      "\n"
     ]
    }
   ],
   "source": [
    "df_pyspark.na.drop(how='any').show()"
   ]
  },
  {
   "cell_type": "code",
   "execution_count": 23,
   "id": "645297bb",
   "metadata": {},
   "outputs": [],
   "source": [
    "# threshold, drop NULL (na) values"
   ]
  },
  {
   "cell_type": "code",
   "execution_count": 24,
   "id": "3434a54b",
   "metadata": {},
   "outputs": [
    {
     "data": {
      "text/plain": [
       "-9"
      ]
     },
     "execution_count": 24,
     "metadata": {},
     "output_type": "execute_result"
    }
   ],
   "source": [
    "df_pyspark.na.drop(how='any', thresh=2).select().count() - df_pyspark.select().count()"
   ]
  },
  {
   "cell_type": "code",
   "execution_count": 25,
   "id": "2432d89d",
   "metadata": {},
   "outputs": [
    {
     "name": "stdout",
     "output_type": "stream",
     "text": [
      "+------+----+-------+\n",
      "|   Sex| Age|   Fare|\n",
      "+------+----+-------+\n",
      "|  male|  22|   7.25|\n",
      "|female|  26|  7.925|\n",
      "|female|53.1|   null|\n",
      "|  male|   0|      Q|\n",
      "|  male|  54|51.8625|\n",
      "|female|  27|11.1333|\n",
      "|  null|  14|30.0708|\n",
      "|female|   4|   16.7|\n",
      "|female|  58|   null|\n",
      "|  male|  20|   8.05|\n",
      "|  null|  39| 31.275|\n",
      "|female|  14| 7.8542|\n",
      "|female|  16|   null|\n",
      "|  male|   2| 29.125|\n",
      "|  null|   0|      S|\n",
      "|female|  31|     18|\n",
      "|female|   0|      C|\n",
      "|  male|  34|     13|\n",
      "|female|  15|   null|\n",
      "|  male|35.5|   null|\n",
      "+------+----+-------+\n",
      "only showing top 20 rows\n",
      "\n"
     ]
    }
   ],
   "source": [
    "df_pyspark.na.drop(how='any', thresh=2).show()"
   ]
  },
  {
   "cell_type": "code",
   "execution_count": 26,
   "id": "f3fe3c6c",
   "metadata": {},
   "outputs": [
    {
     "data": {
      "text/plain": [
       "-3"
      ]
     },
     "execution_count": 26,
     "metadata": {},
     "output_type": "execute_result"
    }
   ],
   "source": [
    "df_pyspark.na.drop(how='any', thresh=1).select().count() - df_pyspark.select().count()"
   ]
  },
  {
   "cell_type": "code",
   "execution_count": 27,
   "id": "5c6b1272",
   "metadata": {},
   "outputs": [
    {
     "data": {
      "text/plain": [
       "-68"
      ]
     },
     "execution_count": 27,
     "metadata": {},
     "output_type": "execute_result"
    }
   ],
   "source": [
    "df_pyspark.na.drop(how='any', thresh=3).select().count() - df_pyspark.select().count()"
   ]
  },
  {
   "cell_type": "code",
   "execution_count": null,
   "id": "aa6fb922",
   "metadata": {},
   "outputs": [],
   "source": [
    "# subset, drop NULL (na) values"
   ]
  },
  {
   "cell_type": "code",
   "execution_count": 28,
   "id": "730e78ed",
   "metadata": {},
   "outputs": [
    {
     "data": {
      "text/plain": [
       "-28"
      ]
     },
     "execution_count": 28,
     "metadata": {},
     "output_type": "execute_result"
    }
   ],
   "source": [
    "df_pyspark.na.drop(how='any', subset=['Sex']).select().count() - df_pyspark.select().count()"
   ]
  },
  {
   "cell_type": "code",
   "execution_count": 29,
   "id": "8c6e1f58",
   "metadata": {},
   "outputs": [
    {
     "name": "stdout",
     "output_type": "stream",
     "text": [
      "+------+----+-------+\n",
      "|   Sex| Age|   Fare|\n",
      "+------+----+-------+\n",
      "|  male|  22|   7.25|\n",
      "|female|  26|  7.925|\n",
      "|female|53.1|   null|\n",
      "|  male|   0|      Q|\n",
      "|  male|  54|51.8625|\n",
      "|  male|null|   null|\n",
      "|female|  27|11.1333|\n",
      "|female|   4|   16.7|\n",
      "|female|  58|   null|\n",
      "|  male|  20|   8.05|\n",
      "|female|  14| 7.8542|\n",
      "|female|  16|   null|\n",
      "|  male|   2| 29.125|\n",
      "|female|  31|     18|\n",
      "|female|   0|      C|\n",
      "|  male|  34|     13|\n",
      "|female|  15|   null|\n",
      "|  male|35.5|   null|\n",
      "|female|   8| 21.075|\n",
      "|female|null|   null|\n",
      "+------+----+-------+\n",
      "only showing top 20 rows\n",
      "\n"
     ]
    }
   ],
   "source": [
    "df_pyspark.na.drop(how='any', subset=['Sex']).show()"
   ]
  },
  {
   "cell_type": "code",
   "execution_count": null,
   "id": "60139d28",
   "metadata": {},
   "outputs": [],
   "source": []
  }
 ],
 "metadata": {
  "kernelspec": {
   "display_name": "Python 3",
   "language": "python",
   "name": "python3"
  },
  "language_info": {
   "codemirror_mode": {
    "name": "ipython",
    "version": 3
   },
   "file_extension": ".py",
   "mimetype": "text/x-python",
   "name": "python",
   "nbconvert_exporter": "python",
   "pygments_lexer": "ipython3",
   "version": "3.8.8"
  }
 },
 "nbformat": 4,
 "nbformat_minor": 5
}
